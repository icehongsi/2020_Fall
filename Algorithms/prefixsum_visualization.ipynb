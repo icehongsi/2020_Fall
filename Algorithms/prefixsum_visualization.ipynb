{
 "cells": [
  {
   "cell_type": "code",
   "execution_count": 17,
   "metadata": {},
   "outputs": [],
   "source": [
    "import time, random\n",
    "import matplotlib.pyplot as plt\n",
    "\n",
    "#functions\n",
    "\n",
    "def evaluate_n2(A, x):\n",
    "    result = 0  # initialize result variable\n",
    "    for i in range(len(A)):  # iterate for len(A) times\n",
    "        degree = 1  # initialize default x value as 1\n",
    "        for j in range(i):\n",
    "            degree *= x  # multiply x by iterating i times\n",
    "        result += (A[i] * degree)  # multiply A[i] and degree, then add to the result\n",
    "    return result  # return the result\n",
    "\n",
    "\n",
    "# code for O(n^2)-time function\n",
    "\n",
    "def evaluate_n(A, x):\n",
    "    degree, result = 1, 0  # initialize degree and result\n",
    "    for i in range(len(A)):\n",
    "        result += (A[i] * degree)  # multiply A[i] and degree, then add to the result\n",
    "        degree *= x  # multiply x to degree variable for every loop\n",
    "    return result\n"
   ]
  },
  {
   "cell_type": "code",
   "execution_count": 19,
   "metadata": {},
   "outputs": [
    {
     "name": "stdout",
     "output_type": "stream",
     "text": [
      "1000\n",
      "2000\n",
      "3000\n",
      "4000\n",
      "5000\n",
      "6000\n",
      "7000\n",
      "8000\n",
      "9000\n",
      "10000\n",
      "11000\n",
      "12000\n",
      "13000\n",
      "14000\n",
      "15000\n",
      "16000\n",
      "17000\n",
      "18000\n",
      "19000\n",
      "20000\n"
     ]
    }
   ],
   "source": [
    "# code for O(n)-time function\n",
    "\n",
    "random.seed()  # random 함수 초기화\n",
    "n, n1, n2 = [], [], []\n",
    "\n",
    "\n",
    "for i in range(1000, 100000, 1000):\n",
    "    print(i)\n",
    "    A = [j for j in range(i)]\n",
    "    x = 2\n",
    "    before = time.perf_counter()\n",
    "    evaluate_n2(A, x)\n",
    "    n2.append(time.perf_counter() - before)\n",
    "\n",
    "    before = time.perf_counter()\n",
    "    evaluate_n(A, x)\n",
    "    n1.append(time.perf_counter() - before)\n",
    "    n.append(i)\n",
    "    \n",
    "    if n2[-1] > 60: break"
   ]
  },
  {
   "cell_type": "code",
   "execution_count": 21,
   "metadata": {},
   "outputs": [
    {
     "data": {
      "image/png": "[encoded data removed]",
      "text/plain": [
       "<Figure size 432x288 with 1 Axes>"
      ]
     },
     "metadata": {
      "needs_background": "light"
     },
     "output_type": "display_data"
    }
   ],
   "source": [
    "%matplotlib inline\n",
    "\n",
    "plt.plot(n, n1) #linear\n",
    "plt.plot(n, n2) #quadratic\n",
    "plt.xlabel(\"n\")\n",
    "plt.ylabel(\"Elapsed Time (Unit: second)\")\n",
    "plt.legend([\"Linear\", \"Quadratic\"])\n",
    "plt.show()\n"
   ]
  },
  {
   "cell_type": "code",
   "execution_count": 22,
   "metadata": {},
   "outputs": [
    {
     "data": {
      "text/plain": [
       "[0.00020780000022568856,\n",
       " 0.0005006000001230859,\n",
       " 0.0009390000000166765,\n",
       " 0.0014198999997461215,\n",
       " 0.002267600000323,\n",
       " 0.003086599999733153,\n",
       " 0.004137299999911193,\n",
       " 0.004995100000087405,\n",
       " 0.006075700000110373,\n",
       " 0.00807699999995748,\n",
       " 0.008443400000032852,\n",
       " 0.009816500000397355,\n",
       " 0.012007199999970908,\n",
       " 0.012900999999601481,\n",
       " 0.014276200000040262,\n",
       " 0.01632870000003095,\n",
       " 0.017589999999927386,\n",
       " 0.01938190000009854,\n",
       " 0.021309499999915715,\n",
       " 0.023338699999840173]"
      ]
     },
     "execution_count": 22,
     "metadata": {},
     "output_type": "execute_result"
    }
   ],
   "source": [
    "n1"
   ]
  },
  {
   "cell_type": "code",
   "execution_count": 23,
   "metadata": {},
   "outputs": [
    {
     "data": {
      "text/plain": [
       "[0.03462790000003224,\n",
       " 0.16398199999957797,\n",
       " 0.4271657999997842,\n",
       " 0.8609062000000449,\n",
       " 1.5359431000001678,\n",
       " 2.4999998999996933,\n",
       " 3.8204107000001386,\n",
       " 5.560623300000316,\n",
       " 7.548157900000206,\n",
       " 10.067637300000115,\n",
       " 13.143055200000163,\n",
       " 16.286475599999903,\n",
       " 20.28653499999973,\n",
       " 24.53865840000026,\n",
       " 29.81761719999986,\n",
       " 35.45786429999998,\n",
       " 41.25217120000025,\n",
       " 47.89711469999975,\n",
       " 55.436169600000085,\n",
       " 63.46261709999999]"
      ]
     },
     "execution_count": 23,
     "metadata": {},
     "output_type": "execute_result"
    }
   ],
   "source": [
    "n2"
   ]
  },
  {
   "cell_type": "code",
   "execution_count": null,
   "metadata": {},
   "outputs": [],
   "source": []
  }
 ],
 "metadata": {
  "kernelspec": {
   "display_name": "Python 3",
   "language": "python",
   "name": "python3"
  },
  "language_info": {
   "codemirror_mode": {
    "name": "ipython",
    "version": 3
   },
   "file_extension": ".py",
   "mimetype": "text/x-python",
   "name": "python",
   "nbconvert_exporter": "python",
   "pygments_lexer": "ipython3",
   "version": "3.7.6"
  }
 },
 "nbformat": 4,
 "nbformat_minor": 4
}
