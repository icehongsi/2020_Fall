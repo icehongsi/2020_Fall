{
 "cells": [
  {
   "cell_type": "markdown",
   "metadata": {
    "id": "cGbn68fuu5u8"
   },
   "source": [
    "# Relational Algebra Opeartors"
   ]
  },
  {
   "cell_type": "markdown",
   "metadata": {
    "id": "pUDDFn7eu5u9"
   },
   "source": [
    "***This jupyter notebook and all the codes are written by Kirack Sohn and copyrighted!***"
   ]
  },
  {
   "cell_type": "markdown",
   "metadata": {
    "id": "P1PmB-Q2u5u9"
   },
   "source": [
    "## DB setup"
   ]
  },
  {
   "cell_type": "code",
   "execution_count": 1,
   "metadata": {
    "id": "9LZeWDA7u5u-"
   },
   "outputs": [],
   "source": [
    "EMPLOYEE_csv = 'Fname,Minit,Lname,Ssn,Bdate,Address,Sex,Salary,Superssn,Dno\\r\\nJohn,B,Smith,123456789,1965-01-09,731-Fondren-Houston-TX,M,30000.00,333445555,5\\r\\nFranklin,T,Wong,333445555,1955-12-08,638-Voss-Houston-TX,M,40000.00,888665555,5\\r\\nJoyce,A,English,453453453,1972-07-31,5631-Rice-Houston-TX,F,25000.00,333445555,5\\r\\nRamesh,K,Narayan,666884444,1962-09-15,975-Fire-Oak-Humble-TX,M,38000.00,333445555,5\\r\\nJames,E,Borg,888665555,1937-11-10,450-Stone-Houston-TX,M,55000.00,,1\\r\\nJennifer,S,Wallace,987654321,1941-06-20,291-Berry-Bellaire-TX,F,43000.00,888665555,4\\r\\nAhmad,V,Jabbar,987987987,1969-03-29,980-Dallas-Houston-TX,M,25000.00,987654321,4\\r\\nAlicia,J,Zelaya,999887777,1968-01-19,3321-Castle-Spring-TX,F,25000.00,987654321,4\\r\\n'\n",
    "DEPARTMENT_csv = 'Dname,Dnumber,Mgrssn,Mgrstartdate\\r\\nHeadquarters,1,888665555,1981-06-19\\r\\nAdministration,4,987654321,1995-01-01\\r\\nResearch,5,333445555,1988-05-22\\r\\n'\n",
    "DEPT_LOCATIONS_csv = 'Dnumber,Dlocation\\r\\n1,Houston\\r\\n4,Stafford\\r\\n5,Bellaire\\r\\n5,Houston\\r\\n5,Sugarland\\r\\n'\n",
    "PROJECT_csv = 'Pname,Pnumber,Plocation,Dnum\\r\\nProductX,1,Bellaire,5\\r\\nProductY,2,Sugarland,5\\r\\nProductZ,3,Houston,5\\r\\nComputerization,10,Stafford,4\\r\\nReorganization,20,Houston,1\\r\\nNewbenefits,30,Stafford,4\\r\\n'\n",
    "WORKS_ON_csv = 'Essn,Pno,Hours\\r\\n123456789,1,32.5\\r\\n123456789,2,7.5\\r\\n333445555,2,10.0\\r\\n333445555,3,10.0\\r\\n333445555,10,10.0\\r\\n333445555,20,10.0\\r\\n453453453,1,20.0\\r\\n453453453,2,20.0\\r\\n666884444,3,40.0\\r\\n888665555,20,\\r\\n987654321,20,15.0\\r\\n987654321,30,20.0\\r\\n987987987,10,35.0\\r\\n987987987,30,5.0\\r\\n999887777,10,10.0\\r\\n999887777,30,30.0\\r\\n'\n",
    "DEPENDENT_csv = 'Essn,Dependent_name,Sex,Bdate,Relationship\\r\\n123456789,Alice,F,1988-12-30,Daughter\\r\\n123456789,Elizabeth,F,1967-05-05,Spouse\\r\\n123456789,Michael,M,1988-01-04,Son\\r\\n333445555,Alice,F,1986-04-05,Daughter\\r\\n333445555,Joy,F,1958-05-03,Spouse\\r\\n333445555,Theodore,M,1983-10-25,Son\\r\\n987654321,Abner,M,1942-02-28,Spouse\\r\\n'\n",
    "\n",
    "# import packages\n",
    "\n",
    "import pandas as pd\n",
    "from io import StringIO \n",
    "import re\n",
    "\n",
    "# Tables\n",
    "EMPLOYEE = pd.read_csv(StringIO(EMPLOYEE_csv))\n",
    "DEPARTMENT = pd.read_csv(StringIO(DEPARTMENT_csv))\n",
    "DEPT_LOCATIONS = pd.read_csv(StringIO(DEPT_LOCATIONS_csv))\n",
    "PROJECT = pd.read_csv(StringIO(PROJECT_csv))\n",
    "WORKS_ON = pd.read_csv(StringIO(WORKS_ON_csv))\n",
    "DEPENDENT = pd.read_csv(StringIO(DEPENDENT_csv))\n",
    "\n",
    "# short_names for Tables\n",
    "E = EMPLOYEE\n",
    "D = DEPARTMENT\n",
    "DL = DEPT_LOCATIONS\n",
    "P = PROJECT\n",
    "WO = WORKS_ON\n",
    "DE = DEPENDENT"
   ]
  },
  {
   "cell_type": "markdown",
   "metadata": {
    "id": "zEssPTTLu5vB"
   },
   "source": [
    "## Renaming"
   ]
  },
  {
   "cell_type": "code",
   "execution_count": 2,
   "metadata": {
    "id": "odM0O92gu5vB"
   },
   "outputs": [],
   "source": [
    "def rename(R, C):\n",
    "    return R.rename(columns=C)"
   ]
  },
  {
   "cell_type": "markdown",
   "metadata": {
    "id": "WQhk1AtCu5vD"
   },
   "source": [
    "### Renaming Examples\n",
    "\n",
    "- Rename Pnumber to Pno\n",
    "- Note that P is NOT changed"
   ]
  },
  {
   "cell_type": "code",
   "execution_count": 3,
   "metadata": {
    "colab": {
     "base_uri": "https://localhost:8080/",
     "height": 235
    },
    "id": "psR7_8vWjs2r",
    "outputId": "19e05043-354d-48f8-fd85-bb8588c570a6"
   },
   "outputs": [
    {
     "data": {
      "text/html": [
       "<div>\n",
       "<style scoped>\n",
       "    .dataframe tbody tr th:only-of-type {\n",
       "        vertical-align: middle;\n",
       "    }\n",
       "\n",
       "    .dataframe tbody tr th {\n",
       "        vertical-align: top;\n",
       "    }\n",
       "\n",
       "    .dataframe thead th {\n",
       "        text-align: right;\n",
       "    }\n",
       "</style>\n",
       "<table border=\"1\" class=\"dataframe\">\n",
       "  <thead>\n",
       "    <tr style=\"text-align: right;\">\n",
       "      <th></th>\n",
       "      <th>Pname</th>\n",
       "      <th>Pnumber</th>\n",
       "      <th>Plocation</th>\n",
       "      <th>Dnum</th>\n",
       "    </tr>\n",
       "  </thead>\n",
       "  <tbody>\n",
       "    <tr>\n",
       "      <th>0</th>\n",
       "      <td>ProductX</td>\n",
       "      <td>1</td>\n",
       "      <td>Bellaire</td>\n",
       "      <td>5</td>\n",
       "    </tr>\n",
       "    <tr>\n",
       "      <th>1</th>\n",
       "      <td>ProductY</td>\n",
       "      <td>2</td>\n",
       "      <td>Sugarland</td>\n",
       "      <td>5</td>\n",
       "    </tr>\n",
       "    <tr>\n",
       "      <th>2</th>\n",
       "      <td>ProductZ</td>\n",
       "      <td>3</td>\n",
       "      <td>Houston</td>\n",
       "      <td>5</td>\n",
       "    </tr>\n",
       "    <tr>\n",
       "      <th>3</th>\n",
       "      <td>Computerization</td>\n",
       "      <td>10</td>\n",
       "      <td>Stafford</td>\n",
       "      <td>4</td>\n",
       "    </tr>\n",
       "    <tr>\n",
       "      <th>4</th>\n",
       "      <td>Reorganization</td>\n",
       "      <td>20</td>\n",
       "      <td>Houston</td>\n",
       "      <td>1</td>\n",
       "    </tr>\n",
       "    <tr>\n",
       "      <th>5</th>\n",
       "      <td>Newbenefits</td>\n",
       "      <td>30</td>\n",
       "      <td>Stafford</td>\n",
       "      <td>4</td>\n",
       "    </tr>\n",
       "  </tbody>\n",
       "</table>\n",
       "</div>"
      ],
      "text/plain": [
       "             Pname  Pnumber  Plocation  Dnum\n",
       "0         ProductX        1   Bellaire     5\n",
       "1         ProductY        2  Sugarland     5\n",
       "2         ProductZ        3    Houston     5\n",
       "3  Computerization       10   Stafford     4\n",
       "4   Reorganization       20    Houston     1\n",
       "5      Newbenefits       30   Stafford     4"
      ]
     },
     "execution_count": 3,
     "metadata": {},
     "output_type": "execute_result"
    }
   ],
   "source": [
    "P"
   ]
  },
  {
   "cell_type": "code",
   "execution_count": 4,
   "metadata": {
    "colab": {
     "base_uri": "https://localhost:8080/",
     "height": 204
    },
    "id": "lEF6uHKHjylc",
    "outputId": "6d292574-b5fa-463d-f4ca-2c4548ccab64"
   },
   "outputs": [
    {
     "name": "stdout",
     "output_type": "stream",
     "text": [
      "<class 'pandas.core.frame.DataFrame'>\n",
      "RangeIndex: 6 entries, 0 to 5\n",
      "Data columns (total 4 columns):\n",
      " #   Column     Non-Null Count  Dtype \n",
      "---  ------     --------------  ----- \n",
      " 0   Pname      6 non-null      object\n",
      " 1   Pnumber    6 non-null      int64 \n",
      " 2   Plocation  6 non-null      object\n",
      " 3   Dnum       6 non-null      int64 \n",
      "dtypes: int64(2), object(2)\n",
      "memory usage: 320.0+ bytes\n"
     ]
    }
   ],
   "source": [
    "P.info()"
   ]
  },
  {
   "cell_type": "code",
   "execution_count": null,
   "metadata": {
    "colab": {
     "base_uri": "https://localhost:8080/",
     "height": 235
    },
    "id": "9PO6KApqu5vE",
    "outputId": "af76f3b4-9fd3-4c3b-cc22-3b7b8dd66819"
   },
   "outputs": [
    {
     "data": {
      "text/html": [
       "<div>\n",
       "<style scoped>\n",
       "    .dataframe tbody tr th:only-of-type {\n",
       "        vertical-align: middle;\n",
       "    }\n",
       "\n",
       "    .dataframe tbody tr th {\n",
       "        vertical-align: top;\n",
       "    }\n",
       "\n",
       "    .dataframe thead th {\n",
       "        text-align: right;\n",
       "    }\n",
       "</style>\n",
       "<table border=\"1\" class=\"dataframe\">\n",
       "  <thead>\n",
       "    <tr style=\"text-align: right;\">\n",
       "      <th></th>\n",
       "      <th>Pname</th>\n",
       "      <th>Pno</th>\n",
       "      <th>Plocation</th>\n",
       "      <th>Dnum</th>\n",
       "    </tr>\n",
       "  </thead>\n",
       "  <tbody>\n",
       "    <tr>\n",
       "      <th>0</th>\n",
       "      <td>ProductX</td>\n",
       "      <td>1</td>\n",
       "      <td>Bellaire</td>\n",
       "      <td>5</td>\n",
       "    </tr>\n",
       "    <tr>\n",
       "      <th>1</th>\n",
       "      <td>ProductY</td>\n",
       "      <td>2</td>\n",
       "      <td>Sugarland</td>\n",
       "      <td>5</td>\n",
       "    </tr>\n",
       "    <tr>\n",
       "      <th>2</th>\n",
       "      <td>ProductZ</td>\n",
       "      <td>3</td>\n",
       "      <td>Houston</td>\n",
       "      <td>5</td>\n",
       "    </tr>\n",
       "    <tr>\n",
       "      <th>3</th>\n",
       "      <td>Computerization</td>\n",
       "      <td>10</td>\n",
       "      <td>Stafford</td>\n",
       "      <td>4</td>\n",
       "    </tr>\n",
       "    <tr>\n",
       "      <th>4</th>\n",
       "      <td>Reorganization</td>\n",
       "      <td>20</td>\n",
       "      <td>Houston</td>\n",
       "      <td>1</td>\n",
       "    </tr>\n",
       "    <tr>\n",
       "      <th>5</th>\n",
       "      <td>Newbenefits</td>\n",
       "      <td>30</td>\n",
       "      <td>Stafford</td>\n",
       "      <td>4</td>\n",
       "    </tr>\n",
       "  </tbody>\n",
       "</table>\n",
       "</div>"
      ],
      "text/plain": [
       "             Pname  Pno  Plocation  Dnum\n",
       "0         ProductX    1   Bellaire     5\n",
       "1         ProductY    2  Sugarland     5\n",
       "2         ProductZ    3    Houston     5\n",
       "3  Computerization   10   Stafford     4\n",
       "4   Reorganization   20    Houston     1\n",
       "5      Newbenefits   30   Stafford     4"
      ]
     },
     "execution_count": 7,
     "metadata": {
      "tags": []
     },
     "output_type": "execute_result"
    }
   ],
   "source": [
    "rename(P, {'Pnumber':'Pno'})"
   ]
  },
  {
   "cell_type": "code",
   "execution_count": null,
   "metadata": {
    "colab": {
     "base_uri": "https://localhost:8080/",
     "height": 235
    },
    "id": "3z-LobxFu5vH",
    "outputId": "a59fa349-d2ab-42cc-8df0-6c0c537a1db9"
   },
   "outputs": [
    {
     "data": {
      "text/html": [
       "<div>\n",
       "<style scoped>\n",
       "    .dataframe tbody tr th:only-of-type {\n",
       "        vertical-align: middle;\n",
       "    }\n",
       "\n",
       "    .dataframe tbody tr th {\n",
       "        vertical-align: top;\n",
       "    }\n",
       "\n",
       "    .dataframe thead th {\n",
       "        text-align: right;\n",
       "    }\n",
       "</style>\n",
       "<table border=\"1\" class=\"dataframe\">\n",
       "  <thead>\n",
       "    <tr style=\"text-align: right;\">\n",
       "      <th></th>\n",
       "      <th>Pname</th>\n",
       "      <th>Pno</th>\n",
       "      <th>Plocation</th>\n",
       "      <th>Dno</th>\n",
       "    </tr>\n",
       "  </thead>\n",
       "  <tbody>\n",
       "    <tr>\n",
       "      <th>0</th>\n",
       "      <td>ProductX</td>\n",
       "      <td>1</td>\n",
       "      <td>Bellaire</td>\n",
       "      <td>5</td>\n",
       "    </tr>\n",
       "    <tr>\n",
       "      <th>1</th>\n",
       "      <td>ProductY</td>\n",
       "      <td>2</td>\n",
       "      <td>Sugarland</td>\n",
       "      <td>5</td>\n",
       "    </tr>\n",
       "    <tr>\n",
       "      <th>2</th>\n",
       "      <td>ProductZ</td>\n",
       "      <td>3</td>\n",
       "      <td>Houston</td>\n",
       "      <td>5</td>\n",
       "    </tr>\n",
       "    <tr>\n",
       "      <th>3</th>\n",
       "      <td>Computerization</td>\n",
       "      <td>10</td>\n",
       "      <td>Stafford</td>\n",
       "      <td>4</td>\n",
       "    </tr>\n",
       "    <tr>\n",
       "      <th>4</th>\n",
       "      <td>Reorganization</td>\n",
       "      <td>20</td>\n",
       "      <td>Houston</td>\n",
       "      <td>1</td>\n",
       "    </tr>\n",
       "    <tr>\n",
       "      <th>5</th>\n",
       "      <td>Newbenefits</td>\n",
       "      <td>30</td>\n",
       "      <td>Stafford</td>\n",
       "      <td>4</td>\n",
       "    </tr>\n",
       "  </tbody>\n",
       "</table>\n",
       "</div>"
      ],
      "text/plain": [
       "             Pname  Pno  Plocation  Dno\n",
       "0         ProductX    1   Bellaire    5\n",
       "1         ProductY    2  Sugarland    5\n",
       "2         ProductZ    3    Houston    5\n",
       "3  Computerization   10   Stafford    4\n",
       "4   Reorganization   20    Houston    1\n",
       "5      Newbenefits   30   Stafford    4"
      ]
     },
     "execution_count": 8,
     "metadata": {
      "tags": []
     },
     "output_type": "execute_result"
    }
   ],
   "source": [
    "rename(P, {'Pnumber':'Pno', 'Dnum': 'Dno'})"
   ]
  },
  {
   "cell_type": "code",
   "execution_count": null,
   "metadata": {
    "colab": {
     "base_uri": "https://localhost:8080/",
     "height": 235
    },
    "id": "9fjC1lQqu5vJ",
    "outputId": "6923c639-3312-4719-dc0b-b27712050f1c"
   },
   "outputs": [
    {
     "data": {
      "text/html": [
       "<div>\n",
       "<style scoped>\n",
       "    .dataframe tbody tr th:only-of-type {\n",
       "        vertical-align: middle;\n",
       "    }\n",
       "\n",
       "    .dataframe tbody tr th {\n",
       "        vertical-align: top;\n",
       "    }\n",
       "\n",
       "    .dataframe thead th {\n",
       "        text-align: right;\n",
       "    }\n",
       "</style>\n",
       "<table border=\"1\" class=\"dataframe\">\n",
       "  <thead>\n",
       "    <tr style=\"text-align: right;\">\n",
       "      <th></th>\n",
       "      <th>Pname</th>\n",
       "      <th>Pnumber</th>\n",
       "      <th>Plocation</th>\n",
       "      <th>Dnum</th>\n",
       "    </tr>\n",
       "  </thead>\n",
       "  <tbody>\n",
       "    <tr>\n",
       "      <th>0</th>\n",
       "      <td>ProductX</td>\n",
       "      <td>1</td>\n",
       "      <td>Bellaire</td>\n",
       "      <td>5</td>\n",
       "    </tr>\n",
       "    <tr>\n",
       "      <th>1</th>\n",
       "      <td>ProductY</td>\n",
       "      <td>2</td>\n",
       "      <td>Sugarland</td>\n",
       "      <td>5</td>\n",
       "    </tr>\n",
       "    <tr>\n",
       "      <th>2</th>\n",
       "      <td>ProductZ</td>\n",
       "      <td>3</td>\n",
       "      <td>Houston</td>\n",
       "      <td>5</td>\n",
       "    </tr>\n",
       "    <tr>\n",
       "      <th>3</th>\n",
       "      <td>Computerization</td>\n",
       "      <td>10</td>\n",
       "      <td>Stafford</td>\n",
       "      <td>4</td>\n",
       "    </tr>\n",
       "    <tr>\n",
       "      <th>4</th>\n",
       "      <td>Reorganization</td>\n",
       "      <td>20</td>\n",
       "      <td>Houston</td>\n",
       "      <td>1</td>\n",
       "    </tr>\n",
       "    <tr>\n",
       "      <th>5</th>\n",
       "      <td>Newbenefits</td>\n",
       "      <td>30</td>\n",
       "      <td>Stafford</td>\n",
       "      <td>4</td>\n",
       "    </tr>\n",
       "  </tbody>\n",
       "</table>\n",
       "</div>"
      ],
      "text/plain": [
       "             Pname  Pnumber  Plocation  Dnum\n",
       "0         ProductX        1   Bellaire     5\n",
       "1         ProductY        2  Sugarland     5\n",
       "2         ProductZ        3    Houston     5\n",
       "3  Computerization       10   Stafford     4\n",
       "4   Reorganization       20    Houston     1\n",
       "5      Newbenefits       30   Stafford     4"
      ]
     },
     "execution_count": 9,
     "metadata": {
      "tags": []
     },
     "output_type": "execute_result"
    }
   ],
   "source": [
    "# Note that P is unchnaged\n",
    "P"
   ]
  },
  {
   "cell_type": "code",
   "execution_count": null,
   "metadata": {
    "colab": {
     "base_uri": "https://localhost:8080/",
     "height": 204
    },
    "id": "kvC2Ov3LbYCG",
    "outputId": "c25647f8-4b7f-4db4-f13e-583ff5cfacdb"
   },
   "outputs": [
    {
     "name": "stdout",
     "output_type": "stream",
     "text": [
      "<class 'pandas.core.frame.DataFrame'>\n",
      "RangeIndex: 6 entries, 0 to 5\n",
      "Data columns (total 4 columns):\n",
      " #   Column     Non-Null Count  Dtype \n",
      "---  ------     --------------  ----- \n",
      " 0   Pname      6 non-null      object\n",
      " 1   Pnumber    6 non-null      int64 \n",
      " 2   Plocation  6 non-null      object\n",
      " 3   Dnum       6 non-null      int64 \n",
      "dtypes: int64(2), object(2)\n",
      "memory usage: 320.0+ bytes\n"
     ]
    }
   ],
   "source": [
    "P.info()"
   ]
  },
  {
   "cell_type": "markdown",
   "metadata": {
    "id": "UUX6KWz5u5vL"
   },
   "source": [
    "## Selection\n",
    "\n",
    "- logical operator: &, |, ~ (and, or, not)\n",
    "- arithmetic operators: >, <, >=, <=, ==, !=\n",
    "- data types: String, Numbers, Date as String\n",
    "- Date Format: 2020-10-01"
   ]
  },
  {
   "cell_type": "code",
   "execution_count": 5,
   "metadata": {
    "id": "RIc4K00tu5vM"
   },
   "outputs": [],
   "source": [
    "def select(R, C):\n",
    "    # The following substitution may NOT work \n",
    "    # when column name is equal to a string value in C\n",
    "    tokens = re.split(r'(\\W+)', C)\n",
    "    new_tokens = [\"R.\" + token  if token in R.columns else token \\\n",
    "                  for token in tokens] \n",
    "    selected = eval(''.join(new_tokens))\n",
    "    return R[selected].reset_index(drop=True)"
   ]
  },
  {
   "cell_type": "markdown",
   "metadata": {
    "id": "Qw4WBYZXu5vO"
   },
   "source": [
    "### Selection Examples\n",
    "\n",
    "- Condition as String"
   ]
  },
  {
   "cell_type": "code",
   "execution_count": 6,
   "metadata": {
    "colab": {
     "base_uri": "https://localhost:8080/",
     "height": 80
    },
    "id": "Xl6QLYYEu5vP",
    "outputId": "75f5be6f-2d5d-4e7a-94a3-6574c06a8205"
   },
   "outputs": [
    {
     "data": {
      "text/html": [
       "<div>\n",
       "<style scoped>\n",
       "    .dataframe tbody tr th:only-of-type {\n",
       "        vertical-align: middle;\n",
       "    }\n",
       "\n",
       "    .dataframe tbody tr th {\n",
       "        vertical-align: top;\n",
       "    }\n",
       "\n",
       "    .dataframe thead th {\n",
       "        text-align: right;\n",
       "    }\n",
       "</style>\n",
       "<table border=\"1\" class=\"dataframe\">\n",
       "  <thead>\n",
       "    <tr style=\"text-align: right;\">\n",
       "      <th></th>\n",
       "      <th>Dname</th>\n",
       "      <th>Dnumber</th>\n",
       "      <th>Mgrssn</th>\n",
       "      <th>Mgrstartdate</th>\n",
       "    </tr>\n",
       "  </thead>\n",
       "  <tbody>\n",
       "    <tr>\n",
       "      <th>0</th>\n",
       "      <td>Headquarters</td>\n",
       "      <td>1</td>\n",
       "      <td>888665555</td>\n",
       "      <td>1981-06-19</td>\n",
       "    </tr>\n",
       "  </tbody>\n",
       "</table>\n",
       "</div>"
      ],
      "text/plain": [
       "          Dname  Dnumber     Mgrssn Mgrstartdate\n",
       "0  Headquarters        1  888665555   1981-06-19"
      ]
     },
     "execution_count": 6,
     "metadata": {},
     "output_type": "execute_result"
    }
   ],
   "source": [
    "select(D, \"Dname == 'Headquarters'\")"
   ]
  },
  {
   "cell_type": "code",
   "execution_count": 7,
   "metadata": {
    "colab": {
     "base_uri": "https://localhost:8080/",
     "height": 111
    },
    "id": "V1gDdNXYu5vR",
    "outputId": "a7544ba4-d0e4-4cde-8355-47c3a9307e1a"
   },
   "outputs": [
    {
     "data": {
      "text/html": [
       "<div>\n",
       "<style scoped>\n",
       "    .dataframe tbody tr th:only-of-type {\n",
       "        vertical-align: middle;\n",
       "    }\n",
       "\n",
       "    .dataframe tbody tr th {\n",
       "        vertical-align: top;\n",
       "    }\n",
       "\n",
       "    .dataframe thead th {\n",
       "        text-align: right;\n",
       "    }\n",
       "</style>\n",
       "<table border=\"1\" class=\"dataframe\">\n",
       "  <thead>\n",
       "    <tr style=\"text-align: right;\">\n",
       "      <th></th>\n",
       "      <th>Dname</th>\n",
       "      <th>Dnumber</th>\n",
       "      <th>Mgrssn</th>\n",
       "      <th>Mgrstartdate</th>\n",
       "    </tr>\n",
       "  </thead>\n",
       "  <tbody>\n",
       "    <tr>\n",
       "      <th>0</th>\n",
       "      <td>Headquarters</td>\n",
       "      <td>1</td>\n",
       "      <td>888665555</td>\n",
       "      <td>1981-06-19</td>\n",
       "    </tr>\n",
       "    <tr>\n",
       "      <th>1</th>\n",
       "      <td>Administration</td>\n",
       "      <td>4</td>\n",
       "      <td>987654321</td>\n",
       "      <td>1995-01-01</td>\n",
       "    </tr>\n",
       "  </tbody>\n",
       "</table>\n",
       "</div>"
      ],
      "text/plain": [
       "            Dname  Dnumber     Mgrssn Mgrstartdate\n",
       "0    Headquarters        1  888665555   1981-06-19\n",
       "1  Administration        4  987654321   1995-01-01"
      ]
     },
     "execution_count": 7,
     "metadata": {},
     "output_type": "execute_result"
    }
   ],
   "source": [
    "select(D, \"(Dnumber == 1) | (Dnumber == 4)\")"
   ]
  },
  {
   "cell_type": "markdown",
   "metadata": {
    "id": "p5eMtLBpu5vT"
   },
   "source": [
    "- Note parenthesis enclosing comparison expression due to operator precedence"
   ]
  },
  {
   "cell_type": "code",
   "execution_count": 8,
   "metadata": {
    "colab": {
     "base_uri": "https://localhost:8080/",
     "height": 111
    },
    "id": "uSfA05u1u5vT",
    "outputId": "2d3416d6-013c-4460-da22-6c3eca968bf6",
    "scrolled": true
   },
   "outputs": [
    {
     "data": {
      "text/html": [
       "<div>\n",
       "<style scoped>\n",
       "    .dataframe tbody tr th:only-of-type {\n",
       "        vertical-align: middle;\n",
       "    }\n",
       "\n",
       "    .dataframe tbody tr th {\n",
       "        vertical-align: top;\n",
       "    }\n",
       "\n",
       "    .dataframe thead th {\n",
       "        text-align: right;\n",
       "    }\n",
       "</style>\n",
       "<table border=\"1\" class=\"dataframe\">\n",
       "  <thead>\n",
       "    <tr style=\"text-align: right;\">\n",
       "      <th></th>\n",
       "      <th>Fname</th>\n",
       "      <th>Minit</th>\n",
       "      <th>Lname</th>\n",
       "      <th>Ssn</th>\n",
       "      <th>Bdate</th>\n",
       "      <th>Address</th>\n",
       "      <th>Sex</th>\n",
       "      <th>Salary</th>\n",
       "      <th>Superssn</th>\n",
       "      <th>Dno</th>\n",
       "    </tr>\n",
       "  </thead>\n",
       "  <tbody>\n",
       "    <tr>\n",
       "      <th>0</th>\n",
       "      <td>Franklin</td>\n",
       "      <td>T</td>\n",
       "      <td>Wong</td>\n",
       "      <td>333445555</td>\n",
       "      <td>1955-12-08</td>\n",
       "      <td>638-Voss-Houston-TX</td>\n",
       "      <td>M</td>\n",
       "      <td>40000.0</td>\n",
       "      <td>888665555.0</td>\n",
       "      <td>5</td>\n",
       "    </tr>\n",
       "    <tr>\n",
       "      <th>1</th>\n",
       "      <td>Ramesh</td>\n",
       "      <td>K</td>\n",
       "      <td>Narayan</td>\n",
       "      <td>666884444</td>\n",
       "      <td>1962-09-15</td>\n",
       "      <td>975-Fire-Oak-Humble-TX</td>\n",
       "      <td>M</td>\n",
       "      <td>38000.0</td>\n",
       "      <td>333445555.0</td>\n",
       "      <td>5</td>\n",
       "    </tr>\n",
       "  </tbody>\n",
       "</table>\n",
       "</div>"
      ],
      "text/plain": [
       "      Fname Minit    Lname        Ssn       Bdate                 Address Sex  \\\n",
       "0  Franklin     T     Wong  333445555  1955-12-08     638-Voss-Houston-TX   M   \n",
       "1    Ramesh     K  Narayan  666884444  1962-09-15  975-Fire-Oak-Humble-TX   M   \n",
       "\n",
       "    Salary     Superssn  Dno  \n",
       "0  40000.0  888665555.0    5  \n",
       "1  38000.0  333445555.0    5  "
      ]
     },
     "execution_count": 8,
     "metadata": {},
     "output_type": "execute_result"
    }
   ],
   "source": [
    "select(E, \"(Salary >= 35000) & (Salary <= 40000)\")"
   ]
  },
  {
   "cell_type": "markdown",
   "metadata": {
    "id": "QjiJ-GvQu5vW"
   },
   "source": [
    "Note that comparison is not date comparison, but string comparison"
   ]
  },
  {
   "cell_type": "code",
   "execution_count": 9,
   "metadata": {
    "colab": {
     "base_uri": "https://localhost:8080/",
     "height": 204
    },
    "id": "qUnUUCqsu5vW",
    "outputId": "958a2e19-5f44-473b-cfb1-6ec2dd610ede"
   },
   "outputs": [
    {
     "data": {
      "text/html": [
       "<div>\n",
       "<style scoped>\n",
       "    .dataframe tbody tr th:only-of-type {\n",
       "        vertical-align: middle;\n",
       "    }\n",
       "\n",
       "    .dataframe tbody tr th {\n",
       "        vertical-align: top;\n",
       "    }\n",
       "\n",
       "    .dataframe thead th {\n",
       "        text-align: right;\n",
       "    }\n",
       "</style>\n",
       "<table border=\"1\" class=\"dataframe\">\n",
       "  <thead>\n",
       "    <tr style=\"text-align: right;\">\n",
       "      <th></th>\n",
       "      <th>Fname</th>\n",
       "      <th>Minit</th>\n",
       "      <th>Lname</th>\n",
       "      <th>Ssn</th>\n",
       "      <th>Bdate</th>\n",
       "      <th>Address</th>\n",
       "      <th>Sex</th>\n",
       "      <th>Salary</th>\n",
       "      <th>Superssn</th>\n",
       "      <th>Dno</th>\n",
       "    </tr>\n",
       "  </thead>\n",
       "  <tbody>\n",
       "    <tr>\n",
       "      <th>0</th>\n",
       "      <td>John</td>\n",
       "      <td>B</td>\n",
       "      <td>Smith</td>\n",
       "      <td>123456789</td>\n",
       "      <td>1965-01-09</td>\n",
       "      <td>731-Fondren-Houston-TX</td>\n",
       "      <td>M</td>\n",
       "      <td>30000.0</td>\n",
       "      <td>333445555.0</td>\n",
       "      <td>5</td>\n",
       "    </tr>\n",
       "    <tr>\n",
       "      <th>1</th>\n",
       "      <td>Joyce</td>\n",
       "      <td>A</td>\n",
       "      <td>English</td>\n",
       "      <td>453453453</td>\n",
       "      <td>1972-07-31</td>\n",
       "      <td>5631-Rice-Houston-TX</td>\n",
       "      <td>F</td>\n",
       "      <td>25000.0</td>\n",
       "      <td>333445555.0</td>\n",
       "      <td>5</td>\n",
       "    </tr>\n",
       "    <tr>\n",
       "      <th>2</th>\n",
       "      <td>Ramesh</td>\n",
       "      <td>K</td>\n",
       "      <td>Narayan</td>\n",
       "      <td>666884444</td>\n",
       "      <td>1962-09-15</td>\n",
       "      <td>975-Fire-Oak-Humble-TX</td>\n",
       "      <td>M</td>\n",
       "      <td>38000.0</td>\n",
       "      <td>333445555.0</td>\n",
       "      <td>5</td>\n",
       "    </tr>\n",
       "    <tr>\n",
       "      <th>3</th>\n",
       "      <td>Ahmad</td>\n",
       "      <td>V</td>\n",
       "      <td>Jabbar</td>\n",
       "      <td>987987987</td>\n",
       "      <td>1969-03-29</td>\n",
       "      <td>980-Dallas-Houston-TX</td>\n",
       "      <td>M</td>\n",
       "      <td>25000.0</td>\n",
       "      <td>987654321.0</td>\n",
       "      <td>4</td>\n",
       "    </tr>\n",
       "    <tr>\n",
       "      <th>4</th>\n",
       "      <td>Alicia</td>\n",
       "      <td>J</td>\n",
       "      <td>Zelaya</td>\n",
       "      <td>999887777</td>\n",
       "      <td>1968-01-19</td>\n",
       "      <td>3321-Castle-Spring-TX</td>\n",
       "      <td>F</td>\n",
       "      <td>25000.0</td>\n",
       "      <td>987654321.0</td>\n",
       "      <td>4</td>\n",
       "    </tr>\n",
       "  </tbody>\n",
       "</table>\n",
       "</div>"
      ],
      "text/plain": [
       "    Fname Minit    Lname        Ssn       Bdate                 Address Sex  \\\n",
       "0    John     B    Smith  123456789  1965-01-09  731-Fondren-Houston-TX   M   \n",
       "1   Joyce     A  English  453453453  1972-07-31    5631-Rice-Houston-TX   F   \n",
       "2  Ramesh     K  Narayan  666884444  1962-09-15  975-Fire-Oak-Humble-TX   M   \n",
       "3   Ahmad     V   Jabbar  987987987  1969-03-29   980-Dallas-Houston-TX   M   \n",
       "4  Alicia     J   Zelaya  999887777  1968-01-19   3321-Castle-Spring-TX   F   \n",
       "\n",
       "    Salary     Superssn  Dno  \n",
       "0  30000.0  333445555.0    5  \n",
       "1  25000.0  333445555.0    5  \n",
       "2  38000.0  333445555.0    5  \n",
       "3  25000.0  987654321.0    4  \n",
       "4  25000.0  987654321.0    4  "
      ]
     },
     "execution_count": 9,
     "metadata": {},
     "output_type": "execute_result"
    }
   ],
   "source": [
    "select(E, \"Bdate >= '1960-01-01'\")"
   ]
  },
  {
   "cell_type": "markdown",
   "metadata": {
    "id": "L0ukr_A8iGRj"
   },
   "source": []
  },
  {
   "cell_type": "markdown",
   "metadata": {
    "id": "XccPjtAtu5vY"
   },
   "source": [
    "## Projection"
   ]
  },
  {
   "cell_type": "code",
   "execution_count": 10,
   "metadata": {
    "id": "cYRElY19u5vY"
   },
   "outputs": [],
   "source": [
    "def project(R, C):\n",
    "    return R[C].drop_duplicates().reset_index(drop=True)"
   ]
  },
  {
   "cell_type": "markdown",
   "metadata": {
    "id": "tiiXQXoyu5va"
   },
   "source": [
    "### Projection Examples"
   ]
  },
  {
   "cell_type": "code",
   "execution_count": 11,
   "metadata": {
    "colab": {
     "base_uri": "https://localhost:8080/",
     "height": 297
    },
    "id": "DQiorh88u5vb",
    "outputId": "4c51577f-e9fd-44a2-e2ec-6bd732ad5eb1"
   },
   "outputs": [
    {
     "data": {
      "text/html": [
       "<div>\n",
       "<style scoped>\n",
       "    .dataframe tbody tr th:only-of-type {\n",
       "        vertical-align: middle;\n",
       "    }\n",
       "\n",
       "    .dataframe tbody tr th {\n",
       "        vertical-align: top;\n",
       "    }\n",
       "\n",
       "    .dataframe thead th {\n",
       "        text-align: right;\n",
       "    }\n",
       "</style>\n",
       "<table border=\"1\" class=\"dataframe\">\n",
       "  <thead>\n",
       "    <tr style=\"text-align: right;\">\n",
       "      <th></th>\n",
       "      <th>Essn</th>\n",
       "    </tr>\n",
       "  </thead>\n",
       "  <tbody>\n",
       "    <tr>\n",
       "      <th>0</th>\n",
       "      <td>123456789</td>\n",
       "    </tr>\n",
       "    <tr>\n",
       "      <th>1</th>\n",
       "      <td>333445555</td>\n",
       "    </tr>\n",
       "    <tr>\n",
       "      <th>2</th>\n",
       "      <td>453453453</td>\n",
       "    </tr>\n",
       "    <tr>\n",
       "      <th>3</th>\n",
       "      <td>666884444</td>\n",
       "    </tr>\n",
       "    <tr>\n",
       "      <th>4</th>\n",
       "      <td>888665555</td>\n",
       "    </tr>\n",
       "    <tr>\n",
       "      <th>5</th>\n",
       "      <td>987654321</td>\n",
       "    </tr>\n",
       "    <tr>\n",
       "      <th>6</th>\n",
       "      <td>987987987</td>\n",
       "    </tr>\n",
       "    <tr>\n",
       "      <th>7</th>\n",
       "      <td>999887777</td>\n",
       "    </tr>\n",
       "  </tbody>\n",
       "</table>\n",
       "</div>"
      ],
      "text/plain": [
       "        Essn\n",
       "0  123456789\n",
       "1  333445555\n",
       "2  453453453\n",
       "3  666884444\n",
       "4  888665555\n",
       "5  987654321\n",
       "6  987987987\n",
       "7  999887777"
      ]
     },
     "execution_count": 11,
     "metadata": {},
     "output_type": "execute_result"
    }
   ],
   "source": [
    "project(WO, ['Essn'])"
   ]
  },
  {
   "cell_type": "code",
   "execution_count": 12,
   "metadata": {
    "colab": {
     "base_uri": "https://localhost:8080/",
     "height": 111
    },
    "id": "l0h616IU3Za5",
    "outputId": "f273bfd2-6633-4ce6-b966-273d765f9ea0"
   },
   "outputs": [
    {
     "data": {
      "text/html": [
       "<div>\n",
       "<style scoped>\n",
       "    .dataframe tbody tr th:only-of-type {\n",
       "        vertical-align: middle;\n",
       "    }\n",
       "\n",
       "    .dataframe tbody tr th {\n",
       "        vertical-align: top;\n",
       "    }\n",
       "\n",
       "    .dataframe thead th {\n",
       "        text-align: right;\n",
       "    }\n",
       "</style>\n",
       "<table border=\"1\" class=\"dataframe\">\n",
       "  <thead>\n",
       "    <tr style=\"text-align: right;\">\n",
       "      <th></th>\n",
       "      <th>Dnumber</th>\n",
       "    </tr>\n",
       "  </thead>\n",
       "  <tbody>\n",
       "    <tr>\n",
       "      <th>0</th>\n",
       "      <td>1</td>\n",
       "    </tr>\n",
       "    <tr>\n",
       "      <th>1</th>\n",
       "      <td>5</td>\n",
       "    </tr>\n",
       "  </tbody>\n",
       "</table>\n",
       "</div>"
      ],
      "text/plain": [
       "   Dnumber\n",
       "0        1\n",
       "1        5"
      ]
     },
     "execution_count": 12,
     "metadata": {},
     "output_type": "execute_result"
    }
   ],
   "source": [
    "# project(dNumber)(select(dLocation==Huston)(DEPT_LOCATIONS)\n",
    "project(\n",
    "  select(\n",
    "      DL,\n",
    "      \"Dlocation == 'Houston'\"\n",
    "  ),\n",
    "  ['Dnumber']\n",
    ")"
   ]
  },
  {
   "cell_type": "markdown",
   "metadata": {
    "id": "yU3UJdf2u5vd"
   },
   "source": [
    "## Union"
   ]
  },
  {
   "cell_type": "code",
   "execution_count": 13,
   "metadata": {
    "id": "eqmIgwyXu5vd"
   },
   "outputs": [],
   "source": [
    "def union(R, S):\n",
    "    S.columns = R.columns\n",
    "    T = pd.concat([R, S], ignore_index=True)\n",
    "    T = T.drop_duplicates().reset_index(drop=True)\n",
    "    return T"
   ]
  },
  {
   "cell_type": "code",
   "execution_count": 14,
   "metadata": {
    "colab": {
     "base_uri": "https://localhost:8080/",
     "height": 297
    },
    "id": "XZyksAFyu5vf",
    "outputId": "2e9adb93-e920-4dd8-e073-6a70e06c697b"
   },
   "outputs": [
    {
     "data": {
      "text/html": [
       "<div>\n",
       "<style scoped>\n",
       "    .dataframe tbody tr th:only-of-type {\n",
       "        vertical-align: middle;\n",
       "    }\n",
       "\n",
       "    .dataframe tbody tr th {\n",
       "        vertical-align: top;\n",
       "    }\n",
       "\n",
       "    .dataframe thead th {\n",
       "        text-align: right;\n",
       "    }\n",
       "</style>\n",
       "<table border=\"1\" class=\"dataframe\">\n",
       "  <thead>\n",
       "    <tr style=\"text-align: right;\">\n",
       "      <th></th>\n",
       "      <th>Ssn</th>\n",
       "    </tr>\n",
       "  </thead>\n",
       "  <tbody>\n",
       "    <tr>\n",
       "      <th>0</th>\n",
       "      <td>123456789</td>\n",
       "    </tr>\n",
       "    <tr>\n",
       "      <th>1</th>\n",
       "      <td>333445555</td>\n",
       "    </tr>\n",
       "    <tr>\n",
       "      <th>2</th>\n",
       "      <td>453453453</td>\n",
       "    </tr>\n",
       "    <tr>\n",
       "      <th>3</th>\n",
       "      <td>666884444</td>\n",
       "    </tr>\n",
       "    <tr>\n",
       "      <th>4</th>\n",
       "      <td>888665555</td>\n",
       "    </tr>\n",
       "    <tr>\n",
       "      <th>5</th>\n",
       "      <td>987654321</td>\n",
       "    </tr>\n",
       "    <tr>\n",
       "      <th>6</th>\n",
       "      <td>987987987</td>\n",
       "    </tr>\n",
       "    <tr>\n",
       "      <th>7</th>\n",
       "      <td>999887777</td>\n",
       "    </tr>\n",
       "  </tbody>\n",
       "</table>\n",
       "</div>"
      ],
      "text/plain": [
       "         Ssn\n",
       "0  123456789\n",
       "1  333445555\n",
       "2  453453453\n",
       "3  666884444\n",
       "4  888665555\n",
       "5  987654321\n",
       "6  987987987\n",
       "7  999887777"
      ]
     },
     "execution_count": 14,
     "metadata": {},
     "output_type": "execute_result"
    }
   ],
   "source": [
    "union(project(E, ['Ssn']), project(D,['Mgrssn']))"
   ]
  },
  {
   "cell_type": "markdown",
   "metadata": {
    "id": "aiQSg0kPu5vh"
   },
   "source": [
    "## Intersection"
   ]
  },
  {
   "cell_type": "code",
   "execution_count": 15,
   "metadata": {
    "id": "Z1M72mE2u5vh"
   },
   "outputs": [],
   "source": [
    "def intersect(R, S):\n",
    "    S.columns = R.columns\n",
    "    return R.merge(S).reset_index(drop=True)"
   ]
  },
  {
   "cell_type": "markdown",
   "metadata": {
    "id": "4xzXWV8iu5vj"
   },
   "source": [
    "### Intersection Examples"
   ]
  },
  {
   "cell_type": "code",
   "execution_count": 16,
   "metadata": {
    "colab": {
     "base_uri": "https://localhost:8080/",
     "height": 142
    },
    "id": "mLfDctMLu5vk",
    "outputId": "d97c8569-b51e-46da-b6e7-f6fd750b3e35"
   },
   "outputs": [
    {
     "data": {
      "text/html": [
       "<div>\n",
       "<style scoped>\n",
       "    .dataframe tbody tr th:only-of-type {\n",
       "        vertical-align: middle;\n",
       "    }\n",
       "\n",
       "    .dataframe tbody tr th {\n",
       "        vertical-align: top;\n",
       "    }\n",
       "\n",
       "    .dataframe thead th {\n",
       "        text-align: right;\n",
       "    }\n",
       "</style>\n",
       "<table border=\"1\" class=\"dataframe\">\n",
       "  <thead>\n",
       "    <tr style=\"text-align: right;\">\n",
       "      <th></th>\n",
       "      <th>Ssn</th>\n",
       "    </tr>\n",
       "  </thead>\n",
       "  <tbody>\n",
       "    <tr>\n",
       "      <th>0</th>\n",
       "      <td>333445555</td>\n",
       "    </tr>\n",
       "    <tr>\n",
       "      <th>1</th>\n",
       "      <td>888665555</td>\n",
       "    </tr>\n",
       "    <tr>\n",
       "      <th>2</th>\n",
       "      <td>987654321</td>\n",
       "    </tr>\n",
       "  </tbody>\n",
       "</table>\n",
       "</div>"
      ],
      "text/plain": [
       "         Ssn\n",
       "0  333445555\n",
       "1  888665555\n",
       "2  987654321"
      ]
     },
     "execution_count": 16,
     "metadata": {},
     "output_type": "execute_result"
    }
   ],
   "source": [
    "intersect(project(E, ['Ssn']), project(D,['Mgrssn']))"
   ]
  },
  {
   "cell_type": "markdown",
   "metadata": {
    "id": "BZSpb_5eu5vm"
   },
   "source": [
    "## Difference"
   ]
  },
  {
   "cell_type": "code",
   "execution_count": 17,
   "metadata": {
    "id": "jHhf55_Qu5vm"
   },
   "outputs": [],
   "source": [
    "def minus(R, S):\n",
    "    S.columns = R.columns\n",
    "    return pd.concat([R, S, S]).drop_duplicates(keep=False).reset_index(drop=True)"
   ]
  },
  {
   "cell_type": "markdown",
   "metadata": {
    "id": "VdFmCUEPu5vo"
   },
   "source": [
    "### Difference examples"
   ]
  },
  {
   "cell_type": "code",
   "execution_count": 18,
   "metadata": {
    "colab": {
     "base_uri": "https://localhost:8080/",
     "height": 204
    },
    "id": "VaCadDcku5vo",
    "outputId": "d42cb7f6-628c-49cc-cf45-6607f4f5be51"
   },
   "outputs": [
    {
     "data": {
      "text/html": [
       "<div>\n",
       "<style scoped>\n",
       "    .dataframe tbody tr th:only-of-type {\n",
       "        vertical-align: middle;\n",
       "    }\n",
       "\n",
       "    .dataframe tbody tr th {\n",
       "        vertical-align: top;\n",
       "    }\n",
       "\n",
       "    .dataframe thead th {\n",
       "        text-align: right;\n",
       "    }\n",
       "</style>\n",
       "<table border=\"1\" class=\"dataframe\">\n",
       "  <thead>\n",
       "    <tr style=\"text-align: right;\">\n",
       "      <th></th>\n",
       "      <th>Ssn</th>\n",
       "    </tr>\n",
       "  </thead>\n",
       "  <tbody>\n",
       "    <tr>\n",
       "      <th>0</th>\n",
       "      <td>123456789</td>\n",
       "    </tr>\n",
       "    <tr>\n",
       "      <th>1</th>\n",
       "      <td>453453453</td>\n",
       "    </tr>\n",
       "    <tr>\n",
       "      <th>2</th>\n",
       "      <td>666884444</td>\n",
       "    </tr>\n",
       "    <tr>\n",
       "      <th>3</th>\n",
       "      <td>987987987</td>\n",
       "    </tr>\n",
       "    <tr>\n",
       "      <th>4</th>\n",
       "      <td>999887777</td>\n",
       "    </tr>\n",
       "  </tbody>\n",
       "</table>\n",
       "</div>"
      ],
      "text/plain": [
       "         Ssn\n",
       "0  123456789\n",
       "1  453453453\n",
       "2  666884444\n",
       "3  987987987\n",
       "4  999887777"
      ]
     },
     "execution_count": 18,
     "metadata": {},
     "output_type": "execute_result"
    }
   ],
   "source": [
    "minus(project(E, ['Ssn']), project(D,['Mgrssn']))"
   ]
  },
  {
   "cell_type": "markdown",
   "metadata": {
    "id": "GLKfYF0_u5vq"
   },
   "source": [
    "## Cartesian Product"
   ]
  },
  {
   "cell_type": "code",
   "execution_count": null,
   "metadata": {
    "id": "3nYiGUWXu5vq"
   },
   "outputs": [],
   "source": [
    "def product(R, S):\n",
    "    \"\"\"Determine Cartesian product of two data frames.\"\"\"\n",
    "    key = 'key'\n",
    "    while key in R.columns or key in S.columns:\n",
    "        key = '_' + key\n",
    "    key_d = {key: 0}\n",
    "    return pd.merge(R.assign(**key_d), S.assign(**key_d), on=key)\\\n",
    "           .drop(key, axis=1).reset_index(drop=True)"
   ]
  },
  {
   "cell_type": "markdown",
   "metadata": {
    "id": "7iIcQjnwu5vv"
   },
   "source": [
    "### Cartesian Product Examples"
   ]
  },
  {
   "cell_type": "code",
   "execution_count": null,
   "metadata": {
    "colab": {
     "base_uri": "https://localhost:8080/",
     "height": 793
    },
    "id": "tAUH8MoLu5vv",
    "outputId": "0f31ee5a-b907-4cff-ac0a-d113bb20bc1f"
   },
   "outputs": [
    {
     "data": {
      "text/html": [
       "<div>\n",
       "<style scoped>\n",
       "    .dataframe tbody tr th:only-of-type {\n",
       "        vertical-align: middle;\n",
       "    }\n",
       "\n",
       "    .dataframe tbody tr th {\n",
       "        vertical-align: top;\n",
       "    }\n",
       "\n",
       "    .dataframe thead th {\n",
       "        text-align: right;\n",
       "    }\n",
       "</style>\n",
       "<table border=\"1\" class=\"dataframe\">\n",
       "  <thead>\n",
       "    <tr style=\"text-align: right;\">\n",
       "      <th></th>\n",
       "      <th>Fname</th>\n",
       "      <th>Minit</th>\n",
       "      <th>Lname</th>\n",
       "      <th>Ssn</th>\n",
       "      <th>Bdate</th>\n",
       "      <th>Address</th>\n",
       "      <th>Sex</th>\n",
       "      <th>Salary</th>\n",
       "      <th>Superssn</th>\n",
       "      <th>Dno</th>\n",
       "      <th>Dname</th>\n",
       "      <th>Dnumber</th>\n",
       "      <th>Mgrssn</th>\n",
       "      <th>Mgrstartdate</th>\n",
       "    </tr>\n",
       "  </thead>\n",
       "  <tbody>\n",
       "    <tr>\n",
       "      <th>0</th>\n",
       "      <td>John</td>\n",
       "      <td>B</td>\n",
       "      <td>Smith</td>\n",
       "      <td>123456789</td>\n",
       "      <td>1965-01-09</td>\n",
       "      <td>731-Fondren-Houston-TX</td>\n",
       "      <td>M</td>\n",
       "      <td>30000.0</td>\n",
       "      <td>333445555.0</td>\n",
       "      <td>5</td>\n",
       "      <td>Headquarters</td>\n",
       "      <td>1</td>\n",
       "      <td>888665555</td>\n",
       "      <td>1981-06-19</td>\n",
       "    </tr>\n",
       "    <tr>\n",
       "      <th>1</th>\n",
       "      <td>John</td>\n",
       "      <td>B</td>\n",
       "      <td>Smith</td>\n",
       "      <td>123456789</td>\n",
       "      <td>1965-01-09</td>\n",
       "      <td>731-Fondren-Houston-TX</td>\n",
       "      <td>M</td>\n",
       "      <td>30000.0</td>\n",
       "      <td>333445555.0</td>\n",
       "      <td>5</td>\n",
       "      <td>Administration</td>\n",
       "      <td>4</td>\n",
       "      <td>987654321</td>\n",
       "      <td>1995-01-01</td>\n",
       "    </tr>\n",
       "    <tr>\n",
       "      <th>2</th>\n",
       "      <td>John</td>\n",
       "      <td>B</td>\n",
       "      <td>Smith</td>\n",
       "      <td>123456789</td>\n",
       "      <td>1965-01-09</td>\n",
       "      <td>731-Fondren-Houston-TX</td>\n",
       "      <td>M</td>\n",
       "      <td>30000.0</td>\n",
       "      <td>333445555.0</td>\n",
       "      <td>5</td>\n",
       "      <td>Research</td>\n",
       "      <td>5</td>\n",
       "      <td>333445555</td>\n",
       "      <td>1988-05-22</td>\n",
       "    </tr>\n",
       "    <tr>\n",
       "      <th>3</th>\n",
       "      <td>Franklin</td>\n",
       "      <td>T</td>\n",
       "      <td>Wong</td>\n",
       "      <td>333445555</td>\n",
       "      <td>1955-12-08</td>\n",
       "      <td>638-Voss-Houston-TX</td>\n",
       "      <td>M</td>\n",
       "      <td>40000.0</td>\n",
       "      <td>888665555.0</td>\n",
       "      <td>5</td>\n",
       "      <td>Headquarters</td>\n",
       "      <td>1</td>\n",
       "      <td>888665555</td>\n",
       "      <td>1981-06-19</td>\n",
       "    </tr>\n",
       "    <tr>\n",
       "      <th>4</th>\n",
       "      <td>Franklin</td>\n",
       "      <td>T</td>\n",
       "      <td>Wong</td>\n",
       "      <td>333445555</td>\n",
       "      <td>1955-12-08</td>\n",
       "      <td>638-Voss-Houston-TX</td>\n",
       "      <td>M</td>\n",
       "      <td>40000.0</td>\n",
       "      <td>888665555.0</td>\n",
       "      <td>5</td>\n",
       "      <td>Administration</td>\n",
       "      <td>4</td>\n",
       "      <td>987654321</td>\n",
       "      <td>1995-01-01</td>\n",
       "    </tr>\n",
       "    <tr>\n",
       "      <th>5</th>\n",
       "      <td>Franklin</td>\n",
       "      <td>T</td>\n",
       "      <td>Wong</td>\n",
       "      <td>333445555</td>\n",
       "      <td>1955-12-08</td>\n",
       "      <td>638-Voss-Houston-TX</td>\n",
       "      <td>M</td>\n",
       "      <td>40000.0</td>\n",
       "      <td>888665555.0</td>\n",
       "      <td>5</td>\n",
       "      <td>Research</td>\n",
       "      <td>5</td>\n",
       "      <td>333445555</td>\n",
       "      <td>1988-05-22</td>\n",
       "    </tr>\n",
       "    <tr>\n",
       "      <th>6</th>\n",
       "      <td>Joyce</td>\n",
       "      <td>A</td>\n",
       "      <td>English</td>\n",
       "      <td>453453453</td>\n",
       "      <td>1972-07-31</td>\n",
       "      <td>5631-Rice-Houston-TX</td>\n",
       "      <td>F</td>\n",
       "      <td>25000.0</td>\n",
       "      <td>333445555.0</td>\n",
       "      <td>5</td>\n",
       "      <td>Headquarters</td>\n",
       "      <td>1</td>\n",
       "      <td>888665555</td>\n",
       "      <td>1981-06-19</td>\n",
       "    </tr>\n",
       "    <tr>\n",
       "      <th>7</th>\n",
       "      <td>Joyce</td>\n",
       "      <td>A</td>\n",
       "      <td>English</td>\n",
       "      <td>453453453</td>\n",
       "      <td>1972-07-31</td>\n",
       "      <td>5631-Rice-Houston-TX</td>\n",
       "      <td>F</td>\n",
       "      <td>25000.0</td>\n",
       "      <td>333445555.0</td>\n",
       "      <td>5</td>\n",
       "      <td>Administration</td>\n",
       "      <td>4</td>\n",
       "      <td>987654321</td>\n",
       "      <td>1995-01-01</td>\n",
       "    </tr>\n",
       "    <tr>\n",
       "      <th>8</th>\n",
       "      <td>Joyce</td>\n",
       "      <td>A</td>\n",
       "      <td>English</td>\n",
       "      <td>453453453</td>\n",
       "      <td>1972-07-31</td>\n",
       "      <td>5631-Rice-Houston-TX</td>\n",
       "      <td>F</td>\n",
       "      <td>25000.0</td>\n",
       "      <td>333445555.0</td>\n",
       "      <td>5</td>\n",
       "      <td>Research</td>\n",
       "      <td>5</td>\n",
       "      <td>333445555</td>\n",
       "      <td>1988-05-22</td>\n",
       "    </tr>\n",
       "    <tr>\n",
       "      <th>9</th>\n",
       "      <td>Ramesh</td>\n",
       "      <td>K</td>\n",
       "      <td>Narayan</td>\n",
       "      <td>666884444</td>\n",
       "      <td>1962-09-15</td>\n",
       "      <td>975-Fire-Oak-Humble-TX</td>\n",
       "      <td>M</td>\n",
       "      <td>38000.0</td>\n",
       "      <td>333445555.0</td>\n",
       "      <td>5</td>\n",
       "      <td>Headquarters</td>\n",
       "      <td>1</td>\n",
       "      <td>888665555</td>\n",
       "      <td>1981-06-19</td>\n",
       "    </tr>\n",
       "    <tr>\n",
       "      <th>10</th>\n",
       "      <td>Ramesh</td>\n",
       "      <td>K</td>\n",
       "      <td>Narayan</td>\n",
       "      <td>666884444</td>\n",
       "      <td>1962-09-15</td>\n",
       "      <td>975-Fire-Oak-Humble-TX</td>\n",
       "      <td>M</td>\n",
       "      <td>38000.0</td>\n",
       "      <td>333445555.0</td>\n",
       "      <td>5</td>\n",
       "      <td>Administration</td>\n",
       "      <td>4</td>\n",
       "      <td>987654321</td>\n",
       "      <td>1995-01-01</td>\n",
       "    </tr>\n",
       "    <tr>\n",
       "      <th>11</th>\n",
       "      <td>Ramesh</td>\n",
       "      <td>K</td>\n",
       "      <td>Narayan</td>\n",
       "      <td>666884444</td>\n",
       "      <td>1962-09-15</td>\n",
       "      <td>975-Fire-Oak-Humble-TX</td>\n",
       "      <td>M</td>\n",
       "      <td>38000.0</td>\n",
       "      <td>333445555.0</td>\n",
       "      <td>5</td>\n",
       "      <td>Research</td>\n",
       "      <td>5</td>\n",
       "      <td>333445555</td>\n",
       "      <td>1988-05-22</td>\n",
       "    </tr>\n",
       "    <tr>\n",
       "      <th>12</th>\n",
       "      <td>James</td>\n",
       "      <td>E</td>\n",
       "      <td>Borg</td>\n",
       "      <td>888665555</td>\n",
       "      <td>1937-11-10</td>\n",
       "      <td>450-Stone-Houston-TX</td>\n",
       "      <td>M</td>\n",
       "      <td>55000.0</td>\n",
       "      <td>NaN</td>\n",
       "      <td>1</td>\n",
       "      <td>Headquarters</td>\n",
       "      <td>1</td>\n",
       "      <td>888665555</td>\n",
       "      <td>1981-06-19</td>\n",
       "    </tr>\n",
       "    <tr>\n",
       "      <th>13</th>\n",
       "      <td>James</td>\n",
       "      <td>E</td>\n",
       "      <td>Borg</td>\n",
       "      <td>888665555</td>\n",
       "      <td>1937-11-10</td>\n",
       "      <td>450-Stone-Houston-TX</td>\n",
       "      <td>M</td>\n",
       "      <td>55000.0</td>\n",
       "      <td>NaN</td>\n",
       "      <td>1</td>\n",
       "      <td>Administration</td>\n",
       "      <td>4</td>\n",
       "      <td>987654321</td>\n",
       "      <td>1995-01-01</td>\n",
       "    </tr>\n",
       "    <tr>\n",
       "      <th>14</th>\n",
       "      <td>James</td>\n",
       "      <td>E</td>\n",
       "      <td>Borg</td>\n",
       "      <td>888665555</td>\n",
       "      <td>1937-11-10</td>\n",
       "      <td>450-Stone-Houston-TX</td>\n",
       "      <td>M</td>\n",
       "      <td>55000.0</td>\n",
       "      <td>NaN</td>\n",
       "      <td>1</td>\n",
       "      <td>Research</td>\n",
       "      <td>5</td>\n",
       "      <td>333445555</td>\n",
       "      <td>1988-05-22</td>\n",
       "    </tr>\n",
       "    <tr>\n",
       "      <th>15</th>\n",
       "      <td>Jennifer</td>\n",
       "      <td>S</td>\n",
       "      <td>Wallace</td>\n",
       "      <td>987654321</td>\n",
       "      <td>1941-06-20</td>\n",
       "      <td>291-Berry-Bellaire-TX</td>\n",
       "      <td>F</td>\n",
       "      <td>43000.0</td>\n",
       "      <td>888665555.0</td>\n",
       "      <td>4</td>\n",
       "      <td>Headquarters</td>\n",
       "      <td>1</td>\n",
       "      <td>888665555</td>\n",
       "      <td>1981-06-19</td>\n",
       "    </tr>\n",
       "    <tr>\n",
       "      <th>16</th>\n",
       "      <td>Jennifer</td>\n",
       "      <td>S</td>\n",
       "      <td>Wallace</td>\n",
       "      <td>987654321</td>\n",
       "      <td>1941-06-20</td>\n",
       "      <td>291-Berry-Bellaire-TX</td>\n",
       "      <td>F</td>\n",
       "      <td>43000.0</td>\n",
       "      <td>888665555.0</td>\n",
       "      <td>4</td>\n",
       "      <td>Administration</td>\n",
       "      <td>4</td>\n",
       "      <td>987654321</td>\n",
       "      <td>1995-01-01</td>\n",
       "    </tr>\n",
       "    <tr>\n",
       "      <th>17</th>\n",
       "      <td>Jennifer</td>\n",
       "      <td>S</td>\n",
       "      <td>Wallace</td>\n",
       "      <td>987654321</td>\n",
       "      <td>1941-06-20</td>\n",
       "      <td>291-Berry-Bellaire-TX</td>\n",
       "      <td>F</td>\n",
       "      <td>43000.0</td>\n",
       "      <td>888665555.0</td>\n",
       "      <td>4</td>\n",
       "      <td>Research</td>\n",
       "      <td>5</td>\n",
       "      <td>333445555</td>\n",
       "      <td>1988-05-22</td>\n",
       "    </tr>\n",
       "    <tr>\n",
       "      <th>18</th>\n",
       "      <td>Ahmad</td>\n",
       "      <td>V</td>\n",
       "      <td>Jabbar</td>\n",
       "      <td>987987987</td>\n",
       "      <td>1969-03-29</td>\n",
       "      <td>980-Dallas-Houston-TX</td>\n",
       "      <td>M</td>\n",
       "      <td>25000.0</td>\n",
       "      <td>987654321.0</td>\n",
       "      <td>4</td>\n",
       "      <td>Headquarters</td>\n",
       "      <td>1</td>\n",
       "      <td>888665555</td>\n",
       "      <td>1981-06-19</td>\n",
       "    </tr>\n",
       "    <tr>\n",
       "      <th>19</th>\n",
       "      <td>Ahmad</td>\n",
       "      <td>V</td>\n",
       "      <td>Jabbar</td>\n",
       "      <td>987987987</td>\n",
       "      <td>1969-03-29</td>\n",
       "      <td>980-Dallas-Houston-TX</td>\n",
       "      <td>M</td>\n",
       "      <td>25000.0</td>\n",
       "      <td>987654321.0</td>\n",
       "      <td>4</td>\n",
       "      <td>Administration</td>\n",
       "      <td>4</td>\n",
       "      <td>987654321</td>\n",
       "      <td>1995-01-01</td>\n",
       "    </tr>\n",
       "    <tr>\n",
       "      <th>20</th>\n",
       "      <td>Ahmad</td>\n",
       "      <td>V</td>\n",
       "      <td>Jabbar</td>\n",
       "      <td>987987987</td>\n",
       "      <td>1969-03-29</td>\n",
       "      <td>980-Dallas-Houston-TX</td>\n",
       "      <td>M</td>\n",
       "      <td>25000.0</td>\n",
       "      <td>987654321.0</td>\n",
       "      <td>4</td>\n",
       "      <td>Research</td>\n",
       "      <td>5</td>\n",
       "      <td>333445555</td>\n",
       "      <td>1988-05-22</td>\n",
       "    </tr>\n",
       "    <tr>\n",
       "      <th>21</th>\n",
       "      <td>Alicia</td>\n",
       "      <td>J</td>\n",
       "      <td>Zelaya</td>\n",
       "      <td>999887777</td>\n",
       "      <td>1968-01-19</td>\n",
       "      <td>3321-Castle-Spring-TX</td>\n",
       "      <td>F</td>\n",
       "      <td>25000.0</td>\n",
       "      <td>987654321.0</td>\n",
       "      <td>4</td>\n",
       "      <td>Headquarters</td>\n",
       "      <td>1</td>\n",
       "      <td>888665555</td>\n",
       "      <td>1981-06-19</td>\n",
       "    </tr>\n",
       "    <tr>\n",
       "      <th>22</th>\n",
       "      <td>Alicia</td>\n",
       "      <td>J</td>\n",
       "      <td>Zelaya</td>\n",
       "      <td>999887777</td>\n",
       "      <td>1968-01-19</td>\n",
       "      <td>3321-Castle-Spring-TX</td>\n",
       "      <td>F</td>\n",
       "      <td>25000.0</td>\n",
       "      <td>987654321.0</td>\n",
       "      <td>4</td>\n",
       "      <td>Administration</td>\n",
       "      <td>4</td>\n",
       "      <td>987654321</td>\n",
       "      <td>1995-01-01</td>\n",
       "    </tr>\n",
       "    <tr>\n",
       "      <th>23</th>\n",
       "      <td>Alicia</td>\n",
       "      <td>J</td>\n",
       "      <td>Zelaya</td>\n",
       "      <td>999887777</td>\n",
       "      <td>1968-01-19</td>\n",
       "      <td>3321-Castle-Spring-TX</td>\n",
       "      <td>F</td>\n",
       "      <td>25000.0</td>\n",
       "      <td>987654321.0</td>\n",
       "      <td>4</td>\n",
       "      <td>Research</td>\n",
       "      <td>5</td>\n",
       "      <td>333445555</td>\n",
       "      <td>1988-05-22</td>\n",
       "    </tr>\n",
       "  </tbody>\n",
       "</table>\n",
       "</div>"
      ],
      "text/plain": [
       "       Fname Minit    Lname  ...  Dnumber     Mgrssn Mgrstartdate\n",
       "0       John     B    Smith  ...        1  888665555   1981-06-19\n",
       "1       John     B    Smith  ...        4  987654321   1995-01-01\n",
       "2       John     B    Smith  ...        5  333445555   1988-05-22\n",
       "3   Franklin     T     Wong  ...        1  888665555   1981-06-19\n",
       "4   Franklin     T     Wong  ...        4  987654321   1995-01-01\n",
       "5   Franklin     T     Wong  ...        5  333445555   1988-05-22\n",
       "6      Joyce     A  English  ...        1  888665555   1981-06-19\n",
       "7      Joyce     A  English  ...        4  987654321   1995-01-01\n",
       "8      Joyce     A  English  ...        5  333445555   1988-05-22\n",
       "9     Ramesh     K  Narayan  ...        1  888665555   1981-06-19\n",
       "10    Ramesh     K  Narayan  ...        4  987654321   1995-01-01\n",
       "11    Ramesh     K  Narayan  ...        5  333445555   1988-05-22\n",
       "12     James     E     Borg  ...        1  888665555   1981-06-19\n",
       "13     James     E     Borg  ...        4  987654321   1995-01-01\n",
       "14     James     E     Borg  ...        5  333445555   1988-05-22\n",
       "15  Jennifer     S  Wallace  ...        1  888665555   1981-06-19\n",
       "16  Jennifer     S  Wallace  ...        4  987654321   1995-01-01\n",
       "17  Jennifer     S  Wallace  ...        5  333445555   1988-05-22\n",
       "18     Ahmad     V   Jabbar  ...        1  888665555   1981-06-19\n",
       "19     Ahmad     V   Jabbar  ...        4  987654321   1995-01-01\n",
       "20     Ahmad     V   Jabbar  ...        5  333445555   1988-05-22\n",
       "21    Alicia     J   Zelaya  ...        1  888665555   1981-06-19\n",
       "22    Alicia     J   Zelaya  ...        4  987654321   1995-01-01\n",
       "23    Alicia     J   Zelaya  ...        5  333445555   1988-05-22\n",
       "\n",
       "[24 rows x 14 columns]"
      ]
     },
     "execution_count": 26,
     "metadata": {
      "tags": []
     },
     "output_type": "execute_result"
    }
   ],
   "source": [
    "product(E, D)"
   ]
  },
  {
   "cell_type": "markdown",
   "metadata": {
    "id": "0TKCLaStu5vy"
   },
   "source": [
    "## Joins"
   ]
  },
  {
   "cell_type": "code",
   "execution_count": null,
   "metadata": {
    "id": "d733KB_su5vy"
   },
   "outputs": [],
   "source": [
    "def natural_join(R, S):\n",
    "    return pd.merge(R, S).reset_index(drop=True)"
   ]
  },
  {
   "cell_type": "markdown",
   "metadata": {
    "id": "2P9joRD9u5v0"
   },
   "source": [
    "### Natural Join Examples"
   ]
  },
  {
   "cell_type": "code",
   "execution_count": null,
   "metadata": {
    "id": "XjGI4Ladu5v0"
   },
   "outputs": [],
   "source": [
    "print(D, DL, sep = \"\\n\\n\")\n",
    "natural_join(D, D)"
   ]
  },
  {
   "cell_type": "code",
   "execution_count": null,
   "metadata": {
    "id": "NwqidrCLu5v2"
   },
   "outputs": [],
   "source": [
    "natural_join(D, DL)"
   ]
  },
  {
   "cell_type": "code",
   "execution_count": null,
   "metadata": {
    "id": "QXSsNYuclqkp"
   },
   "outputs": [],
   "source": [
    "natural_join(DL, D)"
   ]
  },
  {
   "cell_type": "code",
   "execution_count": null,
   "metadata": {
    "id": "1qfndwt-u5v4"
   },
   "outputs": [],
   "source": [
    "def natural_join2(R, S, keys_R, keys_S):\n",
    "    return pd.merge(R, S, left_on=keys_R, right_on=keys_S)\\\n",
    "           .drop(keys_S, axis=1).reset_index(drop=True)"
   ]
  },
  {
   "cell_type": "code",
   "execution_count": null,
   "metadata": {
    "id": "ihs8mYqju5v5"
   },
   "outputs": [],
   "source": [
    "natural_join2(E, D, ['Dno', 'Ssn'], ['Dnumber', 'Mgrssn'])"
   ]
  },
  {
   "cell_type": "markdown",
   "metadata": {
    "id": "Ili2u7pgu5v7"
   },
   "source": [
    "### Equi-join Examples"
   ]
  },
  {
   "cell_type": "code",
   "execution_count": null,
   "metadata": {
    "id": "2JP_kfT0u5v7"
   },
   "outputs": [],
   "source": [
    "def equi_join(R, S, keys_R, keys_S):\n",
    "    return pd.merge(R, S, left_on = keys_R, right_on=keys_S).reset_index(drop=True)"
   ]
  },
  {
   "cell_type": "code",
   "execution_count": null,
   "metadata": {
    "colab": {
     "base_uri": "https://localhost:8080/",
     "height": 142
    },
    "id": "PWItCM4ju5v9",
    "outputId": "29d0d684-20a5-4f75-bdfb-0c8bc4b329f9"
   },
   "outputs": [
    {
     "data": {
      "text/html": [
       "<div>\n",
       "<style scoped>\n",
       "    .dataframe tbody tr th:only-of-type {\n",
       "        vertical-align: middle;\n",
       "    }\n",
       "\n",
       "    .dataframe tbody tr th {\n",
       "        vertical-align: top;\n",
       "    }\n",
       "\n",
       "    .dataframe thead th {\n",
       "        text-align: right;\n",
       "    }\n",
       "</style>\n",
       "<table border=\"1\" class=\"dataframe\">\n",
       "  <thead>\n",
       "    <tr style=\"text-align: right;\">\n",
       "      <th></th>\n",
       "      <th>Fname</th>\n",
       "      <th>Minit</th>\n",
       "      <th>Lname</th>\n",
       "      <th>Ssn</th>\n",
       "      <th>Bdate</th>\n",
       "      <th>Address</th>\n",
       "      <th>Sex</th>\n",
       "      <th>Salary</th>\n",
       "      <th>Superssn</th>\n",
       "      <th>Dno</th>\n",
       "      <th>Dname</th>\n",
       "      <th>Dnumber</th>\n",
       "      <th>Mgrssn</th>\n",
       "      <th>Mgrstartdate</th>\n",
       "    </tr>\n",
       "  </thead>\n",
       "  <tbody>\n",
       "    <tr>\n",
       "      <th>0</th>\n",
       "      <td>Franklin</td>\n",
       "      <td>T</td>\n",
       "      <td>Wong</td>\n",
       "      <td>333445555</td>\n",
       "      <td>1955-12-08</td>\n",
       "      <td>638-Voss-Houston-TX</td>\n",
       "      <td>M</td>\n",
       "      <td>40000.0</td>\n",
       "      <td>888665555.0</td>\n",
       "      <td>5</td>\n",
       "      <td>Research</td>\n",
       "      <td>5</td>\n",
       "      <td>333445555</td>\n",
       "      <td>1988-05-22</td>\n",
       "    </tr>\n",
       "    <tr>\n",
       "      <th>1</th>\n",
       "      <td>James</td>\n",
       "      <td>E</td>\n",
       "      <td>Borg</td>\n",
       "      <td>888665555</td>\n",
       "      <td>1937-11-10</td>\n",
       "      <td>450-Stone-Houston-TX</td>\n",
       "      <td>M</td>\n",
       "      <td>55000.0</td>\n",
       "      <td>NaN</td>\n",
       "      <td>1</td>\n",
       "      <td>Headquarters</td>\n",
       "      <td>1</td>\n",
       "      <td>888665555</td>\n",
       "      <td>1981-06-19</td>\n",
       "    </tr>\n",
       "    <tr>\n",
       "      <th>2</th>\n",
       "      <td>Jennifer</td>\n",
       "      <td>S</td>\n",
       "      <td>Wallace</td>\n",
       "      <td>987654321</td>\n",
       "      <td>1941-06-20</td>\n",
       "      <td>291-Berry-Bellaire-TX</td>\n",
       "      <td>F</td>\n",
       "      <td>43000.0</td>\n",
       "      <td>888665555.0</td>\n",
       "      <td>4</td>\n",
       "      <td>Administration</td>\n",
       "      <td>4</td>\n",
       "      <td>987654321</td>\n",
       "      <td>1995-01-01</td>\n",
       "    </tr>\n",
       "  </tbody>\n",
       "</table>\n",
       "</div>"
      ],
      "text/plain": [
       "      Fname Minit    Lname  ...  Dnumber     Mgrssn Mgrstartdate\n",
       "0  Franklin     T     Wong  ...        5  333445555   1988-05-22\n",
       "1     James     E     Borg  ...        1  888665555   1981-06-19\n",
       "2  Jennifer     S  Wallace  ...        4  987654321   1995-01-01\n",
       "\n",
       "[3 rows x 14 columns]"
      ]
     },
     "execution_count": 33,
     "metadata": {
      "tags": []
     },
     "output_type": "execute_result"
    }
   ],
   "source": [
    "equi_join(E, D, ['Dno', 'Ssn'], ['Dnumber', 'Mgrssn'])"
   ]
  },
  {
   "cell_type": "code",
   "execution_count": null,
   "metadata": {
    "colab": {
     "base_uri": "https://localhost:8080/",
     "height": 204
    },
    "id": "os5CQWl3u5wA",
    "outputId": "d299f86e-88fb-4d0f-9fe0-cf142c0b7b50"
   },
   "outputs": [
    {
     "data": {
      "text/html": [
       "<div>\n",
       "<style scoped>\n",
       "    .dataframe tbody tr th:only-of-type {\n",
       "        vertical-align: middle;\n",
       "    }\n",
       "\n",
       "    .dataframe tbody tr th {\n",
       "        vertical-align: top;\n",
       "    }\n",
       "\n",
       "    .dataframe thead th {\n",
       "        text-align: right;\n",
       "    }\n",
       "</style>\n",
       "<table border=\"1\" class=\"dataframe\">\n",
       "  <thead>\n",
       "    <tr style=\"text-align: right;\">\n",
       "      <th></th>\n",
       "      <th>Dname</th>\n",
       "      <th>Dnumber</th>\n",
       "      <th>Mgrssn</th>\n",
       "      <th>Mgrstartdate</th>\n",
       "      <th>Dlocation</th>\n",
       "    </tr>\n",
       "  </thead>\n",
       "  <tbody>\n",
       "    <tr>\n",
       "      <th>0</th>\n",
       "      <td>Headquarters</td>\n",
       "      <td>1</td>\n",
       "      <td>888665555</td>\n",
       "      <td>1981-06-19</td>\n",
       "      <td>Houston</td>\n",
       "    </tr>\n",
       "    <tr>\n",
       "      <th>1</th>\n",
       "      <td>Administration</td>\n",
       "      <td>4</td>\n",
       "      <td>987654321</td>\n",
       "      <td>1995-01-01</td>\n",
       "      <td>Stafford</td>\n",
       "    </tr>\n",
       "    <tr>\n",
       "      <th>2</th>\n",
       "      <td>Research</td>\n",
       "      <td>5</td>\n",
       "      <td>333445555</td>\n",
       "      <td>1988-05-22</td>\n",
       "      <td>Bellaire</td>\n",
       "    </tr>\n",
       "    <tr>\n",
       "      <th>3</th>\n",
       "      <td>Research</td>\n",
       "      <td>5</td>\n",
       "      <td>333445555</td>\n",
       "      <td>1988-05-22</td>\n",
       "      <td>Houston</td>\n",
       "    </tr>\n",
       "    <tr>\n",
       "      <th>4</th>\n",
       "      <td>Research</td>\n",
       "      <td>5</td>\n",
       "      <td>333445555</td>\n",
       "      <td>1988-05-22</td>\n",
       "      <td>Sugarland</td>\n",
       "    </tr>\n",
       "  </tbody>\n",
       "</table>\n",
       "</div>"
      ],
      "text/plain": [
       "            Dname  Dnumber     Mgrssn Mgrstartdate  Dlocation\n",
       "0    Headquarters        1  888665555   1981-06-19    Houston\n",
       "1  Administration        4  987654321   1995-01-01   Stafford\n",
       "2        Research        5  333445555   1988-05-22   Bellaire\n",
       "3        Research        5  333445555   1988-05-22    Houston\n",
       "4        Research        5  333445555   1988-05-22  Sugarland"
      ]
     },
     "execution_count": 34,
     "metadata": {
      "tags": []
     },
     "output_type": "execute_result"
    }
   ],
   "source": [
    "equi_join(D, DL, ['Dnumber'], ['Dnumber'])"
   ]
  },
  {
   "cell_type": "markdown",
   "metadata": {
    "id": "e15JeX7Vu5wC"
   },
   "source": [
    "### Outer-join examples"
   ]
  },
  {
   "cell_type": "code",
   "execution_count": null,
   "metadata": {
    "id": "OD2JHnbru5wC"
   },
   "outputs": [],
   "source": [
    "def left_outer_join(R, S):\n",
    "        return pd.merge(R, S, how='left').reset_index(drop=True)"
   ]
  },
  {
   "cell_type": "code",
   "execution_count": null,
   "metadata": {
    "colab": {
     "base_uri": "https://localhost:8080/",
     "height": 297
    },
    "id": "5WD70bcJu5wE",
    "outputId": "be07947f-adc0-4403-ba5f-67612b394297"
   },
   "outputs": [
    {
     "data": {
      "text/html": [
       "<div>\n",
       "<style scoped>\n",
       "    .dataframe tbody tr th:only-of-type {\n",
       "        vertical-align: middle;\n",
       "    }\n",
       "\n",
       "    .dataframe tbody tr th {\n",
       "        vertical-align: top;\n",
       "    }\n",
       "\n",
       "    .dataframe thead th {\n",
       "        text-align: right;\n",
       "    }\n",
       "</style>\n",
       "<table border=\"1\" class=\"dataframe\">\n",
       "  <thead>\n",
       "    <tr style=\"text-align: right;\">\n",
       "      <th></th>\n",
       "      <th>Fname</th>\n",
       "      <th>Minit</th>\n",
       "      <th>Lname</th>\n",
       "      <th>Ssn</th>\n",
       "      <th>Bdate</th>\n",
       "      <th>Address</th>\n",
       "      <th>Sex</th>\n",
       "      <th>Salary</th>\n",
       "      <th>Superssn</th>\n",
       "      <th>Dno</th>\n",
       "    </tr>\n",
       "  </thead>\n",
       "  <tbody>\n",
       "    <tr>\n",
       "      <th>0</th>\n",
       "      <td>John</td>\n",
       "      <td>B</td>\n",
       "      <td>Smith</td>\n",
       "      <td>123456789</td>\n",
       "      <td>1965-01-09</td>\n",
       "      <td>731-Fondren-Houston-TX</td>\n",
       "      <td>M</td>\n",
       "      <td>30000.0</td>\n",
       "      <td>333445555.0</td>\n",
       "      <td>5</td>\n",
       "    </tr>\n",
       "    <tr>\n",
       "      <th>1</th>\n",
       "      <td>Franklin</td>\n",
       "      <td>T</td>\n",
       "      <td>Wong</td>\n",
       "      <td>333445555</td>\n",
       "      <td>1955-12-08</td>\n",
       "      <td>638-Voss-Houston-TX</td>\n",
       "      <td>M</td>\n",
       "      <td>40000.0</td>\n",
       "      <td>888665555.0</td>\n",
       "      <td>5</td>\n",
       "    </tr>\n",
       "    <tr>\n",
       "      <th>2</th>\n",
       "      <td>Joyce</td>\n",
       "      <td>A</td>\n",
       "      <td>English</td>\n",
       "      <td>453453453</td>\n",
       "      <td>1972-07-31</td>\n",
       "      <td>5631-Rice-Houston-TX</td>\n",
       "      <td>F</td>\n",
       "      <td>25000.0</td>\n",
       "      <td>333445555.0</td>\n",
       "      <td>5</td>\n",
       "    </tr>\n",
       "    <tr>\n",
       "      <th>3</th>\n",
       "      <td>Ramesh</td>\n",
       "      <td>K</td>\n",
       "      <td>Narayan</td>\n",
       "      <td>666884444</td>\n",
       "      <td>1962-09-15</td>\n",
       "      <td>975-Fire-Oak-Humble-TX</td>\n",
       "      <td>M</td>\n",
       "      <td>38000.0</td>\n",
       "      <td>333445555.0</td>\n",
       "      <td>5</td>\n",
       "    </tr>\n",
       "    <tr>\n",
       "      <th>4</th>\n",
       "      <td>James</td>\n",
       "      <td>E</td>\n",
       "      <td>Borg</td>\n",
       "      <td>888665555</td>\n",
       "      <td>1937-11-10</td>\n",
       "      <td>450-Stone-Houston-TX</td>\n",
       "      <td>M</td>\n",
       "      <td>55000.0</td>\n",
       "      <td>NaN</td>\n",
       "      <td>1</td>\n",
       "    </tr>\n",
       "    <tr>\n",
       "      <th>5</th>\n",
       "      <td>Jennifer</td>\n",
       "      <td>S</td>\n",
       "      <td>Wallace</td>\n",
       "      <td>987654321</td>\n",
       "      <td>1941-06-20</td>\n",
       "      <td>291-Berry-Bellaire-TX</td>\n",
       "      <td>F</td>\n",
       "      <td>43000.0</td>\n",
       "      <td>888665555.0</td>\n",
       "      <td>4</td>\n",
       "    </tr>\n",
       "    <tr>\n",
       "      <th>6</th>\n",
       "      <td>Ahmad</td>\n",
       "      <td>V</td>\n",
       "      <td>Jabbar</td>\n",
       "      <td>987987987</td>\n",
       "      <td>1969-03-29</td>\n",
       "      <td>980-Dallas-Houston-TX</td>\n",
       "      <td>M</td>\n",
       "      <td>25000.0</td>\n",
       "      <td>987654321.0</td>\n",
       "      <td>4</td>\n",
       "    </tr>\n",
       "    <tr>\n",
       "      <th>7</th>\n",
       "      <td>Alicia</td>\n",
       "      <td>J</td>\n",
       "      <td>Zelaya</td>\n",
       "      <td>999887777</td>\n",
       "      <td>1968-01-19</td>\n",
       "      <td>3321-Castle-Spring-TX</td>\n",
       "      <td>F</td>\n",
       "      <td>25000.0</td>\n",
       "      <td>987654321.0</td>\n",
       "      <td>4</td>\n",
       "    </tr>\n",
       "  </tbody>\n",
       "</table>\n",
       "</div>"
      ],
      "text/plain": [
       "      Fname Minit    Lname        Ssn  ... Sex   Salary     Superssn  Dno\n",
       "0      John     B    Smith  123456789  ...   M  30000.0  333445555.0    5\n",
       "1  Franklin     T     Wong  333445555  ...   M  40000.0  888665555.0    5\n",
       "2     Joyce     A  English  453453453  ...   F  25000.0  333445555.0    5\n",
       "3    Ramesh     K  Narayan  666884444  ...   M  38000.0  333445555.0    5\n",
       "4     James     E     Borg  888665555  ...   M  55000.0          NaN    1\n",
       "5  Jennifer     S  Wallace  987654321  ...   F  43000.0  888665555.0    4\n",
       "6     Ahmad     V   Jabbar  987987987  ...   M  25000.0  987654321.0    4\n",
       "7    Alicia     J   Zelaya  999887777  ...   F  25000.0  987654321.0    4\n",
       "\n",
       "[8 rows x 10 columns]"
      ]
     },
     "execution_count": 36,
     "metadata": {
      "tags": []
     },
     "output_type": "execute_result"
    }
   ],
   "source": [
    "left_outer_join(E, E)"
   ]
  },
  {
   "cell_type": "code",
   "execution_count": null,
   "metadata": {
    "id": "3vo1N5zvu5wG"
   },
   "outputs": [],
   "source": [
    "def right_outer_join(R, S):\n",
    "        return pd.merge(R, S, how='right').reset_index(drop=True)"
   ]
  },
  {
   "cell_type": "code",
   "execution_count": null,
   "metadata": {
    "colab": {
     "base_uri": "https://localhost:8080/",
     "height": 204
    },
    "id": "yuiAOPYhu5wI",
    "outputId": "2393c9bf-6cb2-4d1c-c393-47bf64cda6ed"
   },
   "outputs": [
    {
     "data": {
      "text/html": [
       "<div>\n",
       "<style scoped>\n",
       "    .dataframe tbody tr th:only-of-type {\n",
       "        vertical-align: middle;\n",
       "    }\n",
       "\n",
       "    .dataframe tbody tr th {\n",
       "        vertical-align: top;\n",
       "    }\n",
       "\n",
       "    .dataframe thead th {\n",
       "        text-align: right;\n",
       "    }\n",
       "</style>\n",
       "<table border=\"1\" class=\"dataframe\">\n",
       "  <thead>\n",
       "    <tr style=\"text-align: right;\">\n",
       "      <th></th>\n",
       "      <th>Dname</th>\n",
       "      <th>Dnumber</th>\n",
       "      <th>Mgrssn</th>\n",
       "      <th>Mgrstartdate</th>\n",
       "      <th>Dlocation</th>\n",
       "    </tr>\n",
       "  </thead>\n",
       "  <tbody>\n",
       "    <tr>\n",
       "      <th>0</th>\n",
       "      <td>Headquarters</td>\n",
       "      <td>1</td>\n",
       "      <td>888665555</td>\n",
       "      <td>1981-06-19</td>\n",
       "      <td>Houston</td>\n",
       "    </tr>\n",
       "    <tr>\n",
       "      <th>1</th>\n",
       "      <td>Administration</td>\n",
       "      <td>4</td>\n",
       "      <td>987654321</td>\n",
       "      <td>1995-01-01</td>\n",
       "      <td>Stafford</td>\n",
       "    </tr>\n",
       "    <tr>\n",
       "      <th>2</th>\n",
       "      <td>Research</td>\n",
       "      <td>5</td>\n",
       "      <td>333445555</td>\n",
       "      <td>1988-05-22</td>\n",
       "      <td>Bellaire</td>\n",
       "    </tr>\n",
       "    <tr>\n",
       "      <th>3</th>\n",
       "      <td>Research</td>\n",
       "      <td>5</td>\n",
       "      <td>333445555</td>\n",
       "      <td>1988-05-22</td>\n",
       "      <td>Houston</td>\n",
       "    </tr>\n",
       "    <tr>\n",
       "      <th>4</th>\n",
       "      <td>Research</td>\n",
       "      <td>5</td>\n",
       "      <td>333445555</td>\n",
       "      <td>1988-05-22</td>\n",
       "      <td>Sugarland</td>\n",
       "    </tr>\n",
       "  </tbody>\n",
       "</table>\n",
       "</div>"
      ],
      "text/plain": [
       "            Dname  Dnumber     Mgrssn Mgrstartdate  Dlocation\n",
       "0    Headquarters        1  888665555   1981-06-19    Houston\n",
       "1  Administration        4  987654321   1995-01-01   Stafford\n",
       "2        Research        5  333445555   1988-05-22   Bellaire\n",
       "3        Research        5  333445555   1988-05-22    Houston\n",
       "4        Research        5  333445555   1988-05-22  Sugarland"
      ]
     },
     "execution_count": 38,
     "metadata": {
      "tags": []
     },
     "output_type": "execute_result"
    }
   ],
   "source": [
    "right_outer_join(D, DL)"
   ]
  },
  {
   "cell_type": "code",
   "execution_count": null,
   "metadata": {
    "id": "wLGmvMhUu5wK"
   },
   "outputs": [],
   "source": [
    "def left_outer_join(R, S, keys_R, keys_S):\n",
    "    return pd.merge(R, S, how='left', left_on=keys_R, right_on=keys_S)\\\n",
    "           .reset_index(drop=True)"
   ]
  },
  {
   "cell_type": "code",
   "execution_count": null,
   "metadata": {
    "colab": {
     "base_uri": "https://localhost:8080/",
     "height": 297
    },
    "id": "Z1akvfqBu5wM",
    "outputId": "8c617453-a27f-4603-f82e-c6803deaf26f"
   },
   "outputs": [
    {
     "data": {
      "text/html": [
       "<div>\n",
       "<style scoped>\n",
       "    .dataframe tbody tr th:only-of-type {\n",
       "        vertical-align: middle;\n",
       "    }\n",
       "\n",
       "    .dataframe tbody tr th {\n",
       "        vertical-align: top;\n",
       "    }\n",
       "\n",
       "    .dataframe thead th {\n",
       "        text-align: right;\n",
       "    }\n",
       "</style>\n",
       "<table border=\"1\" class=\"dataframe\">\n",
       "  <thead>\n",
       "    <tr style=\"text-align: right;\">\n",
       "      <th></th>\n",
       "      <th>Fname</th>\n",
       "      <th>Minit</th>\n",
       "      <th>Lname</th>\n",
       "      <th>Ssn</th>\n",
       "      <th>Bdate</th>\n",
       "      <th>Address</th>\n",
       "      <th>Sex</th>\n",
       "      <th>Salary</th>\n",
       "      <th>Superssn</th>\n",
       "      <th>Dno</th>\n",
       "      <th>Dname</th>\n",
       "      <th>Dnumber</th>\n",
       "      <th>Mgrssn</th>\n",
       "      <th>Mgrstartdate</th>\n",
       "    </tr>\n",
       "  </thead>\n",
       "  <tbody>\n",
       "    <tr>\n",
       "      <th>0</th>\n",
       "      <td>John</td>\n",
       "      <td>B</td>\n",
       "      <td>Smith</td>\n",
       "      <td>123456789</td>\n",
       "      <td>1965-01-09</td>\n",
       "      <td>731-Fondren-Houston-TX</td>\n",
       "      <td>M</td>\n",
       "      <td>30000.0</td>\n",
       "      <td>333445555.0</td>\n",
       "      <td>5</td>\n",
       "      <td>Research</td>\n",
       "      <td>5</td>\n",
       "      <td>333445555</td>\n",
       "      <td>1988-05-22</td>\n",
       "    </tr>\n",
       "    <tr>\n",
       "      <th>1</th>\n",
       "      <td>Franklin</td>\n",
       "      <td>T</td>\n",
       "      <td>Wong</td>\n",
       "      <td>333445555</td>\n",
       "      <td>1955-12-08</td>\n",
       "      <td>638-Voss-Houston-TX</td>\n",
       "      <td>M</td>\n",
       "      <td>40000.0</td>\n",
       "      <td>888665555.0</td>\n",
       "      <td>5</td>\n",
       "      <td>Research</td>\n",
       "      <td>5</td>\n",
       "      <td>333445555</td>\n",
       "      <td>1988-05-22</td>\n",
       "    </tr>\n",
       "    <tr>\n",
       "      <th>2</th>\n",
       "      <td>Joyce</td>\n",
       "      <td>A</td>\n",
       "      <td>English</td>\n",
       "      <td>453453453</td>\n",
       "      <td>1972-07-31</td>\n",
       "      <td>5631-Rice-Houston-TX</td>\n",
       "      <td>F</td>\n",
       "      <td>25000.0</td>\n",
       "      <td>333445555.0</td>\n",
       "      <td>5</td>\n",
       "      <td>Research</td>\n",
       "      <td>5</td>\n",
       "      <td>333445555</td>\n",
       "      <td>1988-05-22</td>\n",
       "    </tr>\n",
       "    <tr>\n",
       "      <th>3</th>\n",
       "      <td>Ramesh</td>\n",
       "      <td>K</td>\n",
       "      <td>Narayan</td>\n",
       "      <td>666884444</td>\n",
       "      <td>1962-09-15</td>\n",
       "      <td>975-Fire-Oak-Humble-TX</td>\n",
       "      <td>M</td>\n",
       "      <td>38000.0</td>\n",
       "      <td>333445555.0</td>\n",
       "      <td>5</td>\n",
       "      <td>Research</td>\n",
       "      <td>5</td>\n",
       "      <td>333445555</td>\n",
       "      <td>1988-05-22</td>\n",
       "    </tr>\n",
       "    <tr>\n",
       "      <th>4</th>\n",
       "      <td>James</td>\n",
       "      <td>E</td>\n",
       "      <td>Borg</td>\n",
       "      <td>888665555</td>\n",
       "      <td>1937-11-10</td>\n",
       "      <td>450-Stone-Houston-TX</td>\n",
       "      <td>M</td>\n",
       "      <td>55000.0</td>\n",
       "      <td>NaN</td>\n",
       "      <td>1</td>\n",
       "      <td>Headquarters</td>\n",
       "      <td>1</td>\n",
       "      <td>888665555</td>\n",
       "      <td>1981-06-19</td>\n",
       "    </tr>\n",
       "    <tr>\n",
       "      <th>5</th>\n",
       "      <td>Jennifer</td>\n",
       "      <td>S</td>\n",
       "      <td>Wallace</td>\n",
       "      <td>987654321</td>\n",
       "      <td>1941-06-20</td>\n",
       "      <td>291-Berry-Bellaire-TX</td>\n",
       "      <td>F</td>\n",
       "      <td>43000.0</td>\n",
       "      <td>888665555.0</td>\n",
       "      <td>4</td>\n",
       "      <td>Administration</td>\n",
       "      <td>4</td>\n",
       "      <td>987654321</td>\n",
       "      <td>1995-01-01</td>\n",
       "    </tr>\n",
       "    <tr>\n",
       "      <th>6</th>\n",
       "      <td>Ahmad</td>\n",
       "      <td>V</td>\n",
       "      <td>Jabbar</td>\n",
       "      <td>987987987</td>\n",
       "      <td>1969-03-29</td>\n",
       "      <td>980-Dallas-Houston-TX</td>\n",
       "      <td>M</td>\n",
       "      <td>25000.0</td>\n",
       "      <td>987654321.0</td>\n",
       "      <td>4</td>\n",
       "      <td>Administration</td>\n",
       "      <td>4</td>\n",
       "      <td>987654321</td>\n",
       "      <td>1995-01-01</td>\n",
       "    </tr>\n",
       "    <tr>\n",
       "      <th>7</th>\n",
       "      <td>Alicia</td>\n",
       "      <td>J</td>\n",
       "      <td>Zelaya</td>\n",
       "      <td>999887777</td>\n",
       "      <td>1968-01-19</td>\n",
       "      <td>3321-Castle-Spring-TX</td>\n",
       "      <td>F</td>\n",
       "      <td>25000.0</td>\n",
       "      <td>987654321.0</td>\n",
       "      <td>4</td>\n",
       "      <td>Administration</td>\n",
       "      <td>4</td>\n",
       "      <td>987654321</td>\n",
       "      <td>1995-01-01</td>\n",
       "    </tr>\n",
       "  </tbody>\n",
       "</table>\n",
       "</div>"
      ],
      "text/plain": [
       "      Fname Minit    Lname  ...  Dnumber     Mgrssn Mgrstartdate\n",
       "0      John     B    Smith  ...        5  333445555   1988-05-22\n",
       "1  Franklin     T     Wong  ...        5  333445555   1988-05-22\n",
       "2     Joyce     A  English  ...        5  333445555   1988-05-22\n",
       "3    Ramesh     K  Narayan  ...        5  333445555   1988-05-22\n",
       "4     James     E     Borg  ...        1  888665555   1981-06-19\n",
       "5  Jennifer     S  Wallace  ...        4  987654321   1995-01-01\n",
       "6     Ahmad     V   Jabbar  ...        4  987654321   1995-01-01\n",
       "7    Alicia     J   Zelaya  ...        4  987654321   1995-01-01\n",
       "\n",
       "[8 rows x 14 columns]"
      ]
     },
     "execution_count": 40,
     "metadata": {
      "tags": []
     },
     "output_type": "execute_result"
    }
   ],
   "source": [
    "left_outer_join(E, D, ['Dno'], ['Dnumber'])"
   ]
  },
  {
   "cell_type": "code",
   "execution_count": null,
   "metadata": {
    "colab": {
     "base_uri": "https://localhost:8080/",
     "height": 297
    },
    "id": "cV8JUTaqu5wN",
    "outputId": "558720f1-bb46-4ea7-e2b1-4f434ad6df1a"
   },
   "outputs": [
    {
     "data": {
      "text/html": [
       "<div>\n",
       "<style scoped>\n",
       "    .dataframe tbody tr th:only-of-type {\n",
       "        vertical-align: middle;\n",
       "    }\n",
       "\n",
       "    .dataframe tbody tr th {\n",
       "        vertical-align: top;\n",
       "    }\n",
       "\n",
       "    .dataframe thead th {\n",
       "        text-align: right;\n",
       "    }\n",
       "</style>\n",
       "<table border=\"1\" class=\"dataframe\">\n",
       "  <thead>\n",
       "    <tr style=\"text-align: right;\">\n",
       "      <th></th>\n",
       "      <th>Fname_x</th>\n",
       "      <th>Minit_x</th>\n",
       "      <th>Lname_x</th>\n",
       "      <th>Ssn_x</th>\n",
       "      <th>Bdate_x</th>\n",
       "      <th>Address_x</th>\n",
       "      <th>Sex_x</th>\n",
       "      <th>Salary_x</th>\n",
       "      <th>Superssn_x</th>\n",
       "      <th>Dno_x</th>\n",
       "      <th>Fname_y</th>\n",
       "      <th>Minit_y</th>\n",
       "      <th>Lname_y</th>\n",
       "      <th>Ssn_y</th>\n",
       "      <th>Bdate_y</th>\n",
       "      <th>Address_y</th>\n",
       "      <th>Sex_y</th>\n",
       "      <th>Salary_y</th>\n",
       "      <th>Superssn_y</th>\n",
       "      <th>Dno_y</th>\n",
       "    </tr>\n",
       "  </thead>\n",
       "  <tbody>\n",
       "    <tr>\n",
       "      <th>0</th>\n",
       "      <td>John</td>\n",
       "      <td>B</td>\n",
       "      <td>Smith</td>\n",
       "      <td>123456789</td>\n",
       "      <td>1965-01-09</td>\n",
       "      <td>731-Fondren-Houston-TX</td>\n",
       "      <td>M</td>\n",
       "      <td>30000.0</td>\n",
       "      <td>333445555.0</td>\n",
       "      <td>5</td>\n",
       "      <td>Franklin</td>\n",
       "      <td>T</td>\n",
       "      <td>Wong</td>\n",
       "      <td>333445555.0</td>\n",
       "      <td>1955-12-08</td>\n",
       "      <td>638-Voss-Houston-TX</td>\n",
       "      <td>M</td>\n",
       "      <td>40000.0</td>\n",
       "      <td>888665555.0</td>\n",
       "      <td>5.0</td>\n",
       "    </tr>\n",
       "    <tr>\n",
       "      <th>1</th>\n",
       "      <td>Franklin</td>\n",
       "      <td>T</td>\n",
       "      <td>Wong</td>\n",
       "      <td>333445555</td>\n",
       "      <td>1955-12-08</td>\n",
       "      <td>638-Voss-Houston-TX</td>\n",
       "      <td>M</td>\n",
       "      <td>40000.0</td>\n",
       "      <td>888665555.0</td>\n",
       "      <td>5</td>\n",
       "      <td>James</td>\n",
       "      <td>E</td>\n",
       "      <td>Borg</td>\n",
       "      <td>888665555.0</td>\n",
       "      <td>1937-11-10</td>\n",
       "      <td>450-Stone-Houston-TX</td>\n",
       "      <td>M</td>\n",
       "      <td>55000.0</td>\n",
       "      <td>NaN</td>\n",
       "      <td>1.0</td>\n",
       "    </tr>\n",
       "    <tr>\n",
       "      <th>2</th>\n",
       "      <td>Joyce</td>\n",
       "      <td>A</td>\n",
       "      <td>English</td>\n",
       "      <td>453453453</td>\n",
       "      <td>1972-07-31</td>\n",
       "      <td>5631-Rice-Houston-TX</td>\n",
       "      <td>F</td>\n",
       "      <td>25000.0</td>\n",
       "      <td>333445555.0</td>\n",
       "      <td>5</td>\n",
       "      <td>Franklin</td>\n",
       "      <td>T</td>\n",
       "      <td>Wong</td>\n",
       "      <td>333445555.0</td>\n",
       "      <td>1955-12-08</td>\n",
       "      <td>638-Voss-Houston-TX</td>\n",
       "      <td>M</td>\n",
       "      <td>40000.0</td>\n",
       "      <td>888665555.0</td>\n",
       "      <td>5.0</td>\n",
       "    </tr>\n",
       "    <tr>\n",
       "      <th>3</th>\n",
       "      <td>Ramesh</td>\n",
       "      <td>K</td>\n",
       "      <td>Narayan</td>\n",
       "      <td>666884444</td>\n",
       "      <td>1962-09-15</td>\n",
       "      <td>975-Fire-Oak-Humble-TX</td>\n",
       "      <td>M</td>\n",
       "      <td>38000.0</td>\n",
       "      <td>333445555.0</td>\n",
       "      <td>5</td>\n",
       "      <td>Franklin</td>\n",
       "      <td>T</td>\n",
       "      <td>Wong</td>\n",
       "      <td>333445555.0</td>\n",
       "      <td>1955-12-08</td>\n",
       "      <td>638-Voss-Houston-TX</td>\n",
       "      <td>M</td>\n",
       "      <td>40000.0</td>\n",
       "      <td>888665555.0</td>\n",
       "      <td>5.0</td>\n",
       "    </tr>\n",
       "    <tr>\n",
       "      <th>4</th>\n",
       "      <td>James</td>\n",
       "      <td>E</td>\n",
       "      <td>Borg</td>\n",
       "      <td>888665555</td>\n",
       "      <td>1937-11-10</td>\n",
       "      <td>450-Stone-Houston-TX</td>\n",
       "      <td>M</td>\n",
       "      <td>55000.0</td>\n",
       "      <td>NaN</td>\n",
       "      <td>1</td>\n",
       "      <td>NaN</td>\n",
       "      <td>NaN</td>\n",
       "      <td>NaN</td>\n",
       "      <td>NaN</td>\n",
       "      <td>NaN</td>\n",
       "      <td>NaN</td>\n",
       "      <td>NaN</td>\n",
       "      <td>NaN</td>\n",
       "      <td>NaN</td>\n",
       "      <td>NaN</td>\n",
       "    </tr>\n",
       "    <tr>\n",
       "      <th>5</th>\n",
       "      <td>Jennifer</td>\n",
       "      <td>S</td>\n",
       "      <td>Wallace</td>\n",
       "      <td>987654321</td>\n",
       "      <td>1941-06-20</td>\n",
       "      <td>291-Berry-Bellaire-TX</td>\n",
       "      <td>F</td>\n",
       "      <td>43000.0</td>\n",
       "      <td>888665555.0</td>\n",
       "      <td>4</td>\n",
       "      <td>James</td>\n",
       "      <td>E</td>\n",
       "      <td>Borg</td>\n",
       "      <td>888665555.0</td>\n",
       "      <td>1937-11-10</td>\n",
       "      <td>450-Stone-Houston-TX</td>\n",
       "      <td>M</td>\n",
       "      <td>55000.0</td>\n",
       "      <td>NaN</td>\n",
       "      <td>1.0</td>\n",
       "    </tr>\n",
       "    <tr>\n",
       "      <th>6</th>\n",
       "      <td>Ahmad</td>\n",
       "      <td>V</td>\n",
       "      <td>Jabbar</td>\n",
       "      <td>987987987</td>\n",
       "      <td>1969-03-29</td>\n",
       "      <td>980-Dallas-Houston-TX</td>\n",
       "      <td>M</td>\n",
       "      <td>25000.0</td>\n",
       "      <td>987654321.0</td>\n",
       "      <td>4</td>\n",
       "      <td>Jennifer</td>\n",
       "      <td>S</td>\n",
       "      <td>Wallace</td>\n",
       "      <td>987654321.0</td>\n",
       "      <td>1941-06-20</td>\n",
       "      <td>291-Berry-Bellaire-TX</td>\n",
       "      <td>F</td>\n",
       "      <td>43000.0</td>\n",
       "      <td>888665555.0</td>\n",
       "      <td>4.0</td>\n",
       "    </tr>\n",
       "    <tr>\n",
       "      <th>7</th>\n",
       "      <td>Alicia</td>\n",
       "      <td>J</td>\n",
       "      <td>Zelaya</td>\n",
       "      <td>999887777</td>\n",
       "      <td>1968-01-19</td>\n",
       "      <td>3321-Castle-Spring-TX</td>\n",
       "      <td>F</td>\n",
       "      <td>25000.0</td>\n",
       "      <td>987654321.0</td>\n",
       "      <td>4</td>\n",
       "      <td>Jennifer</td>\n",
       "      <td>S</td>\n",
       "      <td>Wallace</td>\n",
       "      <td>987654321.0</td>\n",
       "      <td>1941-06-20</td>\n",
       "      <td>291-Berry-Bellaire-TX</td>\n",
       "      <td>F</td>\n",
       "      <td>43000.0</td>\n",
       "      <td>888665555.0</td>\n",
       "      <td>4.0</td>\n",
       "    </tr>\n",
       "  </tbody>\n",
       "</table>\n",
       "</div>"
      ],
      "text/plain": [
       "    Fname_x Minit_x  Lname_x      Ssn_x  ... Sex_y Salary_y   Superssn_y  Dno_y\n",
       "0      John       B    Smith  123456789  ...     M  40000.0  888665555.0    5.0\n",
       "1  Franklin       T     Wong  333445555  ...     M  55000.0          NaN    1.0\n",
       "2     Joyce       A  English  453453453  ...     M  40000.0  888665555.0    5.0\n",
       "3    Ramesh       K  Narayan  666884444  ...     M  40000.0  888665555.0    5.0\n",
       "4     James       E     Borg  888665555  ...   NaN      NaN          NaN    NaN\n",
       "5  Jennifer       S  Wallace  987654321  ...     M  55000.0          NaN    1.0\n",
       "6     Ahmad       V   Jabbar  987987987  ...     F  43000.0  888665555.0    4.0\n",
       "7    Alicia       J   Zelaya  999887777  ...     F  43000.0  888665555.0    4.0\n",
       "\n",
       "[8 rows x 20 columns]"
      ]
     },
     "execution_count": 41,
     "metadata": {
      "tags": []
     },
     "output_type": "execute_result"
    }
   ],
   "source": [
    "left_outer_join(E, E, ['Superssn'], ['Ssn'])"
   ]
  },
  {
   "cell_type": "markdown",
   "metadata": {
    "id": "2-W6BUFYu5wQ"
   },
   "source": [
    "## Division"
   ]
  },
  {
   "cell_type": "code",
   "execution_count": null,
   "metadata": {
    "id": "Kid0ESn_u5wQ"
   },
   "outputs": [],
   "source": [
    "def division(R, S):\n",
    "    Z = set(R.columns)\n",
    "    X = set(S.columns)\n",
    "    assert X <= Z\n",
    "    Y = pd.Index(Z - X)\n",
    "    T1 = project(R, Y)\n",
    "    T2 = project(minus(product(T1, S), R), Y)\n",
    "    T = minus(T1, T2)\n",
    "    return T.reset_index(drop=True)"
   ]
  },
  {
   "cell_type": "markdown",
   "metadata": {
    "id": "LTDq5QBRu5wS"
   },
   "source": [
    "### Division Examples"
   ]
  },
  {
   "cell_type": "code",
   "execution_count": null,
   "metadata": {
    "id": "4LprK28bu5wT"
   },
   "outputs": [],
   "source": [
    "U = project(WO, ['Essn', 'Pno'])"
   ]
  },
  {
   "cell_type": "code",
   "execution_count": null,
   "metadata": {
    "id": "sjcfke3yu5wV"
   },
   "outputs": [],
   "source": [
    "V1 = rename(project(select(P, \"Plocation == 'Houston'\"), ['Pnumber']), {'Pnumber':'Pno'})"
   ]
  },
  {
   "cell_type": "code",
   "execution_count": null,
   "metadata": {
    "colab": {
     "base_uri": "https://localhost:8080/",
     "height": 80
    },
    "id": "YpcPZhlSu5wX",
    "outputId": "ccf156a5-44a9-42c1-fa7a-85c4fff09d69"
   },
   "outputs": [
    {
     "data": {
      "text/html": [
       "<div>\n",
       "<style scoped>\n",
       "    .dataframe tbody tr th:only-of-type {\n",
       "        vertical-align: middle;\n",
       "    }\n",
       "\n",
       "    .dataframe tbody tr th {\n",
       "        vertical-align: top;\n",
       "    }\n",
       "\n",
       "    .dataframe thead th {\n",
       "        text-align: right;\n",
       "    }\n",
       "</style>\n",
       "<table border=\"1\" class=\"dataframe\">\n",
       "  <thead>\n",
       "    <tr style=\"text-align: right;\">\n",
       "      <th></th>\n",
       "      <th>Essn</th>\n",
       "    </tr>\n",
       "  </thead>\n",
       "  <tbody>\n",
       "    <tr>\n",
       "      <th>0</th>\n",
       "      <td>333445555</td>\n",
       "    </tr>\n",
       "  </tbody>\n",
       "</table>\n",
       "</div>"
      ],
      "text/plain": [
       "        Essn\n",
       "0  333445555"
      ]
     },
     "execution_count": 45,
     "metadata": {
      "tags": []
     },
     "output_type": "execute_result"
    }
   ],
   "source": [
    "division(U, V1)"
   ]
  },
  {
   "cell_type": "code",
   "execution_count": null,
   "metadata": {
    "id": "YeU4Vy50u5wa"
   },
   "outputs": [],
   "source": [
    "V2 = pd.DataFrame({'Pno':[1,2]})"
   ]
  },
  {
   "cell_type": "code",
   "execution_count": null,
   "metadata": {
    "colab": {
     "base_uri": "https://localhost:8080/",
     "height": 111
    },
    "id": "NwdYJWT6u5wc",
    "outputId": "1532fed6-8aff-4d87-8df7-6c54a4c40f11"
   },
   "outputs": [
    {
     "data": {
      "text/html": [
       "<div>\n",
       "<style scoped>\n",
       "    .dataframe tbody tr th:only-of-type {\n",
       "        vertical-align: middle;\n",
       "    }\n",
       "\n",
       "    .dataframe tbody tr th {\n",
       "        vertical-align: top;\n",
       "    }\n",
       "\n",
       "    .dataframe thead th {\n",
       "        text-align: right;\n",
       "    }\n",
       "</style>\n",
       "<table border=\"1\" class=\"dataframe\">\n",
       "  <thead>\n",
       "    <tr style=\"text-align: right;\">\n",
       "      <th></th>\n",
       "      <th>Essn</th>\n",
       "    </tr>\n",
       "  </thead>\n",
       "  <tbody>\n",
       "    <tr>\n",
       "      <th>0</th>\n",
       "      <td>123456789</td>\n",
       "    </tr>\n",
       "    <tr>\n",
       "      <th>1</th>\n",
       "      <td>453453453</td>\n",
       "    </tr>\n",
       "  </tbody>\n",
       "</table>\n",
       "</div>"
      ],
      "text/plain": [
       "        Essn\n",
       "0  123456789\n",
       "1  453453453"
      ]
     },
     "execution_count": 47,
     "metadata": {
      "tags": []
     },
     "output_type": "execute_result"
    }
   ],
   "source": [
    "division(U, V2)"
   ]
  },
  {
   "cell_type": "markdown",
   "metadata": {
    "id": "UvLextlCu5wf"
   },
   "source": [
    "#### Q. Retrieve the names of all employees in department 5 who work more than 10 hours per week on the ProductX project."
   ]
  },
  {
   "cell_type": "code",
   "execution_count": null,
   "metadata": {
    "colab": {
     "base_uri": "https://localhost:8080/",
     "height": 111
    },
    "id": "5fyWkJXDu5wf",
    "outputId": "b8b6ff51-6b32-4eff-8689-b8234f870b06"
   },
   "outputs": [
    {
     "data": {
      "text/html": [
       "<div>\n",
       "<style scoped>\n",
       "    .dataframe tbody tr th:only-of-type {\n",
       "        vertical-align: middle;\n",
       "    }\n",
       "\n",
       "    .dataframe tbody tr th {\n",
       "        vertical-align: top;\n",
       "    }\n",
       "\n",
       "    .dataframe thead th {\n",
       "        text-align: right;\n",
       "    }\n",
       "</style>\n",
       "<table border=\"1\" class=\"dataframe\">\n",
       "  <thead>\n",
       "    <tr style=\"text-align: right;\">\n",
       "      <th></th>\n",
       "      <th>Fname</th>\n",
       "      <th>Lname</th>\n",
       "    </tr>\n",
       "  </thead>\n",
       "  <tbody>\n",
       "    <tr>\n",
       "      <th>0</th>\n",
       "      <td>John</td>\n",
       "      <td>Smith</td>\n",
       "    </tr>\n",
       "    <tr>\n",
       "      <th>1</th>\n",
       "      <td>Joyce</td>\n",
       "      <td>English</td>\n",
       "    </tr>\n",
       "  </tbody>\n",
       "</table>\n",
       "</div>"
      ],
      "text/plain": [
       "   Fname    Lname\n",
       "0   John    Smith\n",
       "1  Joyce  English"
      ]
     },
     "execution_count": 48,
     "metadata": {
      "tags": []
     },
     "output_type": "execute_result"
    }
   ],
   "source": [
    "project(\n",
    "    natural_join2(\n",
    "        natural_join2(\n",
    "            select(E, \"Dno == 5\"),\n",
    "            select(WO, \"Hours > 10\"),\n",
    "            [\"Ssn\"], [\"Essn\"]\n",
    "        ),\n",
    "        select(\n",
    "            P,\n",
    "            \"Pname == 'ProductX'\"\n",
    "        ),\n",
    "        [\"Pno\"],\n",
    "        [\"Pnumber\"]\n",
    "    ),\n",
    "    [\"Fname\", \"Lname\"]\n",
    ")"
   ]
  },
  {
   "cell_type": "markdown",
   "metadata": {
    "id": "CkT6-Bcru5wg"
   },
   "source": [
    "## Aggregation\n",
    "\n",
    "F = {\"Salary\": \"sum\", \"Sex\": \"count\"}\n",
    "\n",
    "Limitation: Only one aggregate function is allowed per attribute\n",
    "\n",
    "Later, the following will be implemented:\n",
    "F = {\"Salary\": [\"count\", \"sum\"], \"Salary\": \"sum\", \"Sex\": \"count\"}"
   ]
  },
  {
   "cell_type": "code",
   "execution_count": null,
   "metadata": {
    "id": "QDPLjiYWu5wh"
   },
   "outputs": [],
   "source": [
    "def aggregate(R, F):\n",
    "    s = '{'\n",
    "    for e in F:\n",
    "        if F[e] == \"count\": s += \"'\" + e + \"': pd.Series.nunique, \"\n",
    "        elif F[e] == \"sum\": s += \"'\" + e + \"': pd.Series.sum, \"\n",
    "        elif F[e] == \"average\": s += \"'\" + e +  \"': pd.Series.mean, \"\n",
    "        elif F[e] == \"min\": s += \"'\" + e +  \"': pd.Series.min, \"\n",
    "        elif F[e] == \"max\": s += \"'\" + e +  \"': pd.Series.max, \"\n",
    "        else: assert False, \"not supported\"\n",
    "    s += '}'  \n",
    "    print(\"R.agg(\" + s +\")\")\n",
    "    return eval(\"R.agg(\" + s +\")\").to_frame().transpose()"
   ]
  },
  {
   "cell_type": "code",
   "execution_count": null,
   "metadata": {
    "colab": {
     "base_uri": "https://localhost:8080/",
     "height": 97
    },
    "id": "zMfwRPQUu5wi",
    "outputId": "4c92e3ae-1668-4e9c-a614-2900275ad203"
   },
   "outputs": [
    {
     "name": "stdout",
     "output_type": "stream",
     "text": [
      "R.agg({'Salary': pd.Series.sum, })\n"
     ]
    },
    {
     "data": {
      "text/html": [
       "<div>\n",
       "<style scoped>\n",
       "    .dataframe tbody tr th:only-of-type {\n",
       "        vertical-align: middle;\n",
       "    }\n",
       "\n",
       "    .dataframe tbody tr th {\n",
       "        vertical-align: top;\n",
       "    }\n",
       "\n",
       "    .dataframe thead th {\n",
       "        text-align: right;\n",
       "    }\n",
       "</style>\n",
       "<table border=\"1\" class=\"dataframe\">\n",
       "  <thead>\n",
       "    <tr style=\"text-align: right;\">\n",
       "      <th></th>\n",
       "      <th>Salary</th>\n",
       "    </tr>\n",
       "  </thead>\n",
       "  <tbody>\n",
       "    <tr>\n",
       "      <th>0</th>\n",
       "      <td>281000.0</td>\n",
       "    </tr>\n",
       "  </tbody>\n",
       "</table>\n",
       "</div>"
      ],
      "text/plain": [
       "     Salary\n",
       "0  281000.0"
      ]
     },
     "execution_count": 50,
     "metadata": {
      "tags": []
     },
     "output_type": "execute_result"
    }
   ],
   "source": [
    "aggregate(E, {\"Salary\" : \"sum\"})"
   ]
  },
  {
   "cell_type": "code",
   "execution_count": null,
   "metadata": {
    "colab": {
     "base_uri": "https://localhost:8080/",
     "height": 97
    },
    "id": "dcjHDbhVu5wk",
    "outputId": "e0c769a7-947f-4afe-fdcb-6f1c4a66639a"
   },
   "outputs": [
    {
     "name": "stdout",
     "output_type": "stream",
     "text": [
      "R.agg({'Salary': pd.Series.sum, 'Sex': pd.Series.nunique, })\n"
     ]
    },
    {
     "data": {
      "text/html": [
       "<div>\n",
       "<style scoped>\n",
       "    .dataframe tbody tr th:only-of-type {\n",
       "        vertical-align: middle;\n",
       "    }\n",
       "\n",
       "    .dataframe tbody tr th {\n",
       "        vertical-align: top;\n",
       "    }\n",
       "\n",
       "    .dataframe thead th {\n",
       "        text-align: right;\n",
       "    }\n",
       "</style>\n",
       "<table border=\"1\" class=\"dataframe\">\n",
       "  <thead>\n",
       "    <tr style=\"text-align: right;\">\n",
       "      <th></th>\n",
       "      <th>Salary</th>\n",
       "      <th>Sex</th>\n",
       "    </tr>\n",
       "  </thead>\n",
       "  <tbody>\n",
       "    <tr>\n",
       "      <th>0</th>\n",
       "      <td>281000.0</td>\n",
       "      <td>2.0</td>\n",
       "    </tr>\n",
       "  </tbody>\n",
       "</table>\n",
       "</div>"
      ],
      "text/plain": [
       "     Salary  Sex\n",
       "0  281000.0  2.0"
      ]
     },
     "execution_count": 51,
     "metadata": {
      "tags": []
     },
     "output_type": "execute_result"
    }
   ],
   "source": [
    "aggregate(E, {\"Salary\" : \"sum\", \"Sex\" : \"count\"})"
   ]
  },
  {
   "cell_type": "code",
   "execution_count": null,
   "metadata": {
    "id": "kXcMkuQYu5wm"
   },
   "outputs": [],
   "source": [
    "def aggregate2(R, G, F):\n",
    "    s = '{'\n",
    "    for e in F:\n",
    "        if F[e] == \"count\": s += \"'\" + e + \"': pd.Series.nunique, \"\n",
    "        elif F[e] == \"sum\": s += \"'\" + e + \"': pd.Series.sum, \"\n",
    "        elif F[e] == \"average\": s += \"'\" + e +  \"': pd.Series.mean, \"\n",
    "        elif F[e] == \"min\": s += \"'\" + e +  \"': pd.Series.min, \"\n",
    "        elif F[e] == \"max\": s += \"'\" + e +  \"': pd.Series.max, \"\n",
    "        else: assert False, \"not supported\"\n",
    "    s += '}'  \n",
    "    print(\"R.groupby(by=G, as_index=False).agg(\" + s +\")\")\n",
    "    return eval(\"R.groupby(by=G, as_index=False).agg(\" + s +\")\")"
   ]
  },
  {
   "cell_type": "code",
   "execution_count": null,
   "metadata": {
    "colab": {
     "base_uri": "https://localhost:8080/",
     "height": 159
    },
    "id": "ZLOdfKo-u5wn",
    "outputId": "75b489f8-71e9-4171-f61a-45fff6ba35bf"
   },
   "outputs": [
    {
     "name": "stdout",
     "output_type": "stream",
     "text": [
      "R.groupby(by=G, as_index=False).agg({'Salary': pd.Series.sum, })\n"
     ]
    },
    {
     "data": {
      "text/html": [
       "<div>\n",
       "<style scoped>\n",
       "    .dataframe tbody tr th:only-of-type {\n",
       "        vertical-align: middle;\n",
       "    }\n",
       "\n",
       "    .dataframe tbody tr th {\n",
       "        vertical-align: top;\n",
       "    }\n",
       "\n",
       "    .dataframe thead th {\n",
       "        text-align: right;\n",
       "    }\n",
       "</style>\n",
       "<table border=\"1\" class=\"dataframe\">\n",
       "  <thead>\n",
       "    <tr style=\"text-align: right;\">\n",
       "      <th></th>\n",
       "      <th>Dno</th>\n",
       "      <th>Salary</th>\n",
       "    </tr>\n",
       "  </thead>\n",
       "  <tbody>\n",
       "    <tr>\n",
       "      <th>0</th>\n",
       "      <td>1</td>\n",
       "      <td>55000.0</td>\n",
       "    </tr>\n",
       "    <tr>\n",
       "      <th>1</th>\n",
       "      <td>4</td>\n",
       "      <td>93000.0</td>\n",
       "    </tr>\n",
       "    <tr>\n",
       "      <th>2</th>\n",
       "      <td>5</td>\n",
       "      <td>133000.0</td>\n",
       "    </tr>\n",
       "  </tbody>\n",
       "</table>\n",
       "</div>"
      ],
      "text/plain": [
       "   Dno    Salary\n",
       "0    1   55000.0\n",
       "1    4   93000.0\n",
       "2    5  133000.0"
      ]
     },
     "execution_count": 53,
     "metadata": {
      "tags": []
     },
     "output_type": "execute_result"
    }
   ],
   "source": [
    "aggregate2(E, [\"Dno\"], {\"Salary\" : \"sum\"})"
   ]
  },
  {
   "cell_type": "code",
   "execution_count": null,
   "metadata": {
    "colab": {
     "base_uri": "https://localhost:8080/",
     "height": 159
    },
    "id": "9Kdr5Lgou5wo",
    "outputId": "fc0138db-0fa2-48bb-e889-5335c81c029d"
   },
   "outputs": [
    {
     "name": "stdout",
     "output_type": "stream",
     "text": [
      "R.groupby(by=G, as_index=False).agg({'Salary': pd.Series.sum, 'Sex': pd.Series.nunique, })\n"
     ]
    },
    {
     "data": {
      "text/html": [
       "<div>\n",
       "<style scoped>\n",
       "    .dataframe tbody tr th:only-of-type {\n",
       "        vertical-align: middle;\n",
       "    }\n",
       "\n",
       "    .dataframe tbody tr th {\n",
       "        vertical-align: top;\n",
       "    }\n",
       "\n",
       "    .dataframe thead th {\n",
       "        text-align: right;\n",
       "    }\n",
       "</style>\n",
       "<table border=\"1\" class=\"dataframe\">\n",
       "  <thead>\n",
       "    <tr style=\"text-align: right;\">\n",
       "      <th></th>\n",
       "      <th>Dno</th>\n",
       "      <th>Salary</th>\n",
       "      <th>Sex</th>\n",
       "    </tr>\n",
       "  </thead>\n",
       "  <tbody>\n",
       "    <tr>\n",
       "      <th>0</th>\n",
       "      <td>1</td>\n",
       "      <td>55000.0</td>\n",
       "      <td>1</td>\n",
       "    </tr>\n",
       "    <tr>\n",
       "      <th>1</th>\n",
       "      <td>4</td>\n",
       "      <td>93000.0</td>\n",
       "      <td>2</td>\n",
       "    </tr>\n",
       "    <tr>\n",
       "      <th>2</th>\n",
       "      <td>5</td>\n",
       "      <td>133000.0</td>\n",
       "      <td>2</td>\n",
       "    </tr>\n",
       "  </tbody>\n",
       "</table>\n",
       "</div>"
      ],
      "text/plain": [
       "   Dno    Salary  Sex\n",
       "0    1   55000.0    1\n",
       "1    4   93000.0    2\n",
       "2    5  133000.0    2"
      ]
     },
     "execution_count": 54,
     "metadata": {
      "tags": []
     },
     "output_type": "execute_result"
    }
   ],
   "source": [
    "aggregate2(E, [\"Dno\"], {\"Salary\" : \"sum\", \"Sex\" : \"count\"})"
   ]
  },
  {
   "cell_type": "markdown",
   "metadata": {
    "id": "yI9al3pXu5ws"
   },
   "source": [
    "#### Q. Retrieve the names of the highest paid employees in each department."
   ]
  },
  {
   "cell_type": "code",
   "execution_count": null,
   "metadata": {
    "colab": {
     "base_uri": "https://localhost:8080/",
     "height": 159
    },
    "id": "L6Y7w3AJu5ws",
    "outputId": "d7067618-b62c-41c9-cf96-4125cd646588"
   },
   "outputs": [
    {
     "name": "stdout",
     "output_type": "stream",
     "text": [
      "R.groupby(by=G, as_index=False).agg({'Salary': pd.Series.max, })\n"
     ]
    },
    {
     "data": {
      "text/html": [
       "<div>\n",
       "<style scoped>\n",
       "    .dataframe tbody tr th:only-of-type {\n",
       "        vertical-align: middle;\n",
       "    }\n",
       "\n",
       "    .dataframe tbody tr th {\n",
       "        vertical-align: top;\n",
       "    }\n",
       "\n",
       "    .dataframe thead th {\n",
       "        text-align: right;\n",
       "    }\n",
       "</style>\n",
       "<table border=\"1\" class=\"dataframe\">\n",
       "  <thead>\n",
       "    <tr style=\"text-align: right;\">\n",
       "      <th></th>\n",
       "      <th>Dname</th>\n",
       "      <th>Fname</th>\n",
       "      <th>Lname</th>\n",
       "      <th>Salary</th>\n",
       "    </tr>\n",
       "  </thead>\n",
       "  <tbody>\n",
       "    <tr>\n",
       "      <th>0</th>\n",
       "      <td>Research</td>\n",
       "      <td>Franklin</td>\n",
       "      <td>Wong</td>\n",
       "      <td>40000.0</td>\n",
       "    </tr>\n",
       "    <tr>\n",
       "      <th>1</th>\n",
       "      <td>Headquarters</td>\n",
       "      <td>James</td>\n",
       "      <td>Borg</td>\n",
       "      <td>55000.0</td>\n",
       "    </tr>\n",
       "    <tr>\n",
       "      <th>2</th>\n",
       "      <td>Administration</td>\n",
       "      <td>Jennifer</td>\n",
       "      <td>Wallace</td>\n",
       "      <td>43000.0</td>\n",
       "    </tr>\n",
       "  </tbody>\n",
       "</table>\n",
       "</div>"
      ],
      "text/plain": [
       "            Dname     Fname    Lname   Salary\n",
       "0        Research  Franklin     Wong  40000.0\n",
       "1    Headquarters     James     Borg  55000.0\n",
       "2  Administration  Jennifer  Wallace  43000.0"
      ]
     },
     "execution_count": 55,
     "metadata": {
      "tags": []
     },
     "output_type": "execute_result"
    }
   ],
   "source": [
    "project(\n",
    "    natural_join2(\n",
    "        natural_join(\n",
    "            E,\n",
    "            aggregate2(E, [\"Dno\"], {\"Salary\" : \"max\"})\n",
    "        ),\n",
    "        D,\n",
    "        [\"Dno\"],\n",
    "        [\"Dnumber\"]\n",
    "    ),\n",
    "    [\"Dname\", \"Fname\", \"Lname\", \"Salary\"]\n",
    ")"
   ]
  },
  {
   "cell_type": "markdown",
   "metadata": {
    "id": "K1DhEwQOu5wu"
   },
   "source": [
    "## Reorganization Project에 참여하는 직원의 이름은?"
   ]
  },
  {
   "cell_type": "code",
   "execution_count": null,
   "metadata": {
    "colab": {
     "base_uri": "https://localhost:8080/",
     "height": 419
    },
    "id": "yuKuAYl60bbp",
    "outputId": "07aa4685-6a48-4204-95bb-addabf6588ac"
   },
   "outputs": [
    {
     "data": {
      "text/html": [
       "<div>\n",
       "<style scoped>\n",
       "    .dataframe tbody tr th:only-of-type {\n",
       "        vertical-align: middle;\n",
       "    }\n",
       "\n",
       "    .dataframe tbody tr th {\n",
       "        vertical-align: top;\n",
       "    }\n",
       "\n",
       "    .dataframe thead th {\n",
       "        text-align: right;\n",
       "    }\n",
       "</style>\n",
       "<table border=\"1\" class=\"dataframe\">\n",
       "  <thead>\n",
       "    <tr style=\"text-align: right;\">\n",
       "      <th></th>\n",
       "      <th>Fname</th>\n",
       "      <th>Minit</th>\n",
       "      <th>Lname</th>\n",
       "      <th>Ssn</th>\n",
       "      <th>Bdate</th>\n",
       "      <th>Address</th>\n",
       "      <th>Sex</th>\n",
       "      <th>Salary</th>\n",
       "      <th>Superssn</th>\n",
       "      <th>Dno</th>\n",
       "      <th>Essn</th>\n",
       "      <th>Pno</th>\n",
       "      <th>Hours</th>\n",
       "      <th>Pname</th>\n",
       "      <th>Pnumber</th>\n",
       "      <th>Plocation</th>\n",
       "      <th>Dnum</th>\n",
       "    </tr>\n",
       "  </thead>\n",
       "  <tbody>\n",
       "    <tr>\n",
       "      <th>0</th>\n",
       "      <td>John</td>\n",
       "      <td>B</td>\n",
       "      <td>Smith</td>\n",
       "      <td>123456789</td>\n",
       "      <td>1965-01-09</td>\n",
       "      <td>731-Fondren-Houston-TX</td>\n",
       "      <td>M</td>\n",
       "      <td>30000.0</td>\n",
       "      <td>333445555.0</td>\n",
       "      <td>5</td>\n",
       "      <td>123456789</td>\n",
       "      <td>1</td>\n",
       "      <td>32.5</td>\n",
       "      <td>ProductX</td>\n",
       "      <td>1</td>\n",
       "      <td>Bellaire</td>\n",
       "      <td>5</td>\n",
       "    </tr>\n",
       "    <tr>\n",
       "      <th>1</th>\n",
       "      <td>John</td>\n",
       "      <td>B</td>\n",
       "      <td>Smith</td>\n",
       "      <td>123456789</td>\n",
       "      <td>1965-01-09</td>\n",
       "      <td>731-Fondren-Houston-TX</td>\n",
       "      <td>M</td>\n",
       "      <td>30000.0</td>\n",
       "      <td>333445555.0</td>\n",
       "      <td>5</td>\n",
       "      <td>123456789</td>\n",
       "      <td>1</td>\n",
       "      <td>32.5</td>\n",
       "      <td>ProductY</td>\n",
       "      <td>2</td>\n",
       "      <td>Sugarland</td>\n",
       "      <td>5</td>\n",
       "    </tr>\n",
       "    <tr>\n",
       "      <th>2</th>\n",
       "      <td>John</td>\n",
       "      <td>B</td>\n",
       "      <td>Smith</td>\n",
       "      <td>123456789</td>\n",
       "      <td>1965-01-09</td>\n",
       "      <td>731-Fondren-Houston-TX</td>\n",
       "      <td>M</td>\n",
       "      <td>30000.0</td>\n",
       "      <td>333445555.0</td>\n",
       "      <td>5</td>\n",
       "      <td>123456789</td>\n",
       "      <td>1</td>\n",
       "      <td>32.5</td>\n",
       "      <td>ProductZ</td>\n",
       "      <td>3</td>\n",
       "      <td>Houston</td>\n",
       "      <td>5</td>\n",
       "    </tr>\n",
       "    <tr>\n",
       "      <th>3</th>\n",
       "      <td>John</td>\n",
       "      <td>B</td>\n",
       "      <td>Smith</td>\n",
       "      <td>123456789</td>\n",
       "      <td>1965-01-09</td>\n",
       "      <td>731-Fondren-Houston-TX</td>\n",
       "      <td>M</td>\n",
       "      <td>30000.0</td>\n",
       "      <td>333445555.0</td>\n",
       "      <td>5</td>\n",
       "      <td>123456789</td>\n",
       "      <td>1</td>\n",
       "      <td>32.5</td>\n",
       "      <td>Computerization</td>\n",
       "      <td>10</td>\n",
       "      <td>Stafford</td>\n",
       "      <td>4</td>\n",
       "    </tr>\n",
       "    <tr>\n",
       "      <th>4</th>\n",
       "      <td>John</td>\n",
       "      <td>B</td>\n",
       "      <td>Smith</td>\n",
       "      <td>123456789</td>\n",
       "      <td>1965-01-09</td>\n",
       "      <td>731-Fondren-Houston-TX</td>\n",
       "      <td>M</td>\n",
       "      <td>30000.0</td>\n",
       "      <td>333445555.0</td>\n",
       "      <td>5</td>\n",
       "      <td>123456789</td>\n",
       "      <td>1</td>\n",
       "      <td>32.5</td>\n",
       "      <td>Reorganization</td>\n",
       "      <td>20</td>\n",
       "      <td>Houston</td>\n",
       "      <td>1</td>\n",
       "    </tr>\n",
       "    <tr>\n",
       "      <th>...</th>\n",
       "      <td>...</td>\n",
       "      <td>...</td>\n",
       "      <td>...</td>\n",
       "      <td>...</td>\n",
       "      <td>...</td>\n",
       "      <td>...</td>\n",
       "      <td>...</td>\n",
       "      <td>...</td>\n",
       "      <td>...</td>\n",
       "      <td>...</td>\n",
       "      <td>...</td>\n",
       "      <td>...</td>\n",
       "      <td>...</td>\n",
       "      <td>...</td>\n",
       "      <td>...</td>\n",
       "      <td>...</td>\n",
       "      <td>...</td>\n",
       "    </tr>\n",
       "    <tr>\n",
       "      <th>763</th>\n",
       "      <td>Alicia</td>\n",
       "      <td>J</td>\n",
       "      <td>Zelaya</td>\n",
       "      <td>999887777</td>\n",
       "      <td>1968-01-19</td>\n",
       "      <td>3321-Castle-Spring-TX</td>\n",
       "      <td>F</td>\n",
       "      <td>25000.0</td>\n",
       "      <td>987654321.0</td>\n",
       "      <td>4</td>\n",
       "      <td>999887777</td>\n",
       "      <td>30</td>\n",
       "      <td>30.0</td>\n",
       "      <td>ProductY</td>\n",
       "      <td>2</td>\n",
       "      <td>Sugarland</td>\n",
       "      <td>5</td>\n",
       "    </tr>\n",
       "    <tr>\n",
       "      <th>764</th>\n",
       "      <td>Alicia</td>\n",
       "      <td>J</td>\n",
       "      <td>Zelaya</td>\n",
       "      <td>999887777</td>\n",
       "      <td>1968-01-19</td>\n",
       "      <td>3321-Castle-Spring-TX</td>\n",
       "      <td>F</td>\n",
       "      <td>25000.0</td>\n",
       "      <td>987654321.0</td>\n",
       "      <td>4</td>\n",
       "      <td>999887777</td>\n",
       "      <td>30</td>\n",
       "      <td>30.0</td>\n",
       "      <td>ProductZ</td>\n",
       "      <td>3</td>\n",
       "      <td>Houston</td>\n",
       "      <td>5</td>\n",
       "    </tr>\n",
       "    <tr>\n",
       "      <th>765</th>\n",
       "      <td>Alicia</td>\n",
       "      <td>J</td>\n",
       "      <td>Zelaya</td>\n",
       "      <td>999887777</td>\n",
       "      <td>1968-01-19</td>\n",
       "      <td>3321-Castle-Spring-TX</td>\n",
       "      <td>F</td>\n",
       "      <td>25000.0</td>\n",
       "      <td>987654321.0</td>\n",
       "      <td>4</td>\n",
       "      <td>999887777</td>\n",
       "      <td>30</td>\n",
       "      <td>30.0</td>\n",
       "      <td>Computerization</td>\n",
       "      <td>10</td>\n",
       "      <td>Stafford</td>\n",
       "      <td>4</td>\n",
       "    </tr>\n",
       "    <tr>\n",
       "      <th>766</th>\n",
       "      <td>Alicia</td>\n",
       "      <td>J</td>\n",
       "      <td>Zelaya</td>\n",
       "      <td>999887777</td>\n",
       "      <td>1968-01-19</td>\n",
       "      <td>3321-Castle-Spring-TX</td>\n",
       "      <td>F</td>\n",
       "      <td>25000.0</td>\n",
       "      <td>987654321.0</td>\n",
       "      <td>4</td>\n",
       "      <td>999887777</td>\n",
       "      <td>30</td>\n",
       "      <td>30.0</td>\n",
       "      <td>Reorganization</td>\n",
       "      <td>20</td>\n",
       "      <td>Houston</td>\n",
       "      <td>1</td>\n",
       "    </tr>\n",
       "    <tr>\n",
       "      <th>767</th>\n",
       "      <td>Alicia</td>\n",
       "      <td>J</td>\n",
       "      <td>Zelaya</td>\n",
       "      <td>999887777</td>\n",
       "      <td>1968-01-19</td>\n",
       "      <td>3321-Castle-Spring-TX</td>\n",
       "      <td>F</td>\n",
       "      <td>25000.0</td>\n",
       "      <td>987654321.0</td>\n",
       "      <td>4</td>\n",
       "      <td>999887777</td>\n",
       "      <td>30</td>\n",
       "      <td>30.0</td>\n",
       "      <td>Newbenefits</td>\n",
       "      <td>30</td>\n",
       "      <td>Stafford</td>\n",
       "      <td>4</td>\n",
       "    </tr>\n",
       "  </tbody>\n",
       "</table>\n",
       "<p>768 rows × 17 columns</p>\n",
       "</div>"
      ],
      "text/plain": [
       "      Fname Minit   Lname        Ssn  ...            Pname Pnumber  Plocation  Dnum\n",
       "0      John     B   Smith  123456789  ...         ProductX       1   Bellaire     5\n",
       "1      John     B   Smith  123456789  ...         ProductY       2  Sugarland     5\n",
       "2      John     B   Smith  123456789  ...         ProductZ       3    Houston     5\n",
       "3      John     B   Smith  123456789  ...  Computerization      10   Stafford     4\n",
       "4      John     B   Smith  123456789  ...   Reorganization      20    Houston     1\n",
       "..      ...   ...     ...        ...  ...              ...     ...        ...   ...\n",
       "763  Alicia     J  Zelaya  999887777  ...         ProductY       2  Sugarland     5\n",
       "764  Alicia     J  Zelaya  999887777  ...         ProductZ       3    Houston     5\n",
       "765  Alicia     J  Zelaya  999887777  ...  Computerization      10   Stafford     4\n",
       "766  Alicia     J  Zelaya  999887777  ...   Reorganization      20    Houston     1\n",
       "767  Alicia     J  Zelaya  999887777  ...      Newbenefits      30   Stafford     4\n",
       "\n",
       "[768 rows x 17 columns]"
      ]
     },
     "execution_count": 56,
     "metadata": {
      "tags": []
     },
     "output_type": "execute_result"
    }
   ],
   "source": [
    "T = product(product(E, WO), P)\n",
    "T"
   ]
  },
  {
   "cell_type": "code",
   "execution_count": null,
   "metadata": {
    "colab": {
     "base_uri": "https://localhost:8080/",
     "height": 142
    },
    "id": "mcBR9Nmc0bbr",
    "outputId": "94d4efee-99bd-4382-d651-90330a42047a",
    "scrolled": true
   },
   "outputs": [
    {
     "data": {
      "text/html": [
       "<div>\n",
       "<style scoped>\n",
       "    .dataframe tbody tr th:only-of-type {\n",
       "        vertical-align: middle;\n",
       "    }\n",
       "\n",
       "    .dataframe tbody tr th {\n",
       "        vertical-align: top;\n",
       "    }\n",
       "\n",
       "    .dataframe thead th {\n",
       "        text-align: right;\n",
       "    }\n",
       "</style>\n",
       "<table border=\"1\" class=\"dataframe\">\n",
       "  <thead>\n",
       "    <tr style=\"text-align: right;\">\n",
       "      <th></th>\n",
       "      <th>Fname</th>\n",
       "      <th>Minit</th>\n",
       "      <th>Lname</th>\n",
       "      <th>Ssn</th>\n",
       "      <th>Bdate</th>\n",
       "      <th>Address</th>\n",
       "      <th>Sex</th>\n",
       "      <th>Salary</th>\n",
       "      <th>Superssn</th>\n",
       "      <th>Dno</th>\n",
       "      <th>Essn</th>\n",
       "      <th>Pno</th>\n",
       "      <th>Hours</th>\n",
       "      <th>Pname</th>\n",
       "      <th>Pnumber</th>\n",
       "      <th>Plocation</th>\n",
       "      <th>Dnum</th>\n",
       "    </tr>\n",
       "  </thead>\n",
       "  <tbody>\n",
       "    <tr>\n",
       "      <th>0</th>\n",
       "      <td>Franklin</td>\n",
       "      <td>T</td>\n",
       "      <td>Wong</td>\n",
       "      <td>333445555</td>\n",
       "      <td>1955-12-08</td>\n",
       "      <td>638-Voss-Houston-TX</td>\n",
       "      <td>M</td>\n",
       "      <td>40000.0</td>\n",
       "      <td>888665555.0</td>\n",
       "      <td>5</td>\n",
       "      <td>333445555</td>\n",
       "      <td>20</td>\n",
       "      <td>10.0</td>\n",
       "      <td>Reorganization</td>\n",
       "      <td>20</td>\n",
       "      <td>Houston</td>\n",
       "      <td>1</td>\n",
       "    </tr>\n",
       "    <tr>\n",
       "      <th>1</th>\n",
       "      <td>James</td>\n",
       "      <td>E</td>\n",
       "      <td>Borg</td>\n",
       "      <td>888665555</td>\n",
       "      <td>1937-11-10</td>\n",
       "      <td>450-Stone-Houston-TX</td>\n",
       "      <td>M</td>\n",
       "      <td>55000.0</td>\n",
       "      <td>NaN</td>\n",
       "      <td>1</td>\n",
       "      <td>888665555</td>\n",
       "      <td>20</td>\n",
       "      <td>NaN</td>\n",
       "      <td>Reorganization</td>\n",
       "      <td>20</td>\n",
       "      <td>Houston</td>\n",
       "      <td>1</td>\n",
       "    </tr>\n",
       "    <tr>\n",
       "      <th>2</th>\n",
       "      <td>Jennifer</td>\n",
       "      <td>S</td>\n",
       "      <td>Wallace</td>\n",
       "      <td>987654321</td>\n",
       "      <td>1941-06-20</td>\n",
       "      <td>291-Berry-Bellaire-TX</td>\n",
       "      <td>F</td>\n",
       "      <td>43000.0</td>\n",
       "      <td>888665555.0</td>\n",
       "      <td>4</td>\n",
       "      <td>987654321</td>\n",
       "      <td>20</td>\n",
       "      <td>15.0</td>\n",
       "      <td>Reorganization</td>\n",
       "      <td>20</td>\n",
       "      <td>Houston</td>\n",
       "      <td>1</td>\n",
       "    </tr>\n",
       "  </tbody>\n",
       "</table>\n",
       "</div>"
      ],
      "text/plain": [
       "      Fname Minit    Lname        Ssn  ...           Pname Pnumber Plocation  Dnum\n",
       "0  Franklin     T     Wong  333445555  ...  Reorganization      20   Houston     1\n",
       "1     James     E     Borg  888665555  ...  Reorganization      20   Houston     1\n",
       "2  Jennifer     S  Wallace  987654321  ...  Reorganization      20   Houston     1\n",
       "\n",
       "[3 rows x 17 columns]"
      ]
     },
     "execution_count": 57,
     "metadata": {
      "tags": []
     },
     "output_type": "execute_result"
    }
   ],
   "source": [
    "U = select(T, '(Ssn == Essn) & (Pno == Pnumber) & (Pname == \"Reorganization\")')\n",
    "U"
   ]
  },
  {
   "cell_type": "code",
   "execution_count": null,
   "metadata": {
    "colab": {
     "base_uri": "https://localhost:8080/",
     "height": 142
    },
    "id": "vNttxrgy0bbt",
    "outputId": "f3db7380-cea0-41bd-a9f9-fccac12cda88"
   },
   "outputs": [
    {
     "data": {
      "text/html": [
       "<div>\n",
       "<style scoped>\n",
       "    .dataframe tbody tr th:only-of-type {\n",
       "        vertical-align: middle;\n",
       "    }\n",
       "\n",
       "    .dataframe tbody tr th {\n",
       "        vertical-align: top;\n",
       "    }\n",
       "\n",
       "    .dataframe thead th {\n",
       "        text-align: right;\n",
       "    }\n",
       "</style>\n",
       "<table border=\"1\" class=\"dataframe\">\n",
       "  <thead>\n",
       "    <tr style=\"text-align: right;\">\n",
       "      <th></th>\n",
       "      <th>Fname</th>\n",
       "      <th>Lname</th>\n",
       "    </tr>\n",
       "  </thead>\n",
       "  <tbody>\n",
       "    <tr>\n",
       "      <th>0</th>\n",
       "      <td>Franklin</td>\n",
       "      <td>Wong</td>\n",
       "    </tr>\n",
       "    <tr>\n",
       "      <th>1</th>\n",
       "      <td>James</td>\n",
       "      <td>Borg</td>\n",
       "    </tr>\n",
       "    <tr>\n",
       "      <th>2</th>\n",
       "      <td>Jennifer</td>\n",
       "      <td>Wallace</td>\n",
       "    </tr>\n",
       "  </tbody>\n",
       "</table>\n",
       "</div>"
      ],
      "text/plain": [
       "      Fname    Lname\n",
       "0  Franklin     Wong\n",
       "1     James     Borg\n",
       "2  Jennifer  Wallace"
      ]
     },
     "execution_count": 58,
     "metadata": {
      "tags": []
     },
     "output_type": "execute_result"
    }
   ],
   "source": [
    "project(U, ['Fname', 'Lname'])"
   ]
  },
  {
   "cell_type": "markdown",
   "metadata": {
    "id": "ZClOq2QC0bbv"
   },
   "source": [
    "# James Borg 보다 연봉이 더 작은 직원의 이름은?"
   ]
  },
  {
   "cell_type": "code",
   "execution_count": null,
   "metadata": {
    "colab": {
     "base_uri": "https://localhost:8080/",
     "height": 80
    },
    "id": "JJp49Irh0bbw",
    "outputId": "d03978f3-32a8-47d9-faf4-cf9980fed039"
   },
   "outputs": [
    {
     "data": {
      "text/html": [
       "<div>\n",
       "<style scoped>\n",
       "    .dataframe tbody tr th:only-of-type {\n",
       "        vertical-align: middle;\n",
       "    }\n",
       "\n",
       "    .dataframe tbody tr th {\n",
       "        vertical-align: top;\n",
       "    }\n",
       "\n",
       "    .dataframe thead th {\n",
       "        text-align: right;\n",
       "    }\n",
       "</style>\n",
       "<table border=\"1\" class=\"dataframe\">\n",
       "  <thead>\n",
       "    <tr style=\"text-align: right;\">\n",
       "      <th></th>\n",
       "      <th>Salary</th>\n",
       "    </tr>\n",
       "  </thead>\n",
       "  <tbody>\n",
       "    <tr>\n",
       "      <th>0</th>\n",
       "      <td>55000.0</td>\n",
       "    </tr>\n",
       "  </tbody>\n",
       "</table>\n",
       "</div>"
      ],
      "text/plain": [
       "    Salary\n",
       "0  55000.0"
      ]
     },
     "execution_count": 59,
     "metadata": {
      "tags": []
     },
     "output_type": "execute_result"
    }
   ],
   "source": [
    "S = project(\n",
    "    select(\n",
    "        E,\n",
    "        \"(Fname == 'James') & (Lname == 'Borg')\"\n",
    "    ),\n",
    "    ['Salary']\n",
    ")\n",
    "S"
   ]
  },
  {
   "cell_type": "code",
   "execution_count": null,
   "metadata": {
    "colab": {
     "base_uri": "https://localhost:8080/",
     "height": 266
    },
    "id": "XYTPWDQf0bb0",
    "outputId": "29a1a540-387b-4b03-d9cb-add6329fe00d"
   },
   "outputs": [
    {
     "data": {
      "text/html": [
       "<div>\n",
       "<style scoped>\n",
       "    .dataframe tbody tr th:only-of-type {\n",
       "        vertical-align: middle;\n",
       "    }\n",
       "\n",
       "    .dataframe tbody tr th {\n",
       "        vertical-align: top;\n",
       "    }\n",
       "\n",
       "    .dataframe thead th {\n",
       "        text-align: right;\n",
       "    }\n",
       "</style>\n",
       "<table border=\"1\" class=\"dataframe\">\n",
       "  <thead>\n",
       "    <tr style=\"text-align: right;\">\n",
       "      <th></th>\n",
       "      <th>Fname</th>\n",
       "      <th>Lname</th>\n",
       "    </tr>\n",
       "  </thead>\n",
       "  <tbody>\n",
       "    <tr>\n",
       "      <th>0</th>\n",
       "      <td>John</td>\n",
       "      <td>Smith</td>\n",
       "    </tr>\n",
       "    <tr>\n",
       "      <th>1</th>\n",
       "      <td>Franklin</td>\n",
       "      <td>Wong</td>\n",
       "    </tr>\n",
       "    <tr>\n",
       "      <th>2</th>\n",
       "      <td>Joyce</td>\n",
       "      <td>English</td>\n",
       "    </tr>\n",
       "    <tr>\n",
       "      <th>3</th>\n",
       "      <td>Ramesh</td>\n",
       "      <td>Narayan</td>\n",
       "    </tr>\n",
       "    <tr>\n",
       "      <th>4</th>\n",
       "      <td>Jennifer</td>\n",
       "      <td>Wallace</td>\n",
       "    </tr>\n",
       "    <tr>\n",
       "      <th>5</th>\n",
       "      <td>Ahmad</td>\n",
       "      <td>Jabbar</td>\n",
       "    </tr>\n",
       "    <tr>\n",
       "      <th>6</th>\n",
       "      <td>Alicia</td>\n",
       "      <td>Zelaya</td>\n",
       "    </tr>\n",
       "  </tbody>\n",
       "</table>\n",
       "</div>"
      ],
      "text/plain": [
       "      Fname    Lname\n",
       "0      John    Smith\n",
       "1  Franklin     Wong\n",
       "2     Joyce  English\n",
       "3    Ramesh  Narayan\n",
       "4  Jennifer  Wallace\n",
       "5     Ahmad   Jabbar\n",
       "6    Alicia   Zelaya"
      ]
     },
     "execution_count": 60,
     "metadata": {
      "tags": []
     },
     "output_type": "execute_result"
    }
   ],
   "source": [
    "project(select(product(S, E), \"Salary_x > Salary_y\"), ['Fname', 'Lname'])"
   ]
  },
  {
   "cell_type": "code",
   "execution_count": null,
   "metadata": {
    "colab": {
     "base_uri": "https://localhost:8080/",
     "height": 297
    },
    "id": "RE2jxPs30bb2",
    "outputId": "07bef3f9-b3d0-47f9-ae34-b98824bd5d0e"
   },
   "outputs": [
    {
     "data": {
      "text/html": [
       "<div>\n",
       "<style scoped>\n",
       "    .dataframe tbody tr th:only-of-type {\n",
       "        vertical-align: middle;\n",
       "    }\n",
       "\n",
       "    .dataframe tbody tr th {\n",
       "        vertical-align: top;\n",
       "    }\n",
       "\n",
       "    .dataframe thead th {\n",
       "        text-align: right;\n",
       "    }\n",
       "</style>\n",
       "<table border=\"1\" class=\"dataframe\">\n",
       "  <thead>\n",
       "    <tr style=\"text-align: right;\">\n",
       "      <th></th>\n",
       "      <th>Salary_x</th>\n",
       "      <th>Fname</th>\n",
       "      <th>Minit</th>\n",
       "      <th>Lname</th>\n",
       "      <th>Ssn</th>\n",
       "      <th>Bdate</th>\n",
       "      <th>Address</th>\n",
       "      <th>Sex</th>\n",
       "      <th>Salary_y</th>\n",
       "      <th>Superssn</th>\n",
       "      <th>Dno</th>\n",
       "    </tr>\n",
       "  </thead>\n",
       "  <tbody>\n",
       "    <tr>\n",
       "      <th>0</th>\n",
       "      <td>55000.0</td>\n",
       "      <td>John</td>\n",
       "      <td>B</td>\n",
       "      <td>Smith</td>\n",
       "      <td>123456789</td>\n",
       "      <td>1965-01-09</td>\n",
       "      <td>731-Fondren-Houston-TX</td>\n",
       "      <td>M</td>\n",
       "      <td>30000.0</td>\n",
       "      <td>333445555.0</td>\n",
       "      <td>5</td>\n",
       "    </tr>\n",
       "    <tr>\n",
       "      <th>1</th>\n",
       "      <td>55000.0</td>\n",
       "      <td>Franklin</td>\n",
       "      <td>T</td>\n",
       "      <td>Wong</td>\n",
       "      <td>333445555</td>\n",
       "      <td>1955-12-08</td>\n",
       "      <td>638-Voss-Houston-TX</td>\n",
       "      <td>M</td>\n",
       "      <td>40000.0</td>\n",
       "      <td>888665555.0</td>\n",
       "      <td>5</td>\n",
       "    </tr>\n",
       "    <tr>\n",
       "      <th>2</th>\n",
       "      <td>55000.0</td>\n",
       "      <td>Joyce</td>\n",
       "      <td>A</td>\n",
       "      <td>English</td>\n",
       "      <td>453453453</td>\n",
       "      <td>1972-07-31</td>\n",
       "      <td>5631-Rice-Houston-TX</td>\n",
       "      <td>F</td>\n",
       "      <td>25000.0</td>\n",
       "      <td>333445555.0</td>\n",
       "      <td>5</td>\n",
       "    </tr>\n",
       "    <tr>\n",
       "      <th>3</th>\n",
       "      <td>55000.0</td>\n",
       "      <td>Ramesh</td>\n",
       "      <td>K</td>\n",
       "      <td>Narayan</td>\n",
       "      <td>666884444</td>\n",
       "      <td>1962-09-15</td>\n",
       "      <td>975-Fire-Oak-Humble-TX</td>\n",
       "      <td>M</td>\n",
       "      <td>38000.0</td>\n",
       "      <td>333445555.0</td>\n",
       "      <td>5</td>\n",
       "    </tr>\n",
       "    <tr>\n",
       "      <th>4</th>\n",
       "      <td>55000.0</td>\n",
       "      <td>James</td>\n",
       "      <td>E</td>\n",
       "      <td>Borg</td>\n",
       "      <td>888665555</td>\n",
       "      <td>1937-11-10</td>\n",
       "      <td>450-Stone-Houston-TX</td>\n",
       "      <td>M</td>\n",
       "      <td>55000.0</td>\n",
       "      <td>NaN</td>\n",
       "      <td>1</td>\n",
       "    </tr>\n",
       "    <tr>\n",
       "      <th>5</th>\n",
       "      <td>55000.0</td>\n",
       "      <td>Jennifer</td>\n",
       "      <td>S</td>\n",
       "      <td>Wallace</td>\n",
       "      <td>987654321</td>\n",
       "      <td>1941-06-20</td>\n",
       "      <td>291-Berry-Bellaire-TX</td>\n",
       "      <td>F</td>\n",
       "      <td>43000.0</td>\n",
       "      <td>888665555.0</td>\n",
       "      <td>4</td>\n",
       "    </tr>\n",
       "    <tr>\n",
       "      <th>6</th>\n",
       "      <td>55000.0</td>\n",
       "      <td>Ahmad</td>\n",
       "      <td>V</td>\n",
       "      <td>Jabbar</td>\n",
       "      <td>987987987</td>\n",
       "      <td>1969-03-29</td>\n",
       "      <td>980-Dallas-Houston-TX</td>\n",
       "      <td>M</td>\n",
       "      <td>25000.0</td>\n",
       "      <td>987654321.0</td>\n",
       "      <td>4</td>\n",
       "    </tr>\n",
       "    <tr>\n",
       "      <th>7</th>\n",
       "      <td>55000.0</td>\n",
       "      <td>Alicia</td>\n",
       "      <td>J</td>\n",
       "      <td>Zelaya</td>\n",
       "      <td>999887777</td>\n",
       "      <td>1968-01-19</td>\n",
       "      <td>3321-Castle-Spring-TX</td>\n",
       "      <td>F</td>\n",
       "      <td>25000.0</td>\n",
       "      <td>987654321.0</td>\n",
       "      <td>4</td>\n",
       "    </tr>\n",
       "  </tbody>\n",
       "</table>\n",
       "</div>"
      ],
      "text/plain": [
       "   Salary_x     Fname Minit    Lname  ...  Sex Salary_y     Superssn Dno\n",
       "0   55000.0      John     B    Smith  ...    M  30000.0  333445555.0   5\n",
       "1   55000.0  Franklin     T     Wong  ...    M  40000.0  888665555.0   5\n",
       "2   55000.0     Joyce     A  English  ...    F  25000.0  333445555.0   5\n",
       "3   55000.0    Ramesh     K  Narayan  ...    M  38000.0  333445555.0   5\n",
       "4   55000.0     James     E     Borg  ...    M  55000.0          NaN   1\n",
       "5   55000.0  Jennifer     S  Wallace  ...    F  43000.0  888665555.0   4\n",
       "6   55000.0     Ahmad     V   Jabbar  ...    M  25000.0  987654321.0   4\n",
       "7   55000.0    Alicia     J   Zelaya  ...    F  25000.0  987654321.0   4\n",
       "\n",
       "[8 rows x 11 columns]"
      ]
     },
     "execution_count": 61,
     "metadata": {
      "tags": []
     },
     "output_type": "execute_result"
    }
   ],
   "source": [
    "product(S,E)"
   ]
  },
  {
   "cell_type": "code",
   "execution_count": null,
   "metadata": {
    "id": "S2UInsyladsB"
   },
   "outputs": [],
   "source": []
  },
  {
   "cell_type": "code",
   "execution_count": null,
   "metadata": {
    "id": "hyHW2ifXli3C"
   },
   "outputs": [],
   "source": [
    "b"
   ]
  }
 ],
 "metadata": {
  "colab": {
   "name": "ch7_RA_operators_using_pandas-student.ipynb의 사본",
   "provenance": []
  },
  "kernelspec": {
   "display_name": "Python 3",
   "language": "python",
   "name": "python3"
  },
  "language_info": {
   "codemirror_mode": {
    "name": "ipython",
    "version": 3
   },
   "file_extension": ".py",
   "mimetype": "text/x-python",
   "name": "python",
   "nbconvert_exporter": "python",
   "pygments_lexer": "ipython3",
   "version": "3.8.3"
  }
 },
 "nbformat": 4,
 "nbformat_minor": 1
}
