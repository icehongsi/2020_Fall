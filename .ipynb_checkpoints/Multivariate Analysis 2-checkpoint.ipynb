{
 "cells": [
  {
   "cell_type": "code",
   "execution_count": 16,
   "metadata": {},
   "outputs": [
    {
     "name": "stdout",
     "output_type": "stream",
     "text": [
      "     [,1] [,2]\n",
      "[1,]    1  0.5\n",
      "[2,]    1  6.0\n",
      "[3,]    1  1.5\n",
      "[4,]    1  1.1\n",
      "[5,]    1  2.0\n",
      "[6,]    1  0.5\n",
      "[1] 0.9 9.9 2.5 2.8 2.6 0.9\n"
     ]
    }
   ],
   "source": [
    "y = c(0.9,9.9,2.5,2.8,2.6,0.9)\n",
    "x = matrix(c(1,1,1,1,1,1,0.5,6,1.5,1.1,2,0.5), ncol = 2)\n",
    "print(x)\n",
    "print(y)"
   ]
  },
  {
   "cell_type": "code",
   "execution_count": 19,
   "metadata": {},
   "outputs": [],
   "source": [
    "beta_hat = solve((t(x) %*% x)) %*% t(x) %*% y #solve: 역행렬, %*%: 행렬간 (벡터간) 계산"
   ]
  },
  {
   "cell_type": "code",
   "execution_count": 20,
   "metadata": {},
   "outputs": [
    {
     "data": {
      "text/html": [
       "<table>\n",
       "<tbody>\n",
       "\t<tr><td>0.1748297</td></tr>\n",
       "\t<tr><td>1.5992260</td></tr>\n",
       "</tbody>\n",
       "</table>\n"
      ],
      "text/latex": [
       "\\begin{tabular}{l}\n",
       "\t 0.1748297\\\\\n",
       "\t 1.5992260\\\\\n",
       "\\end{tabular}\n"
      ],
      "text/markdown": [
       "\n",
       "| 0.1748297 |\n",
       "| 1.5992260 |\n",
       "\n"
      ],
      "text/plain": [
       "     [,1]     \n",
       "[1,] 0.1748297\n",
       "[2,] 1.5992260"
      ]
     },
     "metadata": {},
     "output_type": "display_data"
    }
   ],
   "source": [
    "beta_hat"
   ]
  },
  {
   "cell_type": "code",
   "execution_count": 24,
   "metadata": {},
   "outputs": [
    {
     "data": {
      "text/html": [
       "<table>\n",
       "<thead><tr><th scope=col>x1</th><th scope=col>x2</th></tr></thead>\n",
       "<tbody>\n",
       "\t<tr><td>0.5</td><td>0.9</td></tr>\n",
       "\t<tr><td>6.0</td><td>9.9</td></tr>\n",
       "\t<tr><td>1.5</td><td>2.5</td></tr>\n",
       "\t<tr><td>1.1</td><td>2.8</td></tr>\n",
       "\t<tr><td>2.0</td><td>2.6</td></tr>\n",
       "\t<tr><td>0.5</td><td>0.9</td></tr>\n",
       "</tbody>\n",
       "</table>\n"
      ],
      "text/latex": [
       "\\begin{tabular}{ll}\n",
       " x1 & x2\\\\\n",
       "\\hline\n",
       "\t 0.5 & 0.9\\\\\n",
       "\t 6.0 & 9.9\\\\\n",
       "\t 1.5 & 2.5\\\\\n",
       "\t 1.1 & 2.8\\\\\n",
       "\t 2.0 & 2.6\\\\\n",
       "\t 0.5 & 0.9\\\\\n",
       "\\end{tabular}\n"
      ],
      "text/markdown": [
       "\n",
       "| x1 | x2 |\n",
       "|---|---|\n",
       "| 0.5 | 0.9 |\n",
       "| 6.0 | 9.9 |\n",
       "| 1.5 | 2.5 |\n",
       "| 1.1 | 2.8 |\n",
       "| 2.0 | 2.6 |\n",
       "| 0.5 | 0.9 |\n",
       "\n"
      ],
      "text/plain": [
       "     x1  x2 \n",
       "[1,] 0.5 0.9\n",
       "[2,] 6.0 9.9\n",
       "[3,] 1.5 2.5\n",
       "[4,] 1.1 2.8\n",
       "[5,] 2.0 2.6\n",
       "[6,] 0.5 0.9"
      ]
     },
     "metadata": {},
     "output_type": "display_data"
    }
   ],
   "source": [
    "#p60 - 61\n",
    "\n",
    "data_matrix = matrix(c(0.5,6.0,1.5,1.1,2.0,0.5,0.9,9.9,2.5,2.8,2.6,0.9), ncol = 2)\n",
    "colnames(data_matrix) = c(\"x1\", \"x2\")\n",
    "data_matrix"
   ]
  },
  {
   "cell_type": "code",
   "execution_count": 29,
   "metadata": {},
   "outputs": [
    {
     "name": "stdout",
     "output_type": "stream",
     "text": [
      "      x1       x2 \n",
      "1.933333 3.266667 \n",
      "      x1       x2 \n",
      "1.933333 3.266667 \n"
     ]
    }
   ],
   "source": [
    "print(colMeans(data_matrix)) #열평균\n",
    "print(apply(data_matrix,2,mean)) #apply 함수를 이용한 열평균"
   ]
  },
  {
   "cell_type": "code",
   "execution_count": 31,
   "metadata": {},
   "outputs": [
    {
     "data": {
      "text/html": [
       "<table>\n",
       "<thead><tr><th></th><th scope=col>x1</th><th scope=col>x2</th></tr></thead>\n",
       "<tbody>\n",
       "\t<tr><th scope=row>x1</th><td>4.306667 </td><td> 6.887333</td></tr>\n",
       "\t<tr><th scope=row>x2</th><td>6.887333 </td><td>11.290667</td></tr>\n",
       "</tbody>\n",
       "</table>\n"
      ],
      "text/latex": [
       "\\begin{tabular}{r|ll}\n",
       "  & x1 & x2\\\\\n",
       "\\hline\n",
       "\tx1 & 4.306667  &  6.887333\\\\\n",
       "\tx2 & 6.887333  & 11.290667\\\\\n",
       "\\end{tabular}\n"
      ],
      "text/markdown": [
       "\n",
       "| <!--/--> | x1 | x2 |\n",
       "|---|---|---|\n",
       "| x1 | 4.306667  |  6.887333 |\n",
       "| x2 | 6.887333  | 11.290667 |\n",
       "\n"
      ],
      "text/plain": [
       "   x1       x2       \n",
       "x1 4.306667  6.887333\n",
       "x2 6.887333 11.290667"
      ]
     },
     "metadata": {},
     "output_type": "display_data"
    }
   ],
   "source": [
    "cov(data_matrix) #Variance - Covariance Matrix"
   ]
  },
  {
   "cell_type": "code",
   "execution_count": 35,
   "metadata": {},
   "outputs": [],
   "source": [
    "X = data_matrix\n",
    "n = nrow(X)\n",
    "ev = rep(1, n)\n",
    "calculated = 1/(n-1) * t(X - 1/n * ev %*% t(ev) %*% X) %*% (X - 1/n * ev %*% t(ev) %*% X)"
   ]
  },
  {
   "cell_type": "code",
   "execution_count": 36,
   "metadata": {},
   "outputs": [
    {
     "data": {
      "text/html": [
       "<table>\n",
       "<thead><tr><th></th><th scope=col>x1</th><th scope=col>x2</th></tr></thead>\n",
       "<tbody>\n",
       "\t<tr><th scope=row>x1</th><td>4.306667 </td><td> 6.887333</td></tr>\n",
       "\t<tr><th scope=row>x2</th><td>6.887333 </td><td>11.290667</td></tr>\n",
       "</tbody>\n",
       "</table>\n"
      ],
      "text/latex": [
       "\\begin{tabular}{r|ll}\n",
       "  & x1 & x2\\\\\n",
       "\\hline\n",
       "\tx1 & 4.306667  &  6.887333\\\\\n",
       "\tx2 & 6.887333  & 11.290667\\\\\n",
       "\\end{tabular}\n"
      ],
      "text/markdown": [
       "\n",
       "| <!--/--> | x1 | x2 |\n",
       "|---|---|---|\n",
       "| x1 | 4.306667  |  6.887333 |\n",
       "| x2 | 6.887333  | 11.290667 |\n",
       "\n"
      ],
      "text/plain": [
       "   x1       x2       \n",
       "x1 4.306667  6.887333\n",
       "x2 6.887333 11.290667"
      ]
     },
     "metadata": {},
     "output_type": "display_data"
    }
   ],
   "source": [
    "calculated"
   ]
  },
  {
   "cell_type": "code",
   "execution_count": 39,
   "metadata": {},
   "outputs": [],
   "source": [
    "library(MASS)\n",
    "set.seed(2020)\n",
    "\n",
    "iter = 1000; n = 50; m = c(160,60,30)\n",
    "S = matrix(c(3,2,1,2,2,1,1,1,2), nrow = 3)"
   ]
  },
  {
   "cell_type": "code",
   "execution_count": 40,
   "metadata": {},
   "outputs": [],
   "source": [
    "chi = rep(0, iter)\n",
    "for (i in 1:iter) {\n",
    "    mvn = mvrnorm(n, m, S)\n",
    "    xbar = colMeans(mvn)\n",
    "    chi[i] = n* t(xbar - m) %*% solve(S) %*% (xbar - m)\n",
    "}\n"
   ]
  },
  {
   "cell_type": "code",
   "execution_count": 47,
   "metadata": {},
   "outputs": [
    {
     "data": {
      "image/png": "[encoded data removed]",
      "text/plain": [
       "Plot with title \"Histogram of chi\""
      ]
     },
     "metadata": {},
     "output_type": "display_data"
    }
   ],
   "source": [
    "hist(chi, freq = F); x = seq(0, 15, length = 1000) #자유도가 3인 카이제곱분포\n",
    "lines(x, dgamma(x, shape = 1.5, scale = 2), col = 2) #shape = alpha, scale = beta\n",
    "#자유도가 p인 카이제곱분포는 alpha = p/2, beta = 2인 감마분포와 같음\n",
    "#확률밀도함수 값은 0 이상"
   ]
  },
  {
   "cell_type": "code",
   "execution_count": 49,
   "metadata": {},
   "outputs": [
    {
     "name": "stderr",
     "output_type": "stream",
     "text": [
      "Installing package into 'C:/Users/Youngju Hong/Documents/R/win-library/3.6'\n",
      "(as 'lib' is unspecified)\n",
      "Warning message:\n",
      "\"package 'SASxport' is not available (for R version 3.6.1)\"Warning message:\n",
      "\"package 'SASxport' was built under R version 3.6.3\""
     ]
    }
   ],
   "source": [
    "#chi data xpt 내보내기\n",
    "install.packages(\"SASxport\")\n",
    "library(\"SASxport\")"
   ]
  },
  {
   "cell_type": "code",
   "execution_count": 50,
   "metadata": {},
   "outputs": [
    {
     "data": {
      "text/html": [
       "'C:/Users/Youngju Hong/Documents/GitHub/2020_Fall'"
      ],
      "text/latex": [
       "'C:/Users/Youngju Hong/Documents/GitHub/2020\\_Fall'"
      ],
      "text/markdown": [
       "'C:/Users/Youngju Hong/Documents/GitHub/2020_Fall'"
      ],
      "text/plain": [
       "[1] \"C:/Users/Youngju Hong/Documents/GitHub/2020_Fall\""
      ]
     },
     "metadata": {},
     "output_type": "display_data"
    }
   ],
   "source": [
    "getwd()"
   ]
  },
  {
   "cell_type": "code",
   "execution_count": null,
   "metadata": {},
   "outputs": [],
   "source": []
  }
 ],
 "metadata": {
  "kernelspec": {
   "display_name": "R",
   "language": "R",
   "name": "ir"
  },
  "language_info": {
   "codemirror_mode": "r",
   "file_extension": ".r",
   "mimetype": "text/x-r-source",
   "name": "R",
   "pygments_lexer": "r",
   "version": "3.6.1"
  }
 },
 "nbformat": 4,
 "nbformat_minor": 4
}
