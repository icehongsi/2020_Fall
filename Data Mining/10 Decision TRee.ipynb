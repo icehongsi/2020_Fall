{
 "cells": [
  {
   "cell_type": "code",
   "execution_count": 4,
   "metadata": {},
   "outputs": [],
   "source": [
    "library(rpart)\n",
    "\n",
    "attach(kyphosis)"
   ]
  },
  {
   "cell_type": "code",
   "execution_count": 7,
   "metadata": {},
   "outputs": [
    {
     "name": "stdout",
     "output_type": "stream",
     "text": [
      "'data.frame':\t81 obs. of  4 variables:\n",
      " $ Kyphosis: Factor w/ 2 levels \"absent\",\"present\": 1 1 2 1 1 1 1 1 1 2 ...\n",
      " $ Age     : int  71 158 128 2 1 1 61 37 113 59 ...\n",
      " $ Number  : int  3 3 4 5 4 2 2 3 2 6 ...\n",
      " $ Start   : int  5 14 5 1 15 16 17 16 16 12 ...\n"
     ]
    },
    {
     "data": {
      "text/plain": [
       "n= 81 \n",
       "\n",
       "node), split, n, loss, yval, (yprob)\n",
       "      * denotes terminal node\n",
       "\n",
       " 1) root 81 17 absent (0.79012346 0.20987654)  \n",
       "   2) Start>=8.5 62  6 absent (0.90322581 0.09677419)  \n",
       "     4) Start>=14.5 29  0 absent (1.00000000 0.00000000) *\n",
       "     5) Start< 14.5 33  6 absent (0.81818182 0.18181818)  \n",
       "      10) Age< 55 12  0 absent (1.00000000 0.00000000) *\n",
       "      11) Age>=55 21  6 absent (0.71428571 0.28571429)  \n",
       "        22) Age>=111 14  2 absent (0.85714286 0.14285714) *\n",
       "        23) Age< 111 7  3 present (0.42857143 0.57142857) *\n",
       "   3) Start< 8.5 19  8 present (0.42105263 0.57894737) *"
      ]
     },
     "metadata": {},
     "output_type": "display_data"
    }
   ],
   "source": [
    "str(kyphosis)\n",
    "kyphosis.tr = rpart(Kyphosis~., kyphosis)\n",
    "kyphosis.tr"
   ]
  },
  {
   "cell_type": "code",
   "execution_count": 10,
   "metadata": {},
   "outputs": [
    {
     "data": {
      "image/png": "[encoded data removed]",
      "text/plain": [
       "plot without title"
      ]
     },
     "metadata": {},
     "output_type": "display_data"
    }
   ],
   "source": [
    "plot(kyphosis.tr)\n",
    "text(kyphosis.tr) # 이게 있어야 텍스트가 출력됨"
   ]
  },
  {
   "cell_type": "code",
   "execution_count": 15,
   "metadata": {},
   "outputs": [
    {
     "data": {
      "text/html": [
       "'rpart'"
      ],
      "text/latex": [
       "'rpart'"
      ],
      "text/markdown": [
       "'rpart'"
      ],
      "text/plain": [
       "[1] \"rpart\""
      ]
     },
     "metadata": {},
     "output_type": "display_data"
    },
    {
     "name": "stdout",
     "output_type": "stream",
     "text": [
      "Call:\n",
      "rpart(formula = Kyphosis ~ ., data = kyphosis)\n",
      "  n= 81 \n",
      "\n",
      "          CP nsplit rel error   xerror      xstd\n",
      "1 0.17647059      0 1.0000000 1.000000 0.2155872\n",
      "2 0.01960784      1 0.8235294 1.294118 0.2354756\n",
      "3 0.01000000      4 0.7647059 1.294118 0.2354756\n",
      "\n",
      "Variable importance\n",
      " Start    Age Number \n",
      "    64     24     12 \n",
      "\n",
      "Node number 1: 81 observations,    complexity param=0.1764706\n",
      "  predicted class=absent   expected loss=0.2098765  P(node) =1\n",
      "    class counts:    64    17\n",
      "   probabilities: 0.790 0.210 \n",
      "  left son=2 (62 obs) right son=3 (19 obs)\n",
      "  Primary splits:\n",
      "      Start  < 8.5  to the right, improve=6.762330, (0 missing)\n",
      "      Number < 5.5  to the left,  improve=2.866795, (0 missing)\n",
      "      Age    < 39.5 to the left,  improve=2.250212, (0 missing)\n",
      "  Surrogate splits:\n",
      "      Number < 6.5  to the left,  agree=0.802, adj=0.158, (0 split)\n",
      "\n",
      "Node number 2: 62 observations,    complexity param=0.01960784\n",
      "  predicted class=absent   expected loss=0.09677419  P(node) =0.7654321\n",
      "    class counts:    56     6\n",
      "   probabilities: 0.903 0.097 \n",
      "  left son=4 (29 obs) right son=5 (33 obs)\n",
      "  Primary splits:\n",
      "      Start  < 14.5 to the right, improve=1.0205280, (0 missing)\n",
      "      Age    < 55   to the left,  improve=0.6848635, (0 missing)\n",
      "      Number < 4.5  to the left,  improve=0.2975332, (0 missing)\n",
      "  Surrogate splits:\n",
      "      Number < 3.5  to the left,  agree=0.645, adj=0.241, (0 split)\n",
      "      Age    < 16   to the left,  agree=0.597, adj=0.138, (0 split)\n",
      "\n",
      "Node number 3: 19 observations\n",
      "  predicted class=present  expected loss=0.4210526  P(node) =0.2345679\n",
      "    class counts:     8    11\n",
      "   probabilities: 0.421 0.579 \n",
      "\n",
      "Node number 4: 29 observations\n",
      "  predicted class=absent   expected loss=0  P(node) =0.3580247\n",
      "    class counts:    29     0\n",
      "   probabilities: 1.000 0.000 \n",
      "\n",
      "Node number 5: 33 observations,    complexity param=0.01960784\n",
      "  predicted class=absent   expected loss=0.1818182  P(node) =0.4074074\n",
      "    class counts:    27     6\n",
      "   probabilities: 0.818 0.182 \n",
      "  left son=10 (12 obs) right son=11 (21 obs)\n",
      "  Primary splits:\n",
      "      Age    < 55   to the left,  improve=1.2467530, (0 missing)\n",
      "      Start  < 12.5 to the right, improve=0.2887701, (0 missing)\n",
      "      Number < 3.5  to the right, improve=0.1753247, (0 missing)\n",
      "  Surrogate splits:\n",
      "      Start  < 9.5  to the left,  agree=0.758, adj=0.333, (0 split)\n",
      "      Number < 5.5  to the right, agree=0.697, adj=0.167, (0 split)\n",
      "\n",
      "Node number 10: 12 observations\n",
      "  predicted class=absent   expected loss=0  P(node) =0.1481481\n",
      "    class counts:    12     0\n",
      "   probabilities: 1.000 0.000 \n",
      "\n",
      "Node number 11: 21 observations,    complexity param=0.01960784\n",
      "  predicted class=absent   expected loss=0.2857143  P(node) =0.2592593\n",
      "    class counts:    15     6\n",
      "   probabilities: 0.714 0.286 \n",
      "  left son=22 (14 obs) right son=23 (7 obs)\n",
      "  Primary splits:\n",
      "      Age    < 111  to the right, improve=1.71428600, (0 missing)\n",
      "      Start  < 12.5 to the right, improve=0.79365080, (0 missing)\n",
      "      Number < 3.5  to the right, improve=0.07142857, (0 missing)\n",
      "\n",
      "Node number 22: 14 observations\n",
      "  predicted class=absent   expected loss=0.1428571  P(node) =0.1728395\n",
      "    class counts:    12     2\n",
      "   probabilities: 0.857 0.143 \n",
      "\n",
      "Node number 23: 7 observations\n",
      "  predicted class=present  expected loss=0.4285714  P(node) =0.08641975\n",
      "    class counts:     3     4\n",
      "   probabilities: 0.429 0.571 \n",
      "\n"
     ]
    }
   ],
   "source": [
    "class(kyphosis.tr) #class 출력\n",
    "summary(kyphosis.tr) # report 형태로 정보 출력"
   ]
  },
  {
   "cell_type": "markdown",
   "metadata": {},
   "source": [
    "Ten-fold Cross Validation:\n",
    "데이터셋을 10등분. 9개로 Training 후 나머지 1개로 Test 실시"
   ]
  },
  {
   "cell_type": "code",
   "execution_count": 17,
   "metadata": {},
   "outputs": [
    {
     "name": "stderr",
     "output_type": "stream",
     "text": [
      "Warning message:\n",
      "\"package 'tree' was built under R version 3.6.3\""
     ]
    },
    {
     "data": {
      "text/plain": [
       "\n",
       "Classification tree:\n",
       "tree(formula = Kyphosis ~ ., data = kyphosis)\n",
       "Number of terminal nodes:  10 \n",
       "Residual mean deviance:  0.5809 = 41.24 / 71 \n",
       "Misclassification error rate: 0.1235 = 10 / 81 "
      ]
     },
     "metadata": {},
     "output_type": "display_data"
    },
    {
     "data": {
      "image/png": "[encoded data removed]",
      "text/plain": [
       "plot without title"
      ]
     },
     "metadata": {},
     "output_type": "display_data"
    }
   ],
   "source": [
    "library(tree)\n",
    "ky.tree = tree(Kyphosis ~ ., data = kyphosis)\n",
    "summary(ky.tree)\n",
    "plot(ky.tree)\n",
    "text(ky.tree) # 수동 cross validation, no pruning"
   ]
  },
  {
   "cell_type": "code",
   "execution_count": 18,
   "metadata": {},
   "outputs": [
    {
     "data": {
      "text/html": [
       "<dl>\n",
       "\t<dt>$names</dt>\n",
       "\t\t<dd><ol class=list-inline>\n",
       "\t<li>'frame'</li>\n",
       "\t<li>'where'</li>\n",
       "\t<li>'call'</li>\n",
       "\t<li>'terms'</li>\n",
       "\t<li>'cptable'</li>\n",
       "\t<li>'method'</li>\n",
       "\t<li>'parms'</li>\n",
       "\t<li>'control'</li>\n",
       "\t<li>'functions'</li>\n",
       "\t<li>'numresp'</li>\n",
       "\t<li>'splits'</li>\n",
       "\t<li>'variable.importance'</li>\n",
       "\t<li>'y'</li>\n",
       "\t<li>'ordered'</li>\n",
       "</ol>\n",
       "</dd>\n",
       "\t<dt>$xlevels</dt>\n",
       "\t\t<dd><dl>\n",
       "</dl>\n",
       "</dd>\n",
       "\t<dt>$ylevels</dt>\n",
       "\t\t<dd><ol class=list-inline>\n",
       "\t<li>'absent'</li>\n",
       "\t<li>'present'</li>\n",
       "</ol>\n",
       "</dd>\n",
       "\t<dt>$class</dt>\n",
       "\t\t<dd>'rpart'</dd>\n",
       "</dl>\n"
      ],
      "text/latex": [
       "\\begin{description}\n",
       "\\item[\\$names] \\begin{enumerate*}\n",
       "\\item 'frame'\n",
       "\\item 'where'\n",
       "\\item 'call'\n",
       "\\item 'terms'\n",
       "\\item 'cptable'\n",
       "\\item 'method'\n",
       "\\item 'parms'\n",
       "\\item 'control'\n",
       "\\item 'functions'\n",
       "\\item 'numresp'\n",
       "\\item 'splits'\n",
       "\\item 'variable.importance'\n",
       "\\item 'y'\n",
       "\\item 'ordered'\n",
       "\\end{enumerate*}\n",
       "\n",
       "\\item[\\$xlevels] \\begin{description}\n",
       "\\end{description}\n",
       "\n",
       "\\item[\\$ylevels] \\begin{enumerate*}\n",
       "\\item 'absent'\n",
       "\\item 'present'\n",
       "\\end{enumerate*}\n",
       "\n",
       "\\item[\\$class] 'rpart'\n",
       "\\end{description}\n"
      ],
      "text/markdown": [
       "$names\n",
       ":   1. 'frame'\n",
       "2. 'where'\n",
       "3. 'call'\n",
       "4. 'terms'\n",
       "5. 'cptable'\n",
       "6. 'method'\n",
       "7. 'parms'\n",
       "8. 'control'\n",
       "9. 'functions'\n",
       "10. 'numresp'\n",
       "11. 'splits'\n",
       "12. 'variable.importance'\n",
       "13. 'y'\n",
       "14. 'ordered'\n",
       "\n",
       "\n",
       "\n",
       "$xlevels\n",
       ":   \n",
       "\n",
       "\n",
       "$ylevels\n",
       ":   1. 'absent'\n",
       "2. 'present'\n",
       "\n",
       "\n",
       "\n",
       "$class\n",
       ":   'rpart'\n",
       "\n",
       "\n"
      ],
      "text/plain": [
       "$names\n",
       " [1] \"frame\"               \"where\"               \"call\"               \n",
       " [4] \"terms\"               \"cptable\"             \"method\"             \n",
       " [7] \"parms\"               \"control\"             \"functions\"          \n",
       "[10] \"numresp\"             \"splits\"              \"variable.importance\"\n",
       "[13] \"y\"                   \"ordered\"            \n",
       "\n",
       "$xlevels\n",
       "named list()\n",
       "\n",
       "$ylevels\n",
       "[1] \"absent\"  \"present\"\n",
       "\n",
       "$class\n",
       "[1] \"rpart\"\n"
      ]
     },
     "metadata": {},
     "output_type": "display_data"
    }
   ],
   "source": [
    "attributes(kyphosis.tr) # object이 어떤 형식으로 되어있는지 설명"
   ]
  },
  {
   "cell_type": "code",
   "execution_count": 21,
   "metadata": {},
   "outputs": [
    {
     "data": {
      "text/html": [
       "<table>\n",
       "<thead><tr><th scope=col>CP</th><th scope=col>nsplit</th><th scope=col>rel error</th><th scope=col>xerror</th><th scope=col>xstd</th></tr></thead>\n",
       "<tbody>\n",
       "\t<tr><td>0.17647059</td><td>0         </td><td>1.0000000 </td><td>1.000000  </td><td>0.2155872 </td></tr>\n",
       "\t<tr><td>0.01960784</td><td>1         </td><td>0.8235294 </td><td>1.294118  </td><td>0.2354756 </td></tr>\n",
       "\t<tr><td>0.01000000</td><td>4         </td><td>0.7647059 </td><td>1.294118  </td><td>0.2354756 </td></tr>\n",
       "</tbody>\n",
       "</table>\n"
      ],
      "text/latex": [
       "\\begin{tabular}{r|lllll}\n",
       " CP & nsplit & rel error & xerror & xstd\\\\\n",
       "\\hline\n",
       "\t 0.17647059 & 0          & 1.0000000  & 1.000000   & 0.2155872 \\\\\n",
       "\t 0.01960784 & 1          & 0.8235294  & 1.294118   & 0.2354756 \\\\\n",
       "\t 0.01000000 & 4          & 0.7647059  & 1.294118   & 0.2354756 \\\\\n",
       "\\end{tabular}\n"
      ],
      "text/markdown": [
       "\n",
       "| CP | nsplit | rel error | xerror | xstd |\n",
       "|---|---|---|---|---|\n",
       "| 0.17647059 | 0          | 1.0000000  | 1.000000   | 0.2155872  |\n",
       "| 0.01960784 | 1          | 0.8235294  | 1.294118   | 0.2354756  |\n",
       "| 0.01000000 | 4          | 0.7647059  | 1.294118   | 0.2354756  |\n",
       "\n"
      ],
      "text/plain": [
       "  CP         nsplit rel error xerror   xstd     \n",
       "1 0.17647059 0      1.0000000 1.000000 0.2155872\n",
       "2 0.01960784 1      0.8235294 1.294118 0.2354756\n",
       "3 0.01000000 4      0.7647059 1.294118 0.2354756"
      ]
     },
     "metadata": {},
     "output_type": "display_data"
    }
   ],
   "source": [
    "kyphosis.tr$cptable #cost complexity"
   ]
  },
  {
   "cell_type": "code",
   "execution_count": 23,
   "metadata": {},
   "outputs": [
    {
     "data": {
      "text/plain": [
       "\n",
       "Model formula:\n",
       "Kyphosis ~ Age + Number + Start\n",
       "\n",
       "Fitted party:\n",
       "[1] root\n",
       "|   [2] Start >= 8.5\n",
       "|   |   [3] Start >= 14.5: absent (n = 29, err = 0.0%)\n",
       "|   |   [4] Start < 14.5\n",
       "|   |   |   [5] Age < 55: absent (n = 12, err = 0.0%)\n",
       "|   |   |   [6] Age >= 55\n",
       "|   |   |   |   [7] Age >= 111: absent (n = 14, err = 14.3%)\n",
       "|   |   |   |   [8] Age < 111: present (n = 7, err = 42.9%)\n",
       "|   [9] Start < 8.5: present (n = 19, err = 42.1%)\n",
       "\n",
       "Number of inner nodes:    4\n",
       "Number of terminal nodes: 5"
      ]
     },
     "metadata": {},
     "output_type": "display_data"
    },
    {
     "data": {
      "image/png": "[encoded data removed]",
      "text/plain": [
       "plot without title"
      ]
     },
     "metadata": {},
     "output_type": "display_data"
    }
   ],
   "source": [
    "#예쁜 나무모형 그리기\n",
    "library(partykit)\n",
    "kyphosis.party = as.party(kyphosis.tr)\n",
    "kyphosis.party\n",
    "plot(kyphosis.party)"
   ]
  },
  {
   "cell_type": "code",
   "execution_count": 27,
   "metadata": {},
   "outputs": [
    {
     "name": "stdout",
     "output_type": "stream",
     "text": [
      "\n",
      "Classification tree:\n",
      "rpart(formula = Kyphosis ~ ., data = kyphosis, control = rpart.control(xval = 10))\n",
      "\n",
      "Variables actually used in tree construction:\n",
      "[1] Age   Start\n",
      "\n",
      "Root node error: 17/81 = 0.20988\n",
      "\n",
      "n= 81 \n",
      "\n",
      "        CP nsplit rel error  xerror    xstd\n",
      "1 0.176471      0   1.00000 1.00000 0.21559\n",
      "2 0.019608      1   0.82353 0.94118 0.21078\n",
      "3 0.010000      4   0.76471 0.94118 0.21078\n"
     ]
    },
    {
     "data": {
      "image/png": "[encoded data removed]",
      "text/plain": [
       "plot without title"
      ]
     },
     "metadata": {},
     "output_type": "display_data"
    }
   ],
   "source": [
    "kyphosis.tr.cv = rpart(Kyphosis ~., data = kyphosis, control = rpart.control(xval = 10))\n",
    "printcp(kyphosis.tr.cv)\n",
    "plotcp(kyphosis.tr.cv) #relative error of cross validation"
   ]
  },
  {
   "cell_type": "code",
   "execution_count": 29,
   "metadata": {},
   "outputs": [
    {
     "data": {
      "image/png": "[encoded data removed]",
      "text/plain": [
       "plot without title"
      ]
     },
     "metadata": {},
     "output_type": "display_data"
    }
   ],
   "source": [
    "# tree >> Entropy, rpart >> Gini index 사용\n",
    "kyphosis.tr.info = rpart(Kyphosis ~., data = kyphosis, parm = list(split = \"information\"))\n",
    "kyphosis.tr.info.party = as.party(kyphosis.tr.info)\n",
    "plot(kyphosis.tr.info.party)"
   ]
  }
 ],
 "metadata": {
  "kernelspec": {
   "display_name": "R",
   "language": "R",
   "name": "ir"
  },
  "language_info": {
   "codemirror_mode": "r",
   "file_extension": ".r",
   "mimetype": "text/x-r-source",
   "name": "R",
   "pygments_lexer": "r",
   "version": "3.6.1"
  }
 },
 "nbformat": 4,
 "nbformat_minor": 4
}
