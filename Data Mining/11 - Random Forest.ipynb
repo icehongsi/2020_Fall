{
 "cells": [
  {
   "cell_type": "code",
   "execution_count": 1,
   "metadata": {},
   "outputs": [
    {
     "name": "stdout",
     "output_type": "stream",
     "text": [
      "'data.frame':\t150 obs. of  5 variables:\n",
      " $ Sepal.Length: num  5.1 4.9 4.7 4.6 5 5.4 4.6 5 4.4 4.9 ...\n",
      " $ Sepal.Width : num  3.5 3 3.2 3.1 3.6 3.9 3.4 3.4 2.9 3.1 ...\n",
      " $ Petal.Length: num  1.4 1.4 1.3 1.5 1.4 1.7 1.4 1.5 1.4 1.5 ...\n",
      " $ Petal.Width : num  0.2 0.2 0.2 0.2 0.2 0.4 0.3 0.2 0.2 0.1 ...\n",
      " $ Species     : Factor w/ 3 levels \"setosa\",\"versicolor\",..: 1 1 1 1 1 1 1 1 1 1 ...\n"
     ]
    }
   ],
   "source": [
    "#iris\n",
    "str(iris)"
   ]
  },
  {
   "cell_type": "code",
   "execution_count": 2,
   "metadata": {},
   "outputs": [
    {
     "name": "stderr",
     "output_type": "stream",
     "text": [
      "Warning message:\n",
      "\"package 'randomForest' was built under R version 3.6.3\"randomForest 4.6-14\n",
      "Type rfNews() to see new features/changes/bug fixes.\n"
     ]
    }
   ],
   "source": [
    "library(randomForest)\n",
    "iris.rf = randomForest(Species~., data = iris)"
   ]
  },
  {
   "cell_type": "code",
   "execution_count": 7,
   "metadata": {},
   "outputs": [
    {
     "data": {
      "text/plain": [
       "\n",
       "Call:\n",
       " randomForest(formula = Species ~ ., data = iris) \n",
       "               Type of random forest: classification\n",
       "                     Number of trees: 500\n",
       "No. of variables tried at each split: 2\n",
       "\n",
       "        OOB estimate of  error rate: 4%\n",
       "Confusion matrix:\n",
       "           setosa versicolor virginica class.error\n",
       "setosa         50          0         0        0.00\n",
       "versicolor      0         47         3        0.06\n",
       "virginica       0          3        47        0.06"
      ]
     },
     "metadata": {},
     "output_type": "display_data"
    },
    {
     "data": {
      "text/plain": [
       "                Length Class  Mode     \n",
       "call               3   -none- call     \n",
       "type               1   -none- character\n",
       "predicted        150   factor numeric  \n",
       "err.rate        2000   -none- numeric  \n",
       "confusion         12   -none- numeric  \n",
       "votes            450   matrix numeric  \n",
       "oob.times        150   -none- numeric  \n",
       "classes            3   -none- character\n",
       "importance         4   -none- numeric  \n",
       "importanceSD       0   -none- NULL     \n",
       "localImportance    0   -none- NULL     \n",
       "proximity          0   -none- NULL     \n",
       "ntree              1   -none- numeric  \n",
       "mtry               1   -none- numeric  \n",
       "forest            14   -none- list     \n",
       "y                150   factor numeric  \n",
       "test               0   -none- NULL     \n",
       "inbag              0   -none- NULL     \n",
       "terms              3   terms  call     "
      ]
     },
     "metadata": {},
     "output_type": "display_data"
    }
   ],
   "source": [
    "iris.rf\n",
    "# error rate: 4%\n",
    "\n",
    "#항아리에서 1번부터 10번까지의 공을 복원 추출할 때...\n",
    "#68%가 추출, 32%은 모델링 시 사용되지 않음\n",
    "\n",
    "summary(iris.rf)"
   ]
  },
  {
   "cell_type": "code",
   "execution_count": 12,
   "metadata": {},
   "outputs": [
    {
     "data": {
      "text/plain": [
       "\n",
       "Call:\n",
       " randomForest(formula = Species ~ ., data = iris, mtry = 4) \n",
       "               Type of random forest: classification\n",
       "                     Number of trees: 500\n",
       "No. of variables tried at each split: 4\n",
       "\n",
       "        OOB estimate of  error rate: 4%\n",
       "Confusion matrix:\n",
       "           setosa versicolor virginica class.error\n",
       "setosa         50          0         0        0.00\n",
       "versicolor      0         47         3        0.06\n",
       "virginica       0          3        47        0.06"
      ]
     },
     "metadata": {},
     "output_type": "display_data"
    }
   ],
   "source": [
    "#rf는 split시 일부를 지정하여 할 수 있음.\n",
    "iris.bg = randomForest(Species~., data = iris, mtry = 4) #설명변수 4개를 모두 사용\n",
    "iris.bg # split이 4번 이루어짐"
   ]
  },
  {
   "cell_type": "code",
   "execution_count": 15,
   "metadata": {},
   "outputs": [
    {
     "name": "stdout",
     "output_type": "stream",
     "text": [
      "Call:\n",
      "rpart(formula = Species ~ ., data = iris)\n",
      "  n= 150 \n",
      "\n",
      "    CP nsplit rel error xerror       xstd\n",
      "1 0.50      0      1.00   1.15 0.05180090\n",
      "2 0.44      1      0.50   0.66 0.06079474\n",
      "3 0.01      2      0.06   0.11 0.03192700\n",
      "\n",
      "Variable importance\n",
      " Petal.Width Petal.Length Sepal.Length  Sepal.Width \n",
      "          34           31           21           14 \n",
      "\n",
      "Node number 1: 150 observations,    complexity param=0.5\n",
      "  predicted class=setosa      expected loss=0.6666667  P(node) =1\n",
      "    class counts:    50    50    50\n",
      "   probabilities: 0.333 0.333 0.333 \n",
      "  left son=2 (50 obs) right son=3 (100 obs)\n",
      "  Primary splits:\n",
      "      Petal.Length < 2.45 to the left,  improve=50.00000, (0 missing)\n",
      "      Petal.Width  < 0.8  to the left,  improve=50.00000, (0 missing)\n",
      "      Sepal.Length < 5.45 to the left,  improve=34.16405, (0 missing)\n",
      "      Sepal.Width  < 3.35 to the right, improve=19.03851, (0 missing)\n",
      "  Surrogate splits:\n",
      "      Petal.Width  < 0.8  to the left,  agree=1.000, adj=1.00, (0 split)\n",
      "      Sepal.Length < 5.45 to the left,  agree=0.920, adj=0.76, (0 split)\n",
      "      Sepal.Width  < 3.35 to the right, agree=0.833, adj=0.50, (0 split)\n",
      "\n",
      "Node number 2: 50 observations\n",
      "  predicted class=setosa      expected loss=0  P(node) =0.3333333\n",
      "    class counts:    50     0     0\n",
      "   probabilities: 1.000 0.000 0.000 \n",
      "\n",
      "Node number 3: 100 observations,    complexity param=0.44\n",
      "  predicted class=versicolor  expected loss=0.5  P(node) =0.6666667\n",
      "    class counts:     0    50    50\n",
      "   probabilities: 0.000 0.500 0.500 \n",
      "  left son=6 (54 obs) right son=7 (46 obs)\n",
      "  Primary splits:\n",
      "      Petal.Width  < 1.75 to the left,  improve=38.969400, (0 missing)\n",
      "      Petal.Length < 4.75 to the left,  improve=37.353540, (0 missing)\n",
      "      Sepal.Length < 6.15 to the left,  improve=10.686870, (0 missing)\n",
      "      Sepal.Width  < 2.45 to the left,  improve= 3.555556, (0 missing)\n",
      "  Surrogate splits:\n",
      "      Petal.Length < 4.75 to the left,  agree=0.91, adj=0.804, (0 split)\n",
      "      Sepal.Length < 6.15 to the left,  agree=0.73, adj=0.413, (0 split)\n",
      "      Sepal.Width  < 2.95 to the left,  agree=0.67, adj=0.283, (0 split)\n",
      "\n",
      "Node number 6: 54 observations\n",
      "  predicted class=versicolor  expected loss=0.09259259  P(node) =0.36\n",
      "    class counts:     0    49     5\n",
      "   probabilities: 0.000 0.907 0.093 \n",
      "\n",
      "Node number 7: 46 observations\n",
      "  predicted class=virginica   expected loss=0.02173913  P(node) =0.3066667\n",
      "    class counts:     0     1    45\n",
      "   probabilities: 0.000 0.022 0.978 \n",
      "\n"
     ]
    }
   ],
   "source": [
    "#iris로 tree 해보기\n",
    "library(rpart)\n",
    "iris.rpart = rpart(Species ~ ., data = iris)\n",
    "summary(iris.rpart)"
   ]
  },
  {
   "cell_type": "code",
   "execution_count": 19,
   "metadata": {},
   "outputs": [
    {
     "data": {
      "image/png": "[encoded data removed]",
      "text/plain": [
       "plot without title"
      ]
     },
     "metadata": {},
     "output_type": "display_data"
    }
   ],
   "source": [
    "iris.rf2 = randomForest(Species ~ ., data = iris, importance = T)\n",
    "varImpPlot(iris.rf2)\n",
    "#어떤 변수가 가장 중요한지에 대한 결과를 제공\n",
    "#Petal 변수가 Sepal 변수보다 더 중요하다고 보여짐 \n",
    "#RF를 통해 variable importance를 판별, 선택과 집중을 할 수 있도록 도와줌"
   ]
  },
  {
   "cell_type": "code",
   "execution_count": 21,
   "metadata": {},
   "outputs": [
    {
     "data": {
      "image/png": "[encoded data removed]",
      "text/plain": [
       "plot without title"
      ]
     },
     "metadata": {},
     "output_type": "display_data"
    },
    {
     "data": {
      "image/png": "[encoded data removed]",
      "text/plain": [
       "plot without title"
      ]
     },
     "metadata": {},
     "output_type": "display_data"
    }
   ],
   "source": [
    "library(ggplot2)\n",
    "ggplot(aes(Sepal.Length, Sepal.Width), data = iris) + geom_point(aes(color = Species), size = 4)\n",
    "ggplot(aes(Petal.Length, Petal.Width), data = iris) + geom_point(aes(color = Species), size = 4)"
   ]
  },
  {
   "cell_type": "code",
   "execution_count": 26,
   "metadata": {},
   "outputs": [
    {
     "name": "stdout",
     "output_type": "stream",
     "text": [
      "'data.frame':\t506 obs. of  14 variables:\n",
      " $ crim   : num  0.00632 0.02731 0.02729 0.03237 0.06905 ...\n",
      " $ zn     : num  18 0 0 0 0 0 12.5 12.5 12.5 12.5 ...\n",
      " $ indus  : num  2.31 7.07 7.07 2.18 2.18 2.18 7.87 7.87 7.87 7.87 ...\n",
      " $ chas   : int  0 0 0 0 0 0 0 0 0 0 ...\n",
      " $ nox    : num  0.538 0.469 0.469 0.458 0.458 0.458 0.524 0.524 0.524 0.524 ...\n",
      " $ rm     : num  6.58 6.42 7.18 7 7.15 ...\n",
      " $ age    : num  65.2 78.9 61.1 45.8 54.2 58.7 66.6 96.1 100 85.9 ...\n",
      " $ dis    : num  4.09 4.97 4.97 6.06 6.06 ...\n",
      " $ rad    : int  1 2 2 3 3 3 5 5 5 5 ...\n",
      " $ tax    : num  296 242 242 222 222 222 311 311 311 311 ...\n",
      " $ ptratio: num  15.3 17.8 17.8 18.7 18.7 18.7 15.2 15.2 15.2 15.2 ...\n",
      " $ black  : num  397 397 393 395 397 ...\n",
      " $ lstat  : num  4.98 9.14 4.03 2.94 5.33 ...\n",
      " $ medv   : num  24 21.6 34.7 33.4 36.2 28.7 22.9 27.1 16.5 18.9 ...\n"
     ]
    },
    {
     "data": {
      "text/plain": [
       "      crim                zn             indus            chas        \n",
       " Min.   : 0.00632   Min.   :  0.00   Min.   : 0.46   Min.   :0.00000  \n",
       " 1st Qu.: 0.08204   1st Qu.:  0.00   1st Qu.: 5.19   1st Qu.:0.00000  \n",
       " Median : 0.25651   Median :  0.00   Median : 9.69   Median :0.00000  \n",
       " Mean   : 3.61352   Mean   : 11.36   Mean   :11.14   Mean   :0.06917  \n",
       " 3rd Qu.: 3.67708   3rd Qu.: 12.50   3rd Qu.:18.10   3rd Qu.:0.00000  \n",
       " Max.   :88.97620   Max.   :100.00   Max.   :27.74   Max.   :1.00000  \n",
       "      nox               rm             age              dis        \n",
       " Min.   :0.3850   Min.   :3.561   Min.   :  2.90   Min.   : 1.130  \n",
       " 1st Qu.:0.4490   1st Qu.:5.886   1st Qu.: 45.02   1st Qu.: 2.100  \n",
       " Median :0.5380   Median :6.208   Median : 77.50   Median : 3.207  \n",
       " Mean   :0.5547   Mean   :6.285   Mean   : 68.57   Mean   : 3.795  \n",
       " 3rd Qu.:0.6240   3rd Qu.:6.623   3rd Qu.: 94.08   3rd Qu.: 5.188  \n",
       " Max.   :0.8710   Max.   :8.780   Max.   :100.00   Max.   :12.127  \n",
       "      rad              tax           ptratio          black       \n",
       " Min.   : 1.000   Min.   :187.0   Min.   :12.60   Min.   :  0.32  \n",
       " 1st Qu.: 4.000   1st Qu.:279.0   1st Qu.:17.40   1st Qu.:375.38  \n",
       " Median : 5.000   Median :330.0   Median :19.05   Median :391.44  \n",
       " Mean   : 9.549   Mean   :408.2   Mean   :18.46   Mean   :356.67  \n",
       " 3rd Qu.:24.000   3rd Qu.:666.0   3rd Qu.:20.20   3rd Qu.:396.23  \n",
       " Max.   :24.000   Max.   :711.0   Max.   :22.00   Max.   :396.90  \n",
       "     lstat            medv      \n",
       " Min.   : 1.73   Min.   : 5.00  \n",
       " 1st Qu.: 6.95   1st Qu.:17.02  \n",
       " Median :11.36   Median :21.20  \n",
       " Mean   :12.65   Mean   :22.53  \n",
       " 3rd Qu.:16.95   3rd Qu.:25.00  \n",
       " Max.   :37.97   Max.   :50.00  "
      ]
     },
     "metadata": {},
     "output_type": "display_data"
    }
   ],
   "source": [
    "#boston housing\n",
    "library(MASS)\n",
    "data(Boston)\n",
    "str(Boston)\n",
    "summary(Boston)"
   ]
  },
  {
   "cell_type": "code",
   "execution_count": 30,
   "metadata": {},
   "outputs": [
    {
     "data": {
      "text/plain": [
       "                Length Class  Mode     \n",
       "call              4    -none- call     \n",
       "type              1    -none- character\n",
       "predicted       506    -none- numeric  \n",
       "mse             500    -none- numeric  \n",
       "rsq             500    -none- numeric  \n",
       "oob.times       506    -none- numeric  \n",
       "importance       26    -none- numeric  \n",
       "importanceSD     13    -none- numeric  \n",
       "localImportance   0    -none- NULL     \n",
       "proximity         0    -none- NULL     \n",
       "ntree             1    -none- numeric  \n",
       "mtry              1    -none- numeric  \n",
       "forest           11    -none- list     \n",
       "coefs             0    -none- NULL     \n",
       "y               506    -none- numeric  \n",
       "test              0    -none- NULL     \n",
       "inbag             0    -none- NULL     \n",
       "terms             3    terms  call     "
      ]
     },
     "metadata": {},
     "output_type": "display_data"
    },
    {
     "data": {
      "text/plain": [
       "\n",
       "Call:\n",
       " randomForest(formula = medv ~ ., data = Boston, importance = T) \n",
       "               Type of random forest: regression\n",
       "                     Number of trees: 500\n",
       "No. of variables tried at each split: 4\n",
       "\n",
       "          Mean of squared residuals: 10.24577\n",
       "                    % Var explained: 87.86"
      ]
     },
     "metadata": {},
     "output_type": "display_data"
    },
    {
     "data": {
      "image/png": "[encoded data removed]",
      "text/plain": [
       "plot without title"
      ]
     },
     "metadata": {},
     "output_type": "display_data"
    }
   ],
   "source": [
    "boston.rf = randomForest(medv ~ ., data = Boston, importance = T)\n",
    "summary(boston.rf)\n",
    "boston.rf #기본적으로 연속형이므로 regression으로 작동, 대개 p/3 >> 총 12개이므로 4개정도\n",
    "# %Var explained >> R Square와 유사\n",
    "varImpPlot(boston.rf)"
   ]
  },
  {
   "cell_type": "code",
   "execution_count": 32,
   "metadata": {},
   "outputs": [
    {
     "data": {
      "image/png": "[encoded data removed]",
      "text/plain": [
       "plot without title"
      ]
     },
     "metadata": {},
     "output_type": "display_data"
    }
   ],
   "source": [
    "ggplot(aes(lstat, medv), data = Boston) + geom_point()\n",
    "# quadratic relation"
   ]
  },
  {
   "cell_type": "code",
   "execution_count": 33,
   "metadata": {},
   "outputs": [
    {
     "data": {
      "text/plain": [
       "\n",
       "Call:\n",
       "lm(formula = medv ~ lstat, data = Boston)\n",
       "\n",
       "Residuals:\n",
       "    Min      1Q  Median      3Q     Max \n",
       "-15.168  -3.990  -1.318   2.034  24.500 \n",
       "\n",
       "Coefficients:\n",
       "            Estimate Std. Error t value Pr(>|t|)    \n",
       "(Intercept) 34.55384    0.56263   61.41   <2e-16 ***\n",
       "lstat       -0.95005    0.03873  -24.53   <2e-16 ***\n",
       "---\n",
       "Signif. codes:  0 '***' 0.001 '**' 0.01 '*' 0.05 '.' 0.1 ' ' 1\n",
       "\n",
       "Residual standard error: 6.216 on 504 degrees of freedom\n",
       "Multiple R-squared:  0.5441,\tAdjusted R-squared:  0.5432 \n",
       "F-statistic: 601.6 on 1 and 504 DF,  p-value: < 2.2e-16\n"
      ]
     },
     "metadata": {},
     "output_type": "display_data"
    }
   ],
   "source": [
    "boston.lm = lm(medv ~ lstat, data = Boston)\n",
    "summary(boston.lm)"
   ]
  },
  {
   "cell_type": "code",
   "execution_count": null,
   "metadata": {},
   "outputs": [],
   "source": []
  }
 ],
 "metadata": {
  "kernelspec": {
   "display_name": "R",
   "language": "R",
   "name": "ir"
  },
  "language_info": {
   "codemirror_mode": "r",
   "file_extension": ".r",
   "mimetype": "text/x-r-source",
   "name": "R",
   "pygments_lexer": "r",
   "version": "3.6.1"
  }
 },
 "nbformat": 4,
 "nbformat_minor": 4
}
