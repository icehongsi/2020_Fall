{
 "cells": [
  {
   "cell_type": "markdown",
   "metadata": {},
   "source": [
    "실무에서 score을 많이 사용\n",
    "Decision Tree, Logistic, Neural Network, Ensemble 모두 사용하나\n",
    "대부분이 Logistic Regression을 사용함.\n",
    "\n",
    "Score Card란?\n",
    "\n",
    "모형의 Good / Bad를 예측하는 형태\n",
    "나이/근속년수 등에 따라 점수를 할당함"
   ]
  },
  {
   "cell_type": "code",
   "execution_count": 11,
   "metadata": {},
   "outputs": [],
   "source": [
    "load(file.choose())"
   ]
  },
  {
   "cell_type": "code",
   "execution_count": 14,
   "metadata": {},
   "outputs": [
    {
     "name": "stdout",
     "output_type": "stream",
     "text": [
      "'data.frame':\t1000 obs. of  21 variables:\n",
      " $ checking: Factor w/ 4 levels \"1\",\"2\",\"3\",\"4\": 1 2 4 1 1 4 4 2 4 2 ...\n",
      " $ duration: num  6 48 12 42 24 36 24 36 12 30 ...\n",
      " $ history : Factor w/ 5 levels \"0\",\"1\",\"2\",\"3\",..: 5 3 5 3 4 3 3 3 3 5 ...\n",
      " $ purpose : Factor w/ 10 levels \"0\",\"1\",\"2\",\"3\",..: 4 4 7 3 1 7 3 2 4 1 ...\n",
      " $ amount  : num  1169 5951 2096 7882 4870 ...\n",
      " $ savings : Factor w/ 5 levels \"1\",\"2\",\"3\",\"4\",..: 5 1 1 1 1 5 3 1 4 1 ...\n",
      " $ employed: Factor w/ 5 levels \"1\",\"2\",\"3\",\"4\",..: 5 3 4 4 3 3 5 3 4 1 ...\n",
      " $ installp: num  4 2 2 2 3 2 3 2 2 4 ...\n",
      " $ marital : Factor w/ 4 levels \"1\",\"2\",\"3\",\"4\": 3 2 3 3 3 3 3 3 1 4 ...\n",
      " $ coapp   : Factor w/ 3 levels \"1\",\"2\",\"3\": 1 1 1 3 1 1 1 1 1 1 ...\n",
      " $ resident: num  4 2 3 4 4 4 4 2 4 2 ...\n",
      " $ property: Factor w/ 4 levels \"1\",\"2\",\"3\",\"4\": 1 1 1 2 4 4 2 3 1 3 ...\n",
      " $ age     : num  67 22 49 45 53 35 53 35 61 28 ...\n",
      " $ other   : Factor w/ 3 levels \"1\",\"2\",\"3\": 3 3 3 3 3 3 3 3 3 3 ...\n",
      " $ housing : Factor w/ 3 levels \"1\",\"2\",\"3\": 2 2 2 3 3 3 2 1 2 2 ...\n",
      " $ existcr : num  2 1 1 1 2 1 1 1 1 2 ...\n",
      " $ job     : Factor w/ 4 levels \"1\",\"2\",\"3\",\"4\": 3 3 2 3 3 2 3 4 2 4 ...\n",
      " $ depends : num  1 1 2 2 2 2 1 1 1 1 ...\n",
      " $ telephon: Factor w/ 2 levels \"1\",\"2\": 2 1 1 1 1 2 1 2 1 1 ...\n",
      " $ foreign : Factor w/ 2 levels \"1\",\"2\": 1 1 1 1 1 1 1 1 1 1 ...\n",
      " $ good.bad: Factor w/ 2 levels \"bad\",\"good\": 2 1 2 2 1 2 2 2 2 1 ...\n"
     ]
    }
   ],
   "source": [
    "str(german)"
   ]
  },
  {
   "cell_type": "code",
   "execution_count": 15,
   "metadata": {},
   "outputs": [],
   "source": [
    "logit.german <- glm(good.bad ~ ., data = german, family = binomial)\n",
    "#generalized linear model"
   ]
  },
  {
   "cell_type": "code",
   "execution_count": 16,
   "metadata": {},
   "outputs": [
    {
     "data": {
      "text/plain": [
       "\n",
       "Call:\n",
       "glm(formula = good.bad ~ ., family = binomial, data = german)\n",
       "\n",
       "Deviance Residuals: \n",
       "    Min       1Q   Median       3Q      Max  \n",
       "-2.6116  -0.7095   0.3752   0.6994   2.3410  \n",
       "\n",
       "Coefficients:\n",
       "              Estimate Std. Error z value Pr(>|z|)    \n",
       "(Intercept) -4.005e-01  1.084e+00  -0.369 0.711869    \n",
       "checking2    3.749e-01  2.179e-01   1.720 0.085400 .  \n",
       "checking3    9.657e-01  3.692e-01   2.616 0.008905 ** \n",
       "checking4    1.712e+00  2.322e-01   7.373 1.66e-13 ***\n",
       "duration    -2.786e-02  9.296e-03  -2.997 0.002724 ** \n",
       "history1    -1.434e-01  5.489e-01  -0.261 0.793921    \n",
       "history2     5.861e-01  4.305e-01   1.362 0.173348    \n",
       "history3     8.532e-01  4.717e-01   1.809 0.070470 .  \n",
       "history4     1.436e+00  4.399e-01   3.264 0.001099 ** \n",
       "purpose1     1.666e+00  3.743e-01   4.452 8.51e-06 ***\n",
       "purpose2     7.916e-01  2.610e-01   3.033 0.002421 ** \n",
       "purpose3     8.916e-01  2.471e-01   3.609 0.000308 ***\n",
       "purpose4     5.228e-01  7.623e-01   0.686 0.492831    \n",
       "purpose5     2.164e-01  5.500e-01   0.393 0.694000    \n",
       "purpose6    -3.628e-02  3.965e-01  -0.092 0.927082    \n",
       "purpose8     2.059e+00  1.212e+00   1.699 0.089297 .  \n",
       "purpose9     7.401e-01  3.339e-01   2.216 0.026668 *  \n",
       "purposeX     1.489e+00  7.764e-01   1.918 0.055163 .  \n",
       "amount      -1.283e-04  4.444e-05  -2.887 0.003894 ** \n",
       "savings2     3.577e-01  2.861e-01   1.250 0.211130    \n",
       "savings3     3.761e-01  4.011e-01   0.938 0.348476    \n",
       "savings4     1.339e+00  5.249e-01   2.551 0.010729 *  \n",
       "savings5     9.467e-01  2.625e-01   3.607 0.000310 ***\n",
       "employed2    6.691e-02  4.270e-01   0.157 0.875475    \n",
       "employed3    1.828e-01  4.105e-01   0.445 0.656049    \n",
       "employed4    8.310e-01  4.455e-01   1.866 0.062110 .  \n",
       "employed5    2.766e-01  4.134e-01   0.669 0.503410    \n",
       "installp    -3.301e-01  8.828e-02  -3.739 0.000185 ***\n",
       "marital2     2.755e-01  3.865e-01   0.713 0.476040    \n",
       "marital3     8.161e-01  3.799e-01   2.148 0.031718 *  \n",
       "marital4     3.671e-01  4.537e-01   0.809 0.418448    \n",
       "coapp2      -4.360e-01  4.101e-01  -1.063 0.287700    \n",
       "coapp3       9.786e-01  4.243e-01   2.307 0.021072 *  \n",
       "resident    -4.776e-03  8.641e-02  -0.055 0.955920    \n",
       "property2   -2.814e-01  2.534e-01  -1.111 0.266630    \n",
       "property3   -1.945e-01  2.360e-01  -0.824 0.409743    \n",
       "property4   -7.304e-01  4.245e-01  -1.721 0.085308 .  \n",
       "age          1.454e-02  9.222e-03   1.576 0.114982    \n",
       "other2       1.232e-01  4.119e-01   0.299 0.764878    \n",
       "other3       6.463e-01  2.391e-01   2.703 0.006871 ** \n",
       "housing2     4.436e-01  2.347e-01   1.890 0.058715 .  \n",
       "housing3     6.839e-01  4.770e-01   1.434 0.151657    \n",
       "existcr     -2.721e-01  1.895e-01  -1.436 0.151109    \n",
       "job2        -5.361e-01  6.796e-01  -0.789 0.430160    \n",
       "job3        -5.547e-01  6.549e-01  -0.847 0.397015    \n",
       "job4        -4.795e-01  6.623e-01  -0.724 0.469086    \n",
       "depends     -2.647e-01  2.492e-01  -1.062 0.288249    \n",
       "telephon2    3.000e-01  2.013e-01   1.491 0.136060    \n",
       "foreign2     1.392e+00  6.258e-01   2.225 0.026095 *  \n",
       "---\n",
       "Signif. codes:  0 '***' 0.001 '**' 0.01 '*' 0.05 '.' 0.1 ' ' 1\n",
       "\n",
       "(Dispersion parameter for binomial family taken to be 1)\n",
       "\n",
       "    Null deviance: 1221.73  on 999  degrees of freedom\n",
       "Residual deviance:  895.82  on 951  degrees of freedom\n",
       "AIC: 993.82\n",
       "\n",
       "Number of Fisher Scoring iterations: 5\n"
      ]
     },
     "metadata": {},
     "output_type": "display_data"
    }
   ],
   "source": [
    "summary(logit.german)"
   ]
  },
  {
   "cell_type": "code",
   "execution_count": 17,
   "metadata": {},
   "outputs": [
    {
     "name": "stdout",
     "output_type": "stream",
     "text": [
      "Start:  AIC=993.82\n",
      "good.bad ~ checking + duration + history + purpose + amount + \n",
      "    savings + employed + installp + marital + coapp + resident + \n",
      "    property + age + other + housing + existcr + job + depends + \n",
      "    telephon + foreign\n",
      "\n",
      "           Df Deviance     AIC\n",
      "- job       3   896.56  988.56\n",
      "- property  3   899.08  991.08\n",
      "- resident  1   895.82  991.82\n",
      "- depends   1   896.94  992.94\n",
      "<none>          895.82  993.82\n",
      "- existcr   1   897.89  993.89\n",
      "- employed  4   904.03  994.03\n",
      "- housing   2   900.05  994.05\n",
      "- telephon  1   898.06  994.06\n",
      "- age       1   898.34  994.34\n",
      "- marital   3   905.15  997.15\n",
      "- coapp     2   903.24  997.24\n",
      "- foreign   1   901.88  997.88\n",
      "- other     2   903.98  997.98\n",
      "- amount    1   904.28 1000.28\n",
      "- duration  1   904.87 1000.87\n",
      "- savings   4   915.63 1005.63\n",
      "- installp  1   910.27 1006.27\n",
      "- history   4   917.62 1007.62\n",
      "- purpose   9   931.12 1011.12\n",
      "- checking  3   962.05 1054.05\n",
      "\n",
      "Step:  AIC=988.56\n",
      "good.bad ~ checking + duration + history + purpose + amount + \n",
      "    savings + employed + installp + marital + coapp + resident + \n",
      "    property + age + other + housing + existcr + depends + telephon + \n",
      "    foreign\n",
      "\n",
      "           Df Deviance     AIC\n",
      "- property  3   899.79  985.79\n",
      "- resident  1   896.57  986.57\n",
      "- depends   1   897.67  987.67\n",
      "- employed  4   904.32  988.32\n",
      "- existcr   1   898.47  988.47\n",
      "<none>          896.56  988.56\n",
      "- housing   2   900.60  988.60\n",
      "- telephon  1   899.13  989.13\n",
      "- age       1   899.19  989.19\n",
      "- marital   3   905.83  991.83\n",
      "- coapp     2   903.87  991.87\n",
      "- foreign   1   902.67  992.67\n",
      "- other     2   904.95  992.95\n",
      "- amount    1   905.31  995.31\n",
      "- duration  1   905.85  995.85\n",
      "- savings   4   917.02 1001.02\n",
      "- installp  1   911.45 1001.45\n",
      "- history   4   918.12 1002.12\n",
      "- purpose   9   931.82 1005.82\n",
      "- checking  3   962.35 1048.35\n",
      "\n",
      "Step:  AIC=985.79\n",
      "good.bad ~ checking + duration + history + purpose + amount + \n",
      "    savings + employed + installp + marital + coapp + resident + \n",
      "    age + other + housing + existcr + depends + telephon + foreign\n",
      "\n",
      "           Df Deviance     AIC\n",
      "- resident  1   899.81  983.81\n",
      "- depends   1   900.79  984.79\n",
      "- housing   2   903.47  985.47\n",
      "- existcr   1   901.49  985.49\n",
      "<none>          899.79  985.79\n",
      "- telephon  1   901.81  985.81\n",
      "- employed  4   907.85  985.85\n",
      "- age       1   902.52  986.52\n",
      "- marital   3   908.67  988.67\n",
      "- foreign   1   905.83  989.83\n",
      "- coapp     2   908.05  990.05\n",
      "- other     2   908.87  990.87\n",
      "- amount    1   909.80  993.80\n",
      "- duration  1   909.99  993.99\n",
      "- savings   4   919.78  997.78\n",
      "- installp  1   915.56  999.56\n",
      "- history   4   921.66  999.66\n",
      "- purpose   9   936.35 1004.35\n",
      "- checking  3   967.78 1047.78\n",
      "\n",
      "Step:  AIC=983.81\n",
      "good.bad ~ checking + duration + history + purpose + amount + \n",
      "    savings + employed + installp + marital + coapp + age + other + \n",
      "    housing + existcr + depends + telephon + foreign\n",
      "\n",
      "           Df Deviance     AIC\n",
      "- depends   1   900.81  982.81\n",
      "- existcr   1   901.53  983.53\n",
      "- telephon  1   901.81  983.81\n",
      "<none>          899.81  983.81\n",
      "- employed  4   907.86  983.86\n",
      "- housing   2   903.95  983.95\n",
      "- age       1   902.53  984.53\n",
      "- marital   3   908.69  986.69\n",
      "- foreign   1   905.88  987.88\n",
      "- coapp     2   908.08  988.08\n",
      "- other     2   908.87  988.87\n",
      "- amount    1   909.80  991.80\n",
      "- duration  1   910.05  992.05\n",
      "- savings   4   919.78  995.78\n",
      "- installp  1   915.59  997.59\n",
      "- history   4   921.66  997.66\n",
      "- purpose   9   936.35 1002.35\n",
      "- checking  3   968.09 1046.09\n",
      "\n",
      "Step:  AIC=982.81\n",
      "good.bad ~ checking + duration + history + purpose + amount + \n",
      "    savings + employed + installp + marital + coapp + age + other + \n",
      "    housing + existcr + telephon + foreign\n",
      "\n",
      "           Df Deviance     AIC\n",
      "- existcr   1   902.80  982.80\n",
      "<none>          900.81  982.81\n",
      "- employed  4   908.82  982.82\n",
      "- telephon  1   902.90  982.90\n",
      "- housing   2   905.01  983.01\n",
      "- age       1   903.38  983.38\n",
      "- marital   3   908.75  984.75\n",
      "- foreign   1   906.79  986.79\n",
      "- coapp     2   908.83  986.83\n",
      "- other     2   909.90  987.90\n",
      "- amount    1   910.50  990.50\n",
      "- duration  1   910.95  990.95\n",
      "- savings   4   920.53  994.53\n",
      "- installp  1   915.95  995.95\n",
      "- history   4   923.28  997.28\n",
      "- purpose   9   937.61 1001.61\n",
      "- checking  3   969.35 1045.35\n",
      "\n",
      "Step:  AIC=982.8\n",
      "good.bad ~ checking + duration + history + purpose + amount + \n",
      "    savings + employed + installp + marital + coapp + age + other + \n",
      "    housing + telephon + foreign\n",
      "\n",
      "           Df Deviance     AIC\n",
      "- employed  4   910.50  982.50\n",
      "- telephon  1   904.72  982.72\n",
      "<none>          902.80  982.80\n",
      "- housing   2   907.17  983.17\n",
      "- age       1   905.21  983.21\n",
      "- marital   3   910.47  984.47\n",
      "- coapp     2   910.88  986.88\n",
      "- foreign   1   909.14  987.14\n",
      "- other     2   912.57  988.57\n",
      "- duration  1   912.50  990.50\n",
      "- amount    1   912.54  990.54\n",
      "- savings   4   922.72  994.72\n",
      "- history   4   923.43  995.43\n",
      "- installp  1   917.65  995.65\n",
      "- purpose   9   940.20 1002.20\n",
      "- checking  3   971.04 1045.04\n",
      "\n",
      "Step:  AIC=982.5\n",
      "good.bad ~ checking + duration + history + purpose + amount + \n",
      "    savings + installp + marital + coapp + age + other + housing + \n",
      "    telephon + foreign\n",
      "\n",
      "           Df Deviance     AIC\n",
      "<none>          910.50  982.50\n",
      "- telephon  1   912.82  982.82\n",
      "- age       1   912.96  982.96\n",
      "- housing   2   915.01  983.01\n",
      "- foreign   1   916.63  986.63\n",
      "- marital   3   920.98  986.98\n",
      "- coapp     2   919.41  987.41\n",
      "- other     2   920.76  988.76\n",
      "- duration  1   918.79  988.79\n",
      "- amount    1   920.07  990.07\n",
      "- savings   4   931.53  995.53\n",
      "- installp  1   925.92  995.92\n",
      "- history   4   932.30  996.30\n",
      "- purpose   9   947.78 1001.78\n",
      "- checking  3   979.75 1045.75\n"
     ]
    },
    {
     "data": {
      "text/plain": [
       "\n",
       "Call:  glm(formula = good.bad ~ checking + duration + history + purpose + \n",
       "    amount + savings + installp + marital + coapp + age + other + \n",
       "    housing + telephon + foreign, family = binomial, data = german)\n",
       "\n",
       "Coefficients:\n",
       "(Intercept)    checking2    checking3    checking4     duration     history1  \n",
       " -1.7495411    0.3900152    1.0240813    1.7177165   -0.0256787    0.1187724  \n",
       "   history2     history3     history4     purpose1     purpose2     purpose3  \n",
       "  0.8303101    0.9097304    1.4917085    1.6072585    0.7404978    0.9194787  \n",
       "   purpose4     purpose5     purpose6     purpose8     purpose9     purposeX  \n",
       "  0.5250945    0.1424475   -0.1435655    2.1643060    0.7826591    1.4349203  \n",
       "     amount     savings2     savings3     savings4     savings5     installp  \n",
       " -0.0001294    0.3282182    0.4303584    1.2894345    0.9628458   -0.3299308  \n",
       "   marital2     marital3     marital4       coapp2       coapp3          age  \n",
       "  0.2872096    0.8227885    0.4169133   -0.4874391    1.0404263    0.0130933  \n",
       "     other2       other3     housing2     housing3    telephon2     foreign2  \n",
       "  0.0786395    0.6994941    0.4415029    0.1496754    0.2794111    1.3824572  \n",
       "\n",
       "Degrees of Freedom: 999 Total (i.e. Null);  964 Residual\n",
       "Null Deviance:\t    1222 \n",
       "Residual Deviance: 910.5 \tAIC: 982.5"
      ]
     },
     "metadata": {},
     "output_type": "display_data"
    }
   ],
   "source": [
    "step(logit.german) # stepwise variable selection"
   ]
  },
  {
   "cell_type": "code",
   "execution_count": 19,
   "metadata": {},
   "outputs": [],
   "source": [
    "# training vs validation 데이터 분할\n",
    "tr.index = sample(1:1000, round(1000 * 0.7))\n",
    "german.tr = german[tr.index,]\n",
    "german.val = german[-tr.index,]"
   ]
  },
  {
   "cell_type": "code",
   "execution_count": 20,
   "metadata": {},
   "outputs": [
    {
     "name": "stderr",
     "output_type": "stream",
     "text": [
      "Warning message:\n",
      "\"package 'ggplot2' was built under R version 3.6.3\""
     ]
    },
    {
     "data": {
      "image/png": "[encoded data removed]",
      "text/plain": [
       "plot without title"
      ]
     },
     "metadata": {},
     "output_type": "display_data"
    }
   ],
   "source": [
    "library(ggplot2)\n",
    "qplot(good.bad, data = german.tr, geom = \"bar\", fill = good.bad)\n",
    "#good / bad에 비해 plot 그리기"
   ]
  },
  {
   "cell_type": "code",
   "execution_count": 22,
   "metadata": {},
   "outputs": [
    {
     "name": "stdout",
     "output_type": "stream",
     "text": [
      " Factor w/ 4 levels \"1\",\"2\",\"3\",\"4\": 1 2 4 1 1 4 4 2 4 2 ...\n"
     ]
    },
    {
     "data": {
      "image/png": "[encoded data removed]",
      "text/plain": [
       "plot without title"
      ]
     },
     "metadata": {},
     "output_type": "display_data"
    }
   ],
   "source": [
    "str(german$checking)\n",
    "ggplot(german, aes(checking, fill = factor(checking))) + geom_bar()"
   ]
  },
  {
   "cell_type": "code",
   "execution_count": 23,
   "metadata": {},
   "outputs": [
    {
     "data": {
      "image/png": "[encoded data removed]",
      "text/plain": [
       "plot without title"
      ]
     },
     "metadata": {},
     "output_type": "display_data"
    }
   ],
   "source": [
    "ggplot(german, aes(checking, fill = factor(checking))) + geom_bar() + facet_grid(.~good.bad)\n",
    "#위와 같으나 bad / good으로 나누어 비교"
   ]
  },
  {
   "cell_type": "code",
   "execution_count": 24,
   "metadata": {},
   "outputs": [
    {
     "data": {
      "image/png": "[encoded data removed]",
      "text/plain": [
       "plot without title"
      ]
     },
     "metadata": {},
     "output_type": "display_data"
    }
   ],
   "source": [
    "ggplot(german, aes(checking, fill = factor(checking))) + geom_bar() + \n",
    "coord_polar()"
   ]
  },
  {
   "cell_type": "code",
   "execution_count": 26,
   "metadata": {},
   "outputs": [
    {
     "name": "stderr",
     "output_type": "stream",
     "text": [
      "Warning message:\n",
      "\"package 'dplyr' was built under R version 3.6.3\"\n",
      "Attaching package: 'dplyr'\n",
      "\n",
      "The following objects are masked from 'package:stats':\n",
      "\n",
      "    filter, lag\n",
      "\n",
      "The following objects are masked from 'package:base':\n",
      "\n",
      "    intersect, setdiff, setequal, union\n",
      "\n"
     ]
    },
    {
     "data": {
      "text/html": [
       "<table>\n",
       "<thead><tr><th scope=col>Var1</th><th scope=col>Var2</th><th scope=col>Freq</th><th scope=col>freq_sum</th><th scope=col>freqpercent</th></tr></thead>\n",
       "<tbody>\n",
       "\t<tr><td>bad       </td><td>1         </td><td>135       </td><td>300       </td><td>0.45000000</td></tr>\n",
       "\t<tr><td>good      </td><td>1         </td><td>139       </td><td>700       </td><td>0.19857143</td></tr>\n",
       "\t<tr><td>bad       </td><td>2         </td><td>105       </td><td>300       </td><td>0.35000000</td></tr>\n",
       "\t<tr><td>good      </td><td>2         </td><td>164       </td><td>700       </td><td>0.23428571</td></tr>\n",
       "\t<tr><td>bad       </td><td>3         </td><td> 14       </td><td>300       </td><td>0.04666667</td></tr>\n",
       "\t<tr><td>good      </td><td>3         </td><td> 49       </td><td>700       </td><td>0.07000000</td></tr>\n",
       "\t<tr><td>bad       </td><td>4         </td><td> 46       </td><td>300       </td><td>0.15333333</td></tr>\n",
       "\t<tr><td>good      </td><td>4         </td><td>348       </td><td>700       </td><td>0.49714286</td></tr>\n",
       "</tbody>\n",
       "</table>\n"
      ],
      "text/latex": [
       "\\begin{tabular}{r|lllll}\n",
       " Var1 & Var2 & Freq & freq\\_sum & freqpercent\\\\\n",
       "\\hline\n",
       "\t bad        & 1          & 135        & 300        & 0.45000000\\\\\n",
       "\t good       & 1          & 139        & 700        & 0.19857143\\\\\n",
       "\t bad        & 2          & 105        & 300        & 0.35000000\\\\\n",
       "\t good       & 2          & 164        & 700        & 0.23428571\\\\\n",
       "\t bad        & 3          &  14        & 300        & 0.04666667\\\\\n",
       "\t good       & 3          &  49        & 700        & 0.07000000\\\\\n",
       "\t bad        & 4          &  46        & 300        & 0.15333333\\\\\n",
       "\t good       & 4          & 348        & 700        & 0.49714286\\\\\n",
       "\\end{tabular}\n"
      ],
      "text/markdown": [
       "\n",
       "| Var1 | Var2 | Freq | freq_sum | freqpercent |\n",
       "|---|---|---|---|---|\n",
       "| bad        | 1          | 135        | 300        | 0.45000000 |\n",
       "| good       | 1          | 139        | 700        | 0.19857143 |\n",
       "| bad        | 2          | 105        | 300        | 0.35000000 |\n",
       "| good       | 2          | 164        | 700        | 0.23428571 |\n",
       "| bad        | 3          |  14        | 300        | 0.04666667 |\n",
       "| good       | 3          |  49        | 700        | 0.07000000 |\n",
       "| bad        | 4          |  46        | 300        | 0.15333333 |\n",
       "| good       | 4          | 348        | 700        | 0.49714286 |\n",
       "\n"
      ],
      "text/plain": [
       "  Var1 Var2 Freq freq_sum freqpercent\n",
       "1 bad  1    135  300      0.45000000 \n",
       "2 good 1    139  700      0.19857143 \n",
       "3 bad  2    105  300      0.35000000 \n",
       "4 good 2    164  700      0.23428571 \n",
       "5 bad  3     14  300      0.04666667 \n",
       "6 good 3     49  700      0.07000000 \n",
       "7 bad  4     46  300      0.15333333 \n",
       "8 good 4    348  700      0.49714286 "
      ]
     },
     "metadata": {},
     "output_type": "display_data"
    }
   ],
   "source": [
    "library(dplyr)\n",
    "grcheck <- gr.checking %>% group_by(Var1) %>% mutate(freq_sum=sum(Freq)) %>% mutate(freqpercent=Freq/freq_sum) \n",
    "grcheck\n",
    "# good / bad / checking에 따라 범주화 후 count"
   ]
  },
  {
   "cell_type": "code",
   "execution_count": 27,
   "metadata": {},
   "outputs": [],
   "source": [
    "grcheck.drop <- gr.checking %>% group_by(Var1) %>% mutate(freq_sum=sum(Freq)) %>% transmute(freqpercent=Freq/freq_sum) "
   ]
  },
  {
   "cell_type": "code",
   "execution_count": 28,
   "metadata": {},
   "outputs": [
    {
     "data": {
      "text/html": [
       "<table>\n",
       "<thead><tr><th scope=col>Var1</th><th scope=col>freqpercent</th></tr></thead>\n",
       "<tbody>\n",
       "\t<tr><td>bad       </td><td>0.45000000</td></tr>\n",
       "\t<tr><td>good      </td><td>0.19857143</td></tr>\n",
       "\t<tr><td>bad       </td><td>0.35000000</td></tr>\n",
       "\t<tr><td>good      </td><td>0.23428571</td></tr>\n",
       "\t<tr><td>bad       </td><td>0.04666667</td></tr>\n",
       "\t<tr><td>good      </td><td>0.07000000</td></tr>\n",
       "\t<tr><td>bad       </td><td>0.15333333</td></tr>\n",
       "\t<tr><td>good      </td><td>0.49714286</td></tr>\n",
       "</tbody>\n",
       "</table>\n"
      ],
      "text/latex": [
       "\\begin{tabular}{r|ll}\n",
       " Var1 & freqpercent\\\\\n",
       "\\hline\n",
       "\t bad        & 0.45000000\\\\\n",
       "\t good       & 0.19857143\\\\\n",
       "\t bad        & 0.35000000\\\\\n",
       "\t good       & 0.23428571\\\\\n",
       "\t bad        & 0.04666667\\\\\n",
       "\t good       & 0.07000000\\\\\n",
       "\t bad        & 0.15333333\\\\\n",
       "\t good       & 0.49714286\\\\\n",
       "\\end{tabular}\n"
      ],
      "text/markdown": [
       "\n",
       "| Var1 | freqpercent |\n",
       "|---|---|\n",
       "| bad        | 0.45000000 |\n",
       "| good       | 0.19857143 |\n",
       "| bad        | 0.35000000 |\n",
       "| good       | 0.23428571 |\n",
       "| bad        | 0.04666667 |\n",
       "| good       | 0.07000000 |\n",
       "| bad        | 0.15333333 |\n",
       "| good       | 0.49714286 |\n",
       "\n"
      ],
      "text/plain": [
       "  Var1 freqpercent\n",
       "1 bad  0.45000000 \n",
       "2 good 0.19857143 \n",
       "3 bad  0.35000000 \n",
       "4 good 0.23428571 \n",
       "5 bad  0.04666667 \n",
       "6 good 0.07000000 \n",
       "7 bad  0.15333333 \n",
       "8 good 0.49714286 "
      ]
     },
     "metadata": {},
     "output_type": "display_data"
    },
    {
     "data": {
      "image/png": "[encoded data removed]",
      "text/plain": [
       "plot without title"
      ]
     },
     "metadata": {},
     "output_type": "display_data"
    }
   ],
   "source": [
    "grcheck.drop\n",
    "ggplot(grcheck, aes(Var1, freqpercent))+geom_bar(aes(fill=Var2), stat=\"identity\")"
   ]
  },
  {
   "cell_type": "code",
   "execution_count": 31,
   "metadata": {},
   "outputs": [],
   "source": [
    "library(plyr)\n",
    "gr.checking.mutate <- ddply(gr.checking, .(Var1), mutate, freq.sum=sum(Freq))\n",
    "\n",
    "grcheck <- ddply(gr.checking.mutate, .(Var1, Var2), summarise, freq.percent=Freq/freq.sum)"
   ]
  },
  {
   "cell_type": "code",
   "execution_count": 34,
   "metadata": {},
   "outputs": [
    {
     "data": {
      "image/png": "[encoded data removed]",
      "text/plain": [
       "plot without title"
      ]
     },
     "metadata": {},
     "output_type": "display_data"
    }
   ],
   "source": [
    "#box plot을 활용한 분포 비교\n",
    "p <- ggplot(german, aes(good.bad, age)) \n",
    "p + geom_boxplot()"
   ]
  },
  {
   "cell_type": "code",
   "execution_count": 35,
   "metadata": {},
   "outputs": [
    {
     "data": {
      "image/png": "[encoded data removed]",
      "text/plain": [
       "plot without title"
      ]
     },
     "metadata": {},
     "output_type": "display_data"
    }
   ],
   "source": [
    "p <- ggplot(german, aes(good.bad, amount)) \n",
    "p + geom_boxplot()"
   ]
  },
  {
   "cell_type": "code",
   "execution_count": 36,
   "metadata": {},
   "outputs": [
    {
     "data": {
      "image/png": "[encoded data removed]",
      "text/plain": [
       "plot without title"
      ]
     },
     "metadata": {},
     "output_type": "display_data"
    }
   ],
   "source": [
    "pp <- ggplot(german, aes(amount))\n",
    "pp + geom_density()"
   ]
  },
  {
   "cell_type": "code",
   "execution_count": 37,
   "metadata": {},
   "outputs": [
    {
     "data": {
      "image/png": "[encoded data removed]",
      "text/plain": [
       "plot without title"
      ]
     },
     "metadata": {},
     "output_type": "display_data"
    }
   ],
   "source": [
    "logpp <- ggplot(german, aes(log(amount)))\n",
    "logpp + geom_density()\n",
    "#로그변환을 통해 변환"
   ]
  },
  {
   "cell_type": "code",
   "execution_count": 38,
   "metadata": {},
   "outputs": [
    {
     "data": {
      "image/png": "[encoded data removed]",
      "text/plain": [
       "plot without title"
      ]
     },
     "metadata": {},
     "output_type": "display_data"
    }
   ],
   "source": [
    "logpp + geom_density() + facet_grid(. ~ good.bad)"
   ]
  },
  {
   "cell_type": "code",
   "execution_count": 39,
   "metadata": {},
   "outputs": [],
   "source": [
    "#dummary variable 생성\n",
    "german.savings <- german$savings\n",
    "savings.d1 <- (german.savings==\"1\" | german.savings==\"2\")*1\n",
    "savings.d2 <- (german.savings==\"3\")*1\n",
    "savings.d3 <- (german.savings==\"4\")*1"
   ]
  },
  {
   "cell_type": "code",
   "execution_count": 40,
   "metadata": {},
   "outputs": [
    {
     "data": {
      "text/html": [
       "<table>\n",
       "<thead><tr><th scope=col>savings.d1</th><th scope=col>savings.d2</th><th scope=col>savings.d3</th></tr></thead>\n",
       "<tbody>\n",
       "\t<tr><td>0</td><td>0</td><td>0</td></tr>\n",
       "\t<tr><td>1</td><td>0</td><td>0</td></tr>\n",
       "\t<tr><td>1</td><td>0</td><td>0</td></tr>\n",
       "\t<tr><td>1</td><td>0</td><td>0</td></tr>\n",
       "\t<tr><td>1</td><td>0</td><td>0</td></tr>\n",
       "\t<tr><td>0</td><td>0</td><td>0</td></tr>\n",
       "</tbody>\n",
       "</table>\n"
      ],
      "text/latex": [
       "\\begin{tabular}{lll}\n",
       " savings.d1 & savings.d2 & savings.d3\\\\\n",
       "\\hline\n",
       "\t 0 & 0 & 0\\\\\n",
       "\t 1 & 0 & 0\\\\\n",
       "\t 1 & 0 & 0\\\\\n",
       "\t 1 & 0 & 0\\\\\n",
       "\t 1 & 0 & 0\\\\\n",
       "\t 0 & 0 & 0\\\\\n",
       "\\end{tabular}\n"
      ],
      "text/markdown": [
       "\n",
       "| savings.d1 | savings.d2 | savings.d3 |\n",
       "|---|---|---|\n",
       "| 0 | 0 | 0 |\n",
       "| 1 | 0 | 0 |\n",
       "| 1 | 0 | 0 |\n",
       "| 1 | 0 | 0 |\n",
       "| 1 | 0 | 0 |\n",
       "| 0 | 0 | 0 |\n",
       "\n"
      ],
      "text/plain": [
       "     savings.d1 savings.d2 savings.d3\n",
       "[1,] 0          0          0         \n",
       "[2,] 1          0          0         \n",
       "[3,] 1          0          0         \n",
       "[4,] 1          0          0         \n",
       "[5,] 1          0          0         \n",
       "[6,] 0          0          0         "
      ]
     },
     "metadata": {},
     "output_type": "display_data"
    }
   ],
   "source": [
    "savings.dummy <- cbind(savings.d1, savings.d2, savings.d3)\n",
    "head(savings.dummy)"
   ]
  },
  {
   "cell_type": "code",
   "execution_count": 41,
   "metadata": {},
   "outputs": [],
   "source": [
    "german.checking <- german$checking\n",
    "checking.d1 <- (german.checking==\"1\")*1\n",
    "checking.d2 <- (german.checking==\"2\")*1\n",
    "checking.d3 <- (german.checking==\"3\")*1"
   ]
  },
  {
   "cell_type": "code",
   "execution_count": 42,
   "metadata": {},
   "outputs": [
    {
     "data": {
      "text/html": [
       "<table>\n",
       "<thead><tr><th scope=col>checking.d1</th><th scope=col>checking.d2</th><th scope=col>checking.d3</th></tr></thead>\n",
       "<tbody>\n",
       "\t<tr><td>1</td><td>0</td><td>0</td></tr>\n",
       "\t<tr><td>0</td><td>1</td><td>0</td></tr>\n",
       "\t<tr><td>0</td><td>0</td><td>0</td></tr>\n",
       "\t<tr><td>1</td><td>0</td><td>0</td></tr>\n",
       "\t<tr><td>1</td><td>0</td><td>0</td></tr>\n",
       "\t<tr><td>0</td><td>0</td><td>0</td></tr>\n",
       "</tbody>\n",
       "</table>\n"
      ],
      "text/latex": [
       "\\begin{tabular}{lll}\n",
       " checking.d1 & checking.d2 & checking.d3\\\\\n",
       "\\hline\n",
       "\t 1 & 0 & 0\\\\\n",
       "\t 0 & 1 & 0\\\\\n",
       "\t 0 & 0 & 0\\\\\n",
       "\t 1 & 0 & 0\\\\\n",
       "\t 1 & 0 & 0\\\\\n",
       "\t 0 & 0 & 0\\\\\n",
       "\\end{tabular}\n"
      ],
      "text/markdown": [
       "\n",
       "| checking.d1 | checking.d2 | checking.d3 |\n",
       "|---|---|---|\n",
       "| 1 | 0 | 0 |\n",
       "| 0 | 1 | 0 |\n",
       "| 0 | 0 | 0 |\n",
       "| 1 | 0 | 0 |\n",
       "| 1 | 0 | 0 |\n",
       "| 0 | 0 | 0 |\n",
       "\n"
      ],
      "text/plain": [
       "     checking.d1 checking.d2 checking.d3\n",
       "[1,] 1           0           0          \n",
       "[2,] 0           1           0          \n",
       "[3,] 0           0           0          \n",
       "[4,] 1           0           0          \n",
       "[5,] 1           0           0          \n",
       "[6,] 0           0           0          "
      ]
     },
     "metadata": {},
     "output_type": "display_data"
    }
   ],
   "source": [
    "checking.dummy <- cbind(checking.d1, checking.d2, checking.d3)\n",
    "head(checking.dummy)"
   ]
  },
  {
   "cell_type": "code",
   "execution_count": 44,
   "metadata": {},
   "outputs": [],
   "source": [
    "german.cp <- cbind(german,savings.dummy, checking.dummy) #data frame에 vector을 결합하여 만듬"
   ]
  },
  {
   "cell_type": "code",
   "execution_count": 46,
   "metadata": {},
   "outputs": [
    {
     "data": {
      "text/plain": [
       "\n",
       "Call:  glm(formula = good.bad ~ savings.d1 + savings.d2 + savings.d3 + \n",
       "    checking.d1 + checking.d2 + checking.d3, family = binomial(), \n",
       "    data = german.cp[tr.index, ])\n",
       "\n",
       "Coefficients:\n",
       "(Intercept)   savings.d1   savings.d2   savings.d3  checking.d1  checking.d2  \n",
       "     2.2694      -0.6639       0.1557       0.7121      -1.8195      -1.5109  \n",
       "checking.d3  \n",
       "    -0.6108  \n",
       "\n",
       "Degrees of Freedom: 699 Total (i.e. Null);  693 Residual\n",
       "Null Deviance:\t    879.1 \n",
       "Residual Deviance: 768.1 \tAIC: 782.1"
      ]
     },
     "metadata": {},
     "output_type": "display_data"
    }
   ],
   "source": [
    "#score 구하기\n",
    "logit.german.cp <- glm(good.bad ~ savings.d1+savings.d2+savings.d3+checking.d1+checking.d2+checking.d3, data=german.cp[tr.index, ], family=binomial())\n",
    "logit.german.cp"
   ]
  },
  {
   "cell_type": "code",
   "execution_count": 48,
   "metadata": {},
   "outputs": [
    {
     "data": {
      "text/html": [
       "<dl class=dl-horizontal>\n",
       "\t<dt>4</dt>\n",
       "\t\t<dd>-0.213960954100635</dd>\n",
       "\t<dt>5</dt>\n",
       "\t\t<dd>-0.213960954100635</dd>\n",
       "\t<dt>7</dt>\n",
       "\t\t<dd>2.42508144169011</dd>\n",
       "\t<dt>15</dt>\n",
       "\t\t<dd>-0.213960954100635</dd>\n",
       "\t<dt>17</dt>\n",
       "\t\t<dd>2.26942935589847</dd>\n",
       "\t<dt>23</dt>\n",
       "\t\t<dd>-0.213960954100635</dd>\n",
       "\t<dt>24</dt>\n",
       "\t\t<dd>0.0946781363668463</dd>\n",
       "\t<dt>28</dt>\n",
       "\t\t<dd>2.37069357273121</dd>\n",
       "\t<dt>31</dt>\n",
       "\t\t<dd>1.47062337340451</dd>\n",
       "\t<dt>33</dt>\n",
       "\t\t<dd>0.0946781363668463</dd>\n",
       "</dl>\n"
      ],
      "text/latex": [
       "\\begin{description*}\n",
       "\\item[4] -0.213960954100635\n",
       "\\item[5] -0.213960954100635\n",
       "\\item[7] 2.42508144169011\n",
       "\\item[15] -0.213960954100635\n",
       "\\item[17] 2.26942935589847\n",
       "\\item[23] -0.213960954100635\n",
       "\\item[24] 0.0946781363668463\n",
       "\\item[28] 2.37069357273121\n",
       "\\item[31] 1.47062337340451\n",
       "\\item[33] 0.0946781363668463\n",
       "\\end{description*}\n"
      ],
      "text/markdown": [
       "4\n",
       ":   -0.2139609541006355\n",
       ":   -0.2139609541006357\n",
       ":   2.4250814416901115\n",
       ":   -0.21396095410063517\n",
       ":   2.2694293558984723\n",
       ":   -0.21396095410063524\n",
       ":   0.094678136366846328\n",
       ":   2.3706935727312131\n",
       ":   1.4706233734045133\n",
       ":   0.0946781363668463\n",
       "\n"
      ],
      "text/plain": [
       "          4           5           7          15          17          23 \n",
       "-0.21396095 -0.21396095  2.42508144 -0.21396095  2.26942936 -0.21396095 \n",
       "         24          28          31          33 \n",
       " 0.09467814  2.37069357  1.47062337  0.09467814 "
      ]
     },
     "metadata": {},
     "output_type": "display_data"
    }
   ],
   "source": [
    "scr.val = predict(logit.german.cp, newdata = german.cp[-tr.index,])\n",
    "scr.val[1:10]"
   ]
  },
  {
   "cell_type": "code",
   "execution_count": 50,
   "metadata": {},
   "outputs": [
    {
     "data": {
      "text/html": [
       "<table>\n",
       "<thead><tr><th></th><th scope=col>log.odds</th><th scope=col>good.bad</th></tr></thead>\n",
       "<tbody>\n",
       "\t<tr><th scope=row>4</th><td>-0.213961</td><td>good     </td></tr>\n",
       "\t<tr><th scope=row>5</th><td>-0.213961</td><td>bad      </td></tr>\n",
       "\t<tr><th scope=row>7</th><td> 2.425081</td><td>good     </td></tr>\n",
       "\t<tr><th scope=row>15</th><td>-0.213961</td><td>good     </td></tr>\n",
       "\t<tr><th scope=row>17</th><td> 2.269429</td><td>good     </td></tr>\n",
       "\t<tr><th scope=row>23</th><td>-0.213961</td><td>good     </td></tr>\n",
       "</tbody>\n",
       "</table>\n"
      ],
      "text/latex": [
       "\\begin{tabular}{r|ll}\n",
       "  & log.odds & good.bad\\\\\n",
       "\\hline\n",
       "\t4 & -0.213961 & good     \\\\\n",
       "\t5 & -0.213961 & bad      \\\\\n",
       "\t7 &  2.425081 & good     \\\\\n",
       "\t15 & -0.213961 & good     \\\\\n",
       "\t17 &  2.269429 & good     \\\\\n",
       "\t23 & -0.213961 & good     \\\\\n",
       "\\end{tabular}\n"
      ],
      "text/markdown": [
       "\n",
       "| <!--/--> | log.odds | good.bad |\n",
       "|---|---|---|\n",
       "| 4 | -0.213961 | good      |\n",
       "| 5 | -0.213961 | bad       |\n",
       "| 7 |  2.425081 | good      |\n",
       "| 15 | -0.213961 | good      |\n",
       "| 17 |  2.269429 | good      |\n",
       "| 23 | -0.213961 | good      |\n",
       "\n"
      ],
      "text/plain": [
       "   log.odds  good.bad\n",
       "4  -0.213961 good    \n",
       "5  -0.213961 bad     \n",
       "7   2.425081 good    \n",
       "15 -0.213961 good    \n",
       "17  2.269429 good    \n",
       "23 -0.213961 good    "
      ]
     },
     "metadata": {},
     "output_type": "display_data"
    }
   ],
   "source": [
    "score.val <- data.frame(log.odds=scr.val, good.bad=german.cp[-tr.index, \"good.bad\"])\n",
    "# (1 - p) / p 를 통한 변환\n",
    "head(score.val)"
   ]
  },
  {
   "cell_type": "code",
   "execution_count": 51,
   "metadata": {},
   "outputs": [],
   "source": [
    "write.csv(score.val, \"scoreval.csv\")"
   ]
  },
  {
   "cell_type": "code",
   "execution_count": null,
   "metadata": {},
   "outputs": [],
   "source": []
  }
 ],
 "metadata": {
  "kernelspec": {
   "display_name": "R",
   "language": "R",
   "name": "ir"
  },
  "language_info": {
   "codemirror_mode": "r",
   "file_extension": ".r",
   "mimetype": "text/x-r-source",
   "name": "R",
   "pygments_lexer": "r",
   "version": "3.6.1"
  }
 },
 "nbformat": 4,
 "nbformat_minor": 4
}
