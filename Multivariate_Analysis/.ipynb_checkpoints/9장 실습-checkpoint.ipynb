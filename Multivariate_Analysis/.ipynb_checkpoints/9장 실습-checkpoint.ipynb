{
 "cells": [
  {
   "cell_type": "code",
   "execution_count": 2,
   "metadata": {},
   "outputs": [
    {
     "name": "stderr",
     "output_type": "stream",
     "text": [
      "Installing package into 'C:/Users/Youngju Hong/Documents/R/win-library/3.6'\n",
      "(as 'lib' is unspecified)\n"
     ]
    },
    {
     "name": "stdout",
     "output_type": "stream",
     "text": [
      "package 'Flury' successfully unpacked and MD5 sums checked\n",
      "\n",
      "The downloaded binary packages are in\n",
      "\tC:\\Users\\Youngju Hong\\AppData\\Local\\Temp\\RtmpWa5oBM\\downloaded_packages\n",
      "'data.frame':\t28 obs. of  4 variables:\n",
      " $ North: int  72 60 56 41 32 30 39 42 37 33 ...\n",
      " $ East : int  66 53 57 29 32 35 39 43 40 29 ...\n",
      " $ South: int  76 66 64 36 35 34 31 31 31 27 ...\n",
      " $ West : int  77 63 58 38 36 26 27 25 25 36 ...\n"
     ]
    }
   ],
   "source": [
    "install.packages(\"Flury\")\n",
    "library(Flury)\n",
    "data(cork)\n",
    "str(cork)"
   ]
  },
  {
   "cell_type": "code",
   "execution_count": 7,
   "metadata": {},
   "outputs": [
    {
     "data": {
      "text/html": [
       "<dl class=dl-horizontal>\n",
       "\t<dt>North</dt>\n",
       "\t\t<dd>50.5357142857143</dd>\n",
       "\t<dt>East</dt>\n",
       "\t\t<dd>46.1785714285714</dd>\n",
       "\t<dt>South</dt>\n",
       "\t\t<dd>49.6785714285714</dd>\n",
       "\t<dt>West</dt>\n",
       "\t\t<dd>45.1785714285714</dd>\n",
       "</dl>\n"
      ],
      "text/latex": [
       "\\begin{description*}\n",
       "\\item[North] 50.5357142857143\n",
       "\\item[East] 46.1785714285714\n",
       "\\item[South] 49.6785714285714\n",
       "\\item[West] 45.1785714285714\n",
       "\\end{description*}\n"
      ],
      "text/markdown": [
       "North\n",
       ":   50.5357142857143East\n",
       ":   46.1785714285714South\n",
       ":   49.6785714285714West\n",
       ":   45.1785714285714\n",
       "\n"
      ],
      "text/plain": [
       "   North     East    South     West \n",
       "50.53571 46.17857 49.67857 45.17857 "
      ]
     },
     "metadata": {},
     "output_type": "display_data"
    },
    {
     "data": {
      "text/html": [
       "<table>\n",
       "<tbody>\n",
       "\t<tr><td>20.74202</td></tr>\n",
       "</tbody>\n",
       "</table>\n"
      ],
      "text/latex": [
       "\\begin{tabular}{l}\n",
       "\t 20.74202\\\\\n",
       "\\end{tabular}\n"
      ],
      "text/markdown": [
       "\n",
       "| 20.74202 |\n",
       "\n"
      ],
      "text/plain": [
       "     [,1]    \n",
       "[1,] 20.74202"
      ]
     },
     "metadata": {},
     "output_type": "display_data"
    }
   ],
   "source": [
    "n = nrow(cork)\n",
    "A = matrix(c(1,-1,0,0,\n",
    "             0,1,-1,0,\n",
    "             0,0,1,-1), nrow = 3, byrow = T)\n",
    "\n",
    "xbar = apply(cork, 2, mean)\n",
    "xbar #열벡터에 대한 평균\n",
    "\n",
    "b = rep(0, 3)\n",
    "S = cov(cork)\n",
    "\n",
    "T2.0 = n * t(A %*% xbar - b) %*% solve(A %*% S %*% t(A)) %*% (A %*% xbar - b)\n",
    "T2.0"
   ]
  },
  {
   "cell_type": "code",
   "execution_count": 9,
   "metadata": {},
   "outputs": [
    {
     "data": {
      "text/html": [
       "<table>\n",
       "<tbody>\n",
       "\t<tr><td>6.401857</td></tr>\n",
       "</tbody>\n",
       "</table>\n"
      ],
      "text/latex": [
       "\\begin{tabular}{l}\n",
       "\t 6.401857\\\\\n",
       "\\end{tabular}\n"
      ],
      "text/markdown": [
       "\n",
       "| 6.401857 |\n",
       "\n"
      ],
      "text/plain": [
       "     [,1]    \n",
       "[1,] 6.401857"
      ]
     },
     "metadata": {},
     "output_type": "display_data"
    },
    {
     "data": {
      "text/html": [
       "2.99124090954995"
      ],
      "text/latex": [
       "2.99124090954995"
      ],
      "text/markdown": [
       "2.99124090954995"
      ],
      "text/plain": [
       "[1] 2.991241"
      ]
     },
     "metadata": {},
     "output_type": "display_data"
    }
   ],
   "source": [
    "q = 3\n",
    "F_0 = ( (n-q) / (q * (n-1))) * T2.0\n",
    "F_0\n",
    "\n",
    "qf(0.05, q, n-q, lower.tail = FALSE) #임계값: 2.99124\n",
    "\n",
    "#lower.tail = TRUE일 경우 왼쪽꼬리확률 산출\n",
    "#귀무가설을 기각함"
   ]
  },
  {
   "cell_type": "code",
   "execution_count": 11,
   "metadata": {},
   "outputs": [
    {
     "data": {
      "text/html": [
       "<table>\n",
       "<tbody>\n",
       "\t<tr><td>0.002034908</td></tr>\n",
       "</tbody>\n",
       "</table>\n"
      ],
      "text/latex": [
       "\\begin{tabular}{l}\n",
       "\t 0.002034908\\\\\n",
       "\\end{tabular}\n"
      ],
      "text/markdown": [
       "\n",
       "| 0.002034908 |\n",
       "\n"
      ],
      "text/plain": [
       "     [,1]       \n",
       "[1,] 0.002034908"
      ]
     },
     "metadata": {},
     "output_type": "display_data"
    }
   ],
   "source": [
    "#유의확률 계산\n",
    "\n",
    "pf (F_0, q, n-1, lower.tail = F) #p-value"
   ]
  },
  {
   "cell_type": "code",
   "execution_count": 12,
   "metadata": {},
   "outputs": [
    {
     "data": {
      "text/html": [
       "<table>\n",
       "<tbody>\n",
       "\t<tr><td>0.9053635</td></tr>\n",
       "</tbody>\n",
       "</table>\n"
      ],
      "text/latex": [
       "\\begin{tabular}{l}\n",
       "\t 0.9053635\\\\\n",
       "\\end{tabular}\n"
      ],
      "text/markdown": [
       "\n",
       "| 0.9053635 |\n",
       "\n"
      ],
      "text/plain": [
       "     [,1]     \n",
       "[1,] 0.9053635"
      ]
     },
     "metadata": {},
     "output_type": "display_data"
    },
    {
     "data": {
      "text/html": [
       "<table>\n",
       "<tbody>\n",
       "\t<tr><td>0.2794332</td></tr>\n",
       "</tbody>\n",
       "</table>\n"
      ],
      "text/latex": [
       "\\begin{tabular}{l}\n",
       "\t 0.2794332\\\\\n",
       "\\end{tabular}\n"
      ],
      "text/markdown": [
       "\n",
       "| 0.2794332 |\n",
       "\n"
      ],
      "text/plain": [
       "     [,1]     \n",
       "[1,] 0.2794332"
      ]
     },
     "metadata": {},
     "output_type": "display_data"
    }
   ],
   "source": [
    "#2번\n",
    "\n",
    "A = diag(4) #항등행렬\n",
    "b = c(50,45,50,45)\n",
    "S = cov(cork)\n",
    "\n",
    "T2.0 = n * t(A %*% xbar - b) %*% solve(A %*% S %*% t(A)) %*% (A %*% xbar - b)\n",
    "T2.0\n",
    "\n",
    "F_0 = ( (n-q) / (q * (n-1))) * T2.0\n",
    "F_0"
   ]
  },
  {
   "cell_type": "code",
   "execution_count": 14,
   "metadata": {},
   "outputs": [
    {
     "data": {
      "text/html": [
       "2.99124090954995"
      ],
      "text/latex": [
       "2.99124090954995"
      ],
      "text/markdown": [
       "2.99124090954995"
      ],
      "text/plain": [
       "[1] 2.991241"
      ]
     },
     "metadata": {},
     "output_type": "display_data"
    }
   ],
   "source": [
    "qf(0.05, q, n-q, lower.tail = FALSE) #임계값: 2.99124\n",
    "\n",
    "#귀무가설을 기각할 수 없다."
   ]
  },
  {
   "cell_type": "code",
   "execution_count": 15,
   "metadata": {},
   "outputs": [],
   "source": [
    "#3번\n",
    "\n",
    "x = as.matrix(cork)\n",
    "n = nrow(x)\n",
    "p = ncol(x)\n",
    "A = matrix( c(1, -1, 0, 0,\n",
    "             0, 1, -1, 0,\n",
    "             0, 0, 1, -1), nrow = 3, ncol = 4, byrow = T)\n",
    "b = rep(0, 3)\n",
    "\n",
    "Ax = A %*% t(x)\n",
    "\n",
    "temp1 = apply(t(Ax-b), 1, function(a) a %*% t(a))\n",
    "num = det(matrix(apply(temp1, 1, sum) / n, ncol = nrow(A)))\n",
    "Chisq1 = n * log(num)"
   ]
  },
  {
   "cell_type": "code",
   "execution_count": 16,
   "metadata": {},
   "outputs": [
    {
     "data": {
      "text/html": [
       "15.9593005982125"
      ],
      "text/latex": [
       "15.9593005982125"
      ],
      "text/markdown": [
       "15.9593005982125"
      ],
      "text/plain": [
       "[1] 15.9593"
      ]
     },
     "metadata": {},
     "output_type": "display_data"
    }
   ],
   "source": [
    "xbar = apply(x,2,mean)\n",
    "Axbar = A %*% xbar\n",
    "temp2 = apply(t(Ax - as.vector(Axbar)), 1, function(a) a %*% t(a))\n",
    "den = det(matrix(apply(temp2, 1, sum) / n, ncol = nrow(A)))\n",
    "Chisq2 = n * log(den)\n",
    "              \n",
    "Chisq0 = Chisq1 - Chisq2\n",
    "Chisq0"
   ]
  },
  {
   "cell_type": "code",
   "execution_count": 17,
   "metadata": {},
   "outputs": [
    {
     "data": {
      "text/html": [
       "9.48772903678115"
      ],
      "text/latex": [
       "9.48772903678115"
      ],
      "text/markdown": [
       "9.48772903678115"
      ],
      "text/plain": [
       "[1] 9.487729"
      ]
     },
     "metadata": {},
     "output_type": "display_data"
    }
   ],
   "source": [
    "qchisq(0.05, 4, lower.tail = FALSE) #귀무가설 기각"
   ]
  },
  {
   "cell_type": "code",
   "execution_count": 30,
   "metadata": {},
   "outputs": [
    {
     "data": {
      "text/html": [
       "0.905363526923847"
      ],
      "text/latex": [
       "0.905363526923847"
      ],
      "text/markdown": [
       "0.905363526923847"
      ],
      "text/plain": [
       "[1] 0.9053635"
      ]
     },
     "metadata": {},
     "output_type": "display_data"
    }
   ],
   "source": [
    "LR = exp(-Chisq0 / 2)\n",
    "Wilks_lambda = LR^(2/n)\n",
    "T2.0 = (n-1) * ((1 - Wilks_lambda) / Wilks_lambda)\n",
    "T2.0"
   ]
  },
  {
   "cell_type": "code",
   "execution_count": 25,
   "metadata": {},
   "outputs": [],
   "source": [
    "# 3-2\n",
    "\n",
    "A = diag(4)\n",
    "b = rep(c(50,45), 2)\n",
    "Ax = A %*% t(x)\n",
    "\n",
    "temp1 =apply( t(Ax - b), 1, function(a) a %*% t(a) )"
   ]
  },
  {
   "cell_type": "code",
   "execution_count": 26,
   "metadata": {},
   "outputs": [
    {
     "data": {
      "text/html": [
       "0.923497272751717"
      ],
      "text/latex": [
       "0.923497272751717"
      ],
      "text/markdown": [
       "0.923497272751717"
      ],
      "text/plain": [
       "[1] 0.9234973"
      ]
     },
     "metadata": {},
     "output_type": "display_data"
    }
   ],
   "source": [
    "num = det(matrix(apply(temp1, 1, sum) / n, ncol = nrow(A)))\n",
    "Chisq1 = n * log(num)\n",
    "xbar = apply(x, 2, mean)\n",
    "Axbar = A %*% xbar\n",
    "temp2 = apply( t(Ax - as.vector(Axbar)), 1, function(a) a %*% t(a))\n",
    "den = det(matrix(apply(temp2, 1, sum) / n, ncol = nrow(A)))\n",
    "Chisq2 = n * log(den)\n",
    "              \n",
    "              Chisq0 = Chisq1 - Chisq2\n",
    "              Chisq0"
   ]
  },
  {
   "cell_type": "code",
   "execution_count": 28,
   "metadata": {},
   "outputs": [
    {
     "data": {
      "text/html": [
       "9.48772903678115"
      ],
      "text/latex": [
       "9.48772903678115"
      ],
      "text/markdown": [
       "9.48772903678115"
      ],
      "text/plain": [
       "[1] 9.487729"
      ]
     },
     "metadata": {},
     "output_type": "display_data"
    }
   ],
   "source": [
    "qchisq(0.05, 4, lower.tail = FALSE)\n",
    "#귀무가설을 기각하지 않음"
   ]
  },
  {
   "cell_type": "code",
   "execution_count": 29,
   "metadata": {},
   "outputs": [
    {
     "data": {
      "text/html": [
       "0.905363526923847"
      ],
      "text/latex": [
       "0.905363526923847"
      ],
      "text/markdown": [
       "0.905363526923847"
      ],
      "text/plain": [
       "[1] 0.9053635"
      ]
     },
     "metadata": {},
     "output_type": "display_data"
    }
   ],
   "source": [
    "LR = exp (-Chisq0 / 2)\n",
    "Wilks_lambda = LR^(2/n)\n",
    "T2.0 = (n-1) * ((1 - Wilks_lambda) / Wilks_lambda)\n",
    "T2.0"
   ]
  },
  {
   "cell_type": "code",
   "execution_count": 31,
   "metadata": {},
   "outputs": [],
   "source": [
    "#4번\n",
    "\n",
    "headsize = read.csv(file.choose()) #headsize.csv\n"
   ]
  },
  {
   "cell_type": "code",
   "execution_count": 32,
   "metadata": {},
   "outputs": [
    {
     "name": "stdout",
     "output_type": "stream",
     "text": [
      "'data.frame':\t25 obs. of  4 variables:\n",
      " $ Length1 : int  191 195 181 183 176 208 189 197 188 192 ...\n",
      " $ Breadth1: int  155 149 148 153 144 157 150 159 152 150 ...\n",
      " $ Length2 : int  179 201 185 188 171 192 192 189 197 187 ...\n",
      " $ Breadth2: int  145 152 149 149 142 152 149 152 159 151 ...\n"
     ]
    }
   ],
   "source": [
    "str(headsize)"
   ]
  },
  {
   "cell_type": "code",
   "execution_count": 34,
   "metadata": {},
   "outputs": [
    {
     "data": {
      "text/html": [
       "<dl class=dl-horizontal>\n",
       "\t<dt>Length1</dt>\n",
       "\t\t<dd>185.72</dd>\n",
       "\t<dt>Breadth1</dt>\n",
       "\t\t<dd>151.12</dd>\n",
       "\t<dt>Length2</dt>\n",
       "\t\t<dd>183.92</dd>\n",
       "\t<dt>Breadth2</dt>\n",
       "\t\t<dd>149.24</dd>\n",
       "</dl>\n"
      ],
      "text/latex": [
       "\\begin{description*}\n",
       "\\item[Length1] 185.72\n",
       "\\item[Breadth1] 151.12\n",
       "\\item[Length2] 183.92\n",
       "\\item[Breadth2] 149.24\n",
       "\\end{description*}\n"
      ],
      "text/markdown": [
       "Length1\n",
       ":   185.72Breadth1\n",
       ":   151.12Length2\n",
       ":   183.92Breadth2\n",
       ":   149.24\n",
       "\n"
      ],
      "text/plain": [
       " Length1 Breadth1  Length2 Breadth2 \n",
       "  185.72   151.12   183.92   149.24 "
      ]
     },
     "metadata": {},
     "output_type": "display_data"
    },
    {
     "data": {
      "text/html": [
       "<table>\n",
       "<tbody>\n",
       "\t<tr><td>3.519536</td></tr>\n",
       "</tbody>\n",
       "</table>\n"
      ],
      "text/latex": [
       "\\begin{tabular}{l}\n",
       "\t 3.519536\\\\\n",
       "\\end{tabular}\n"
      ],
      "text/markdown": [
       "\n",
       "| 3.519536 |\n",
       "\n"
      ],
      "text/plain": [
       "     [,1]    \n",
       "[1,] 3.519536"
      ]
     },
     "metadata": {},
     "output_type": "display_data"
    }
   ],
   "source": [
    "n = nrow(headsize)\n",
    "A = matrix(c(1, 0, -1, 0,\n",
    "            0, 1, 0, -1), nrow = 2, ncol = 4, byrow = T)\n",
    "\n",
    "xbar = apply(headsize, 2, mean)\n",
    "xbar #열벡터에 대한 평균\n",
    "\n",
    "b = rep(0, 2)\n",
    "S = cov(headsize)\n",
    "\n",
    "T2.0 = n * t(A %*% xbar - b) %*% solve(A %*% S %*% t(A)) %*% (A %*% xbar - b)\n",
    "T2.0"
   ]
  },
  {
   "cell_type": "code",
   "execution_count": 35,
   "metadata": {},
   "outputs": [
    {
     "data": {
      "text/html": [
       "<table>\n",
       "<tbody>\n",
       "\t<tr><td>1.686444</td></tr>\n",
       "</tbody>\n",
       "</table>\n"
      ],
      "text/latex": [
       "\\begin{tabular}{l}\n",
       "\t 1.686444\\\\\n",
       "\\end{tabular}\n"
      ],
      "text/markdown": [
       "\n",
       "| 1.686444 |\n",
       "\n"
      ],
      "text/plain": [
       "     [,1]    \n",
       "[1,] 1.686444"
      ]
     },
     "metadata": {},
     "output_type": "display_data"
    }
   ],
   "source": [
    "q = 2\n",
    "F_0 = ((n-q)/(q*(n-1))) * T2.0\n",
    "F_0"
   ]
  },
  {
   "cell_type": "code",
   "execution_count": 38,
   "metadata": {},
   "outputs": [
    {
     "data": {
      "text/html": [
       "3.4028261053502"
      ],
      "text/latex": [
       "3.4028261053502"
      ],
      "text/markdown": [
       "3.4028261053502"
      ],
      "text/plain": [
       "[1] 3.402826"
      ]
     },
     "metadata": {},
     "output_type": "display_data"
    }
   ],
   "source": [
    "qf(0.05, q, n-1, lower.tail = FALSE)"
   ]
  },
  {
   "cell_type": "code",
   "execution_count": null,
   "metadata": {},
   "outputs": [],
   "source": [
    "#가능도비 검정\n"
   ]
  }
 ],
 "metadata": {
  "kernelspec": {
   "display_name": "R",
   "language": "R",
   "name": "ir"
  },
  "language_info": {
   "codemirror_mode": "r",
   "file_extension": ".r",
   "mimetype": "text/x-r-source",
   "name": "R",
   "pygments_lexer": "r",
   "version": "3.6.1"
  }
 },
 "nbformat": 4,
 "nbformat_minor": 4
}
