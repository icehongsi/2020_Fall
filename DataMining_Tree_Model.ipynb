{
 "cells": [
  {
   "cell_type": "code",
   "execution_count": 1,
   "metadata": {},
   "outputs": [
    {
     "name": "stderr",
     "output_type": "stream",
     "text": [
      "Warning message:\n",
      "\"package 'rpart' was built under R version 3.6.3\""
     ]
    },
    {
     "name": "stdout",
     "output_type": "stream",
     "text": [
      "'data.frame':\t81 obs. of  4 variables:\n",
      " $ Kyphosis: Factor w/ 2 levels \"absent\",\"present\": 1 1 2 1 1 1 1 1 1 2 ...\n",
      " $ Age     : int  71 158 128 2 1 1 61 37 113 59 ...\n",
      " $ Number  : int  3 3 4 5 4 2 2 3 2 6 ...\n",
      " $ Start   : int  5 14 5 1 15 16 17 16 16 12 ...\n"
     ]
    }
   ],
   "source": [
    "library(rpart)\n",
    "str(kyphosis)"
   ]
  },
  {
   "cell_type": "code",
   "execution_count": 2,
   "metadata": {},
   "outputs": [
    {
     "data": {
      "text/plain": [
       "n= 81 \n",
       "\n",
       "node), split, n, loss, yval, (yprob)\n",
       "      * denotes terminal node\n",
       "\n",
       " 1) root 81 17 absent (0.79012346 0.20987654)  \n",
       "   2) Start>=8.5 62  6 absent (0.90322581 0.09677419)  \n",
       "     4) Start>=14.5 29  0 absent (1.00000000 0.00000000) *\n",
       "     5) Start< 14.5 33  6 absent (0.81818182 0.18181818)  \n",
       "      10) Age< 55 12  0 absent (1.00000000 0.00000000) *\n",
       "      11) Age>=55 21  6 absent (0.71428571 0.28571429)  \n",
       "        22) Age>=111 14  2 absent (0.85714286 0.14285714) *\n",
       "        23) Age< 111 7  3 present (0.42857143 0.57142857) *\n",
       "   3) Start< 8.5 19  8 present (0.42105263 0.57894737) *"
      ]
     },
     "metadata": {},
     "output_type": "display_data"
    },
    {
     "data": {
      "image/png": "[encoded data removed]",
      "text/plain": [
       "plot without title"
      ]
     },
     "metadata": {},
     "output_type": "display_data"
    }
   ],
   "source": [
    "kyphosis.tr = rpart(Kyphosis ~ ., kyphosis)\n",
    "kyphosis.tr\n",
    "plot(kyphosis.tr) #나무 모형\n",
    "text(kyphosis.tr) #어떻게 분리되어 나무모형이 형성되었는지 설명"
   ]
  },
  {
   "cell_type": "markdown",
   "metadata": {},
   "source": [
    "n= 81 \n",
    "\n",
    "node), split, n, loss, yval, (yprob)\n",
    "      * denotes terminal node\n",
    "-absent일 경우 absent가 주요 요소임을 의미\n",
    "-terminal node는 *로 표시됨*\n",
    " 1) root 81 17 absent (0.79012346 0.20987654)  \n",
    "   2) Start>=8.5 62  6 absent (0.90322581 0.09677419)  \n",
    "     4) Start>=14.5 29  0 absent (1.00000000 0.00000000) *\n",
    "     5) Start< 14.5 33  6 absent (0.81818182 0.18181818)  \n",
    "      10) Age< 55 12  0 absent (1.00000000 0.00000000) *\n",
    "      11) Age>=55 21  6 absent (0.71428571 0.28571429)  \n",
    "        22) Age>=111 14  2 absent (0.85714286 0.14285714) *\n",
    "        23) Age< 111 7  3 present (0.42857143 0.57142857) *\n",
    "   3) Start< 8.5 19  8 present (0.42105263 0.57894737) *\n",
    "\n",
    "- Heap과 같이 분리됨\n",
    "- 폭이 짧을수록 split이 더 잘 이루어지지 않았음을 의미"
   ]
  },
  {
   "cell_type": "code",
   "execution_count": 5,
   "metadata": {},
   "outputs": [
    {
     "data": {
      "text/html": [
       "'rpart'"
      ],
      "text/latex": [
       "'rpart'"
      ],
      "text/markdown": [
       "'rpart'"
      ],
      "text/plain": [
       "[1] \"rpart\""
      ]
     },
     "metadata": {},
     "output_type": "display_data"
    },
    {
     "name": "stdout",
     "output_type": "stream",
     "text": [
      "Call:\n",
      "rpart(formula = Kyphosis ~ ., data = kyphosis)\n",
      "  n= 81 \n",
      "\n",
      "          CP nsplit rel error   xerror      xstd\n",
      "1 0.17647059      0 1.0000000 1.000000 0.2155872\n",
      "2 0.01960784      1 0.8235294 1.117647 0.2243268\n",
      "3 0.01000000      4 0.7647059 1.117647 0.2243268\n",
      "\n",
      "Variable importance\n",
      " Start    Age Number \n",
      "    64     24     12 \n",
      "\n",
      "Node number 1: 81 observations,    complexity param=0.1764706\n",
      "  predicted class=absent   expected loss=0.2098765  P(node) =1\n",
      "    class counts:    64    17\n",
      "   probabilities: 0.790 0.210 \n",
      "  left son=2 (62 obs) right son=3 (19 obs)\n",
      "  Primary splits:\n",
      "      Start  < 8.5  to the right, improve=6.762330, (0 missing)\n",
      "      Number < 5.5  to the left,  improve=2.866795, (0 missing)\n",
      "      Age    < 39.5 to the left,  improve=2.250212, (0 missing)\n",
      "  Surrogate splits:\n",
      "      Number < 6.5  to the left,  agree=0.802, adj=0.158, (0 split)\n",
      "\n",
      "Node number 2: 62 observations,    complexity param=0.01960784\n",
      "  predicted class=absent   expected loss=0.09677419  P(node) =0.7654321\n",
      "    class counts:    56     6\n",
      "   probabilities: 0.903 0.097 \n",
      "  left son=4 (29 obs) right son=5 (33 obs)\n",
      "  Primary splits:\n",
      "      Start  < 14.5 to the right, improve=1.0205280, (0 missing)\n",
      "      Age    < 55   to the left,  improve=0.6848635, (0 missing)\n",
      "      Number < 4.5  to the left,  improve=0.2975332, (0 missing)\n",
      "  Surrogate splits:\n",
      "      Number < 3.5  to the left,  agree=0.645, adj=0.241, (0 split)\n",
      "      Age    < 16   to the left,  agree=0.597, adj=0.138, (0 split)\n",
      "\n",
      "Node number 3: 19 observations\n",
      "  predicted class=present  expected loss=0.4210526  P(node) =0.2345679\n",
      "    class counts:     8    11\n",
      "   probabilities: 0.421 0.579 \n",
      "\n",
      "Node number 4: 29 observations\n",
      "  predicted class=absent   expected loss=0  P(node) =0.3580247\n",
      "    class counts:    29     0\n",
      "   probabilities: 1.000 0.000 \n",
      "\n",
      "Node number 5: 33 observations,    complexity param=0.01960784\n",
      "  predicted class=absent   expected loss=0.1818182  P(node) =0.4074074\n",
      "    class counts:    27     6\n",
      "   probabilities: 0.818 0.182 \n",
      "  left son=10 (12 obs) right son=11 (21 obs)\n",
      "  Primary splits:\n",
      "      Age    < 55   to the left,  improve=1.2467530, (0 missing)\n",
      "      Start  < 12.5 to the right, improve=0.2887701, (0 missing)\n",
      "      Number < 3.5  to the right, improve=0.1753247, (0 missing)\n",
      "  Surrogate splits:\n",
      "      Start  < 9.5  to the left,  agree=0.758, adj=0.333, (0 split)\n",
      "      Number < 5.5  to the right, agree=0.697, adj=0.167, (0 split)\n",
      "\n",
      "Node number 10: 12 observations\n",
      "  predicted class=absent   expected loss=0  P(node) =0.1481481\n",
      "    class counts:    12     0\n",
      "   probabilities: 1.000 0.000 \n",
      "\n",
      "Node number 11: 21 observations,    complexity param=0.01960784\n",
      "  predicted class=absent   expected loss=0.2857143  P(node) =0.2592593\n",
      "    class counts:    15     6\n",
      "   probabilities: 0.714 0.286 \n",
      "  left son=22 (14 obs) right son=23 (7 obs)\n",
      "  Primary splits:\n",
      "      Age    < 111  to the right, improve=1.71428600, (0 missing)\n",
      "      Start  < 12.5 to the right, improve=0.79365080, (0 missing)\n",
      "      Number < 3.5  to the right, improve=0.07142857, (0 missing)\n",
      "\n",
      "Node number 22: 14 observations\n",
      "  predicted class=absent   expected loss=0.1428571  P(node) =0.1728395\n",
      "    class counts:    12     2\n",
      "   probabilities: 0.857 0.143 \n",
      "\n",
      "Node number 23: 7 observations\n",
      "  predicted class=present  expected loss=0.4285714  P(node) =0.08641975\n",
      "    class counts:     3     4\n",
      "   probabilities: 0.429 0.571 \n",
      "\n"
     ]
    }
   ],
   "source": [
    "class(kyphosis.tr)\n",
    "summary(kyphosis.tr)"
   ]
  },
  {
   "cell_type": "markdown",
   "metadata": {},
   "source": [
    "cross validation: 에러를 측정하기 좋은 방법\n",
    "\n",
    "          CP nsplit rel error   xerror      xstd\n",
    "1 0.17647059      0 1.0000000 1.000000 0.2155872\n",
    "2 0.01960784      1 0.8235294 1.117647 0.2243268\n",
    "3 0.01000000      4 0.7647059 1.117647 0.2243268\n",
    "\n",
    "CP >> Cost Complexity\n",
    "Rel Error >> Tree가 복잡해질수록 커짐\n",
    "\n",
    "Variable importance\n",
    " Start    Age Number \n",
    "    64     24     12 \n",
    "\n",
    "Age가 Number보다 두 배 중요함\n",
    "\n",
    "Node number 1: 81 observations,    complexity param=0.1764706\n",
    "\n",
    "  predicted class=absent   expected loss=0.2098765  P(node) =1\n",
    "    class counts:    64    17\n",
    "   probabilities: 0.790 0.210 \n",
    "  left son=2 (62 obs) right son=3 (19 obs)\n",
    "  Primary splits:\n",
    "      Start  < 8.5  to the right, improve=6.762330, (0 missing)\n",
    "      Number < 5.5  to the left,  improve=2.866795, (0 missing)\n",
    "      Age    < 39.5 to the left,  improve=2.250212, (0 missing)\n",
    "  \n",
    "각 변수를 어디서 split해야 impurity가 감소하는가?\n",
    "\n",
    "Surrogate splits:\n",
    "      Number < 6.5  to the left,  agree=0.802, adj=0.158, (0 split)"
   ]
  },
  {
   "cell_type": "code",
   "execution_count": 7,
   "metadata": {},
   "outputs": [
    {
     "name": "stderr",
     "output_type": "stream",
     "text": [
      "Installing package into 'C:/Users/Youngju Hong/Documents/R/win-library/3.6'\n",
      "(as 'lib' is unspecified)\n"
     ]
    },
    {
     "name": "stdout",
     "output_type": "stream",
     "text": [
      "package 'tree' successfully unpacked and MD5 sums checked\n",
      "\n",
      "The downloaded binary packages are in\n",
      "\tC:\\Users\\Youngju Hong\\AppData\\Local\\Temp\\RtmpiK6D6x\\downloaded_packages\n"
     ]
    },
    {
     "name": "stderr",
     "output_type": "stream",
     "text": [
      "Warning message:\n",
      "\"package 'tree' was built under R version 3.6.3\""
     ]
    }
   ],
   "source": [
    "install.packages(\"tree\")\n",
    "library(tree)"
   ]
  },
  {
   "cell_type": "code",
   "execution_count": 8,
   "metadata": {},
   "outputs": [
    {
     "data": {
      "text/plain": [
       "node), split, n, deviance, yval, (yprob)\n",
       "      * denotes terminal node\n",
       "\n",
       " 1) root 81 83.230 absent ( 0.79012 0.20988 )  \n",
       "   2) Start < 12.5 35 47.800 absent ( 0.57143 0.42857 )  \n",
       "     4) Age < 34.5 10  6.502 absent ( 0.90000 0.10000 )  \n",
       "       8) Age < 16 5  5.004 absent ( 0.80000 0.20000 ) *\n",
       "       9) Age > 16 5  0.000 absent ( 1.00000 0.00000 ) *\n",
       "     5) Age > 34.5 25 34.300 present ( 0.44000 0.56000 )  \n",
       "      10) Number < 4.5 12 16.300 absent ( 0.58333 0.41667 )  \n",
       "        20) Age < 127.5 7  8.376 absent ( 0.71429 0.28571 ) *\n",
       "        21) Age > 127.5 5  6.730 present ( 0.40000 0.60000 ) *\n",
       "      11) Number > 4.5 13 16.050 present ( 0.30769 0.69231 )  \n",
       "        22) Start < 8.5 8  6.028 present ( 0.12500 0.87500 ) *\n",
       "        23) Start > 8.5 5  6.730 absent ( 0.60000 0.40000 ) *\n",
       "   3) Start > 12.5 46 16.450 absent ( 0.95652 0.04348 )  \n",
       "     6) Start < 14.5 17 12.320 absent ( 0.88235 0.11765 )  \n",
       "      12) Age < 59 5  0.000 absent ( 1.00000 0.00000 ) *\n",
       "      13) Age > 59 12 10.810 absent ( 0.83333 0.16667 )  \n",
       "        26) Age < 157.5 7  8.376 absent ( 0.71429 0.28571 ) *\n",
       "        27) Age > 157.5 5  0.000 absent ( 1.00000 0.00000 ) *\n",
       "     7) Start > 14.5 29  0.000 absent ( 1.00000 0.00000 ) *"
      ]
     },
     "metadata": {},
     "output_type": "display_data"
    }
   ],
   "source": [
    "ky.tree = tree(Kyphosis ~., data = kyphosis)\n",
    "ky.tree"
   ]
  },
  {
   "cell_type": "code",
   "execution_count": 12,
   "metadata": {},
   "outputs": [
    {
     "data": {
      "text/plain": [
       "\n",
       "Classification tree:\n",
       "tree(formula = Kyphosis ~ ., data = kyphosis)\n",
       "Number of terminal nodes:  10 \n",
       "Residual mean deviance:  0.5809 = 41.24 / 71 \n",
       "Misclassification error rate: 0.1235 = 10 / 81 "
      ]
     },
     "metadata": {},
     "output_type": "display_data"
    },
    {
     "data": {
      "text/html": [
       "<dl>\n",
       "\t<dt>$names</dt>\n",
       "\t\t<dd><ol class=list-inline>\n",
       "\t<li>'frame'</li>\n",
       "\t<li>'where'</li>\n",
       "\t<li>'call'</li>\n",
       "\t<li>'terms'</li>\n",
       "\t<li>'cptable'</li>\n",
       "\t<li>'method'</li>\n",
       "\t<li>'parms'</li>\n",
       "\t<li>'control'</li>\n",
       "\t<li>'functions'</li>\n",
       "\t<li>'numresp'</li>\n",
       "\t<li>'splits'</li>\n",
       "\t<li>'variable.importance'</li>\n",
       "\t<li>'y'</li>\n",
       "\t<li>'ordered'</li>\n",
       "</ol>\n",
       "</dd>\n",
       "\t<dt>$xlevels</dt>\n",
       "\t\t<dd><dl>\n",
       "</dl>\n",
       "</dd>\n",
       "\t<dt>$ylevels</dt>\n",
       "\t\t<dd><ol class=list-inline>\n",
       "\t<li>'absent'</li>\n",
       "\t<li>'present'</li>\n",
       "</ol>\n",
       "</dd>\n",
       "\t<dt>$class</dt>\n",
       "\t\t<dd>'rpart'</dd>\n",
       "</dl>\n"
      ],
      "text/latex": [
       "\\begin{description}\n",
       "\\item[\\$names] \\begin{enumerate*}\n",
       "\\item 'frame'\n",
       "\\item 'where'\n",
       "\\item 'call'\n",
       "\\item 'terms'\n",
       "\\item 'cptable'\n",
       "\\item 'method'\n",
       "\\item 'parms'\n",
       "\\item 'control'\n",
       "\\item 'functions'\n",
       "\\item 'numresp'\n",
       "\\item 'splits'\n",
       "\\item 'variable.importance'\n",
       "\\item 'y'\n",
       "\\item 'ordered'\n",
       "\\end{enumerate*}\n",
       "\n",
       "\\item[\\$xlevels] \\begin{description}\n",
       "\\end{description}\n",
       "\n",
       "\\item[\\$ylevels] \\begin{enumerate*}\n",
       "\\item 'absent'\n",
       "\\item 'present'\n",
       "\\end{enumerate*}\n",
       "\n",
       "\\item[\\$class] 'rpart'\n",
       "\\end{description}\n"
      ],
      "text/markdown": [
       "$names\n",
       ":   1. 'frame'\n",
       "2. 'where'\n",
       "3. 'call'\n",
       "4. 'terms'\n",
       "5. 'cptable'\n",
       "6. 'method'\n",
       "7. 'parms'\n",
       "8. 'control'\n",
       "9. 'functions'\n",
       "10. 'numresp'\n",
       "11. 'splits'\n",
       "12. 'variable.importance'\n",
       "13. 'y'\n",
       "14. 'ordered'\n",
       "\n",
       "\n",
       "\n",
       "$xlevels\n",
       ":   \n",
       "\n",
       "\n",
       "$ylevels\n",
       ":   1. 'absent'\n",
       "2. 'present'\n",
       "\n",
       "\n",
       "\n",
       "$class\n",
       ":   'rpart'\n",
       "\n",
       "\n"
      ],
      "text/plain": [
       "$names\n",
       " [1] \"frame\"               \"where\"               \"call\"               \n",
       " [4] \"terms\"               \"cptable\"             \"method\"             \n",
       " [7] \"parms\"               \"control\"             \"functions\"          \n",
       "[10] \"numresp\"             \"splits\"              \"variable.importance\"\n",
       "[13] \"y\"                   \"ordered\"            \n",
       "\n",
       "$xlevels\n",
       "named list()\n",
       "\n",
       "$ylevels\n",
       "[1] \"absent\"  \"present\"\n",
       "\n",
       "$class\n",
       "[1] \"rpart\"\n"
      ]
     },
     "metadata": {},
     "output_type": "display_data"
    },
    {
     "data": {
      "image/png": "[encoded data removed]",
      "text/plain": [
       "plot without title"
      ]
     },
     "metadata": {},
     "output_type": "display_data"
    }
   ],
   "source": [
    "summary(ky.tree)\n",
    "\n",
    "# 오래된 나무모형분석\n",
    "\n",
    "plot(ky.tree)\n",
    "text(ky.tree)\n",
    "attributes(kyphosis.tr)"
   ]
  },
  {
   "cell_type": "markdown",
   "metadata": {},
   "source": [
    "- 훨씬 복잡한 tree 형태.\n",
    "- Pruning이 되어있지 않음.\n",
    "\n",
    "Classification tree:\n",
    "tree(formula = Kyphosis ~ ., data = kyphosis)\n",
    "Number of terminal nodes:  10 \n",
    "Residual mean deviance:  0.5809 = 41.24 / 71 \n",
    "Misclassification error rate: 0.1235 = 10 / 81 \n",
    "$names\n",
    "'frame' 'where' 'call' 'terms' 'cptable' 'method' 'parms' 'control' 'functions' 'numresp' 'splits' 'variable.importance' 'y' 'ordered'\n",
    "$xlevels\n",
    "$ylevels\n",
    "'absent' 'present'\n",
    "$class\n",
    "'rpart'"
   ]
  },
  {
   "cell_type": "code",
   "execution_count": 13,
   "metadata": {},
   "outputs": [
    {
     "name": "stderr",
     "output_type": "stream",
     "text": [
      "Installing package into 'C:/Users/Youngju Hong/Documents/R/win-library/3.6'\n",
      "(as 'lib' is unspecified)\n",
      "also installing the dependencies 'libcoin', 'inum'\n",
      "\n"
     ]
    },
    {
     "name": "stdout",
     "output_type": "stream",
     "text": [
      "package 'libcoin' successfully unpacked and MD5 sums checked\n",
      "package 'inum' successfully unpacked and MD5 sums checked\n",
      "package 'partykit' successfully unpacked and MD5 sums checked\n",
      "\n",
      "The downloaded binary packages are in\n",
      "\tC:\\Users\\Youngju Hong\\AppData\\Local\\Temp\\RtmpiK6D6x\\downloaded_packages\n"
     ]
    },
    {
     "name": "stderr",
     "output_type": "stream",
     "text": [
      "Warning message:\n",
      "\"package 'partykit' was built under R version 3.6.3\"Loading required package: grid\n",
      "Loading required package: libcoin\n",
      "Warning message:\n",
      "\"package 'libcoin' was built under R version 3.6.3\"Loading required package: mvtnorm\n",
      "Warning message:\n",
      "\"package 'mvtnorm' was built under R version 3.6.3\""
     ]
    }
   ],
   "source": [
    "install.packages(\"partykit\")\n",
    "library(partykit)"
   ]
  },
  {
   "cell_type": "code",
   "execution_count": 15,
   "metadata": {},
   "outputs": [
    {
     "data": {
      "text/plain": [
       "\n",
       "Model formula:\n",
       "Kyphosis ~ Age + Number + Start\n",
       "\n",
       "Fitted party:\n",
       "[1] root\n",
       "|   [2] Start >= 8.5\n",
       "|   |   [3] Start >= 14.5: absent (n = 29, err = 0.0%)\n",
       "|   |   [4] Start < 14.5\n",
       "|   |   |   [5] Age < 55: absent (n = 12, err = 0.0%)\n",
       "|   |   |   [6] Age >= 55\n",
       "|   |   |   |   [7] Age >= 111: absent (n = 14, err = 14.3%)\n",
       "|   |   |   |   [8] Age < 111: present (n = 7, err = 42.9%)\n",
       "|   [9] Start < 8.5: present (n = 19, err = 42.1%)\n",
       "\n",
       "Number of inner nodes:    4\n",
       "Number of terminal nodes: 5"
      ]
     },
     "metadata": {},
     "output_type": "display_data"
    },
    {
     "data": {
      "text/html": [
       "<ol class=list-inline>\n",
       "\t<li>'constparty'</li>\n",
       "\t<li>'party'</li>\n",
       "</ol>\n"
      ],
      "text/latex": [
       "\\begin{enumerate*}\n",
       "\\item 'constparty'\n",
       "\\item 'party'\n",
       "\\end{enumerate*}\n"
      ],
      "text/markdown": [
       "1. 'constparty'\n",
       "2. 'party'\n",
       "\n",
       "\n"
      ],
      "text/plain": [
       "[1] \"constparty\" \"party\"     "
      ]
     },
     "metadata": {},
     "output_type": "display_data"
    },
    {
     "data": {
      "image/png": "[encoded data removed]",
      "text/plain": [
       "plot without title"
      ]
     },
     "metadata": {},
     "output_type": "display_data"
    }
   ],
   "source": [
    "kyphosis.party = as.party(kyphosis.tr) #rpart에 만들어진 것을 party로 형성\n",
    "kyphosis.party\n",
    "plot(kyphosis.party)"
   ]
  },
  {
   "cell_type": "code",
   "execution_count": 16,
   "metadata": {},
   "outputs": [
    {
     "name": "stdout",
     "output_type": "stream",
     "text": [
      "\n",
      "Classification tree:\n",
      "rpart(formula = Kyphosis ~ ., data = kyphosis, control = rpart.control(xval = 10))\n",
      "\n",
      "Variables actually used in tree construction:\n",
      "[1] Age   Start\n",
      "\n",
      "Root node error: 17/81 = 0.20988\n",
      "\n",
      "n= 81 \n",
      "\n",
      "        CP nsplit rel error xerror    xstd\n",
      "1 0.176471      0   1.00000 1.0000 0.21559\n",
      "2 0.019608      1   0.82353 1.1765 0.22829\n",
      "3 0.010000      4   0.76471 1.1765 0.22829\n"
     ]
    }
   ],
   "source": [
    "kyphosis.tr.cv = rpart(Kyphosis ~ ., data = kyphosis, control = rpart.control(xval = 10))\n",
    "printcp(kyphosis.tr.cv)"
   ]
  },
  {
   "cell_type": "code",
   "execution_count": 17,
   "metadata": {},
   "outputs": [
    {
     "data": {
      "image/png": "[encoded data removed]",
      "text/plain": [
       "plot without title"
      ]
     },
     "metadata": {},
     "output_type": "display_data"
    }
   ],
   "source": [
    "plotcp(kyphosis.tr.cv)"
   ]
  },
  {
   "cell_type": "code",
   "execution_count": 18,
   "metadata": {},
   "outputs": [
    {
     "data": {
      "image/png": "[encoded data removed]",
      "text/plain": [
       "plot without title"
      ]
     },
     "metadata": {},
     "output_type": "display_data"
    }
   ],
   "source": [
    "kyphosis.tr.info = rpart(Kyphosis ~., data = kyphosis, parm = list(split = \"information\")) #Gini Index\n",
    "kyphosis.tr.info.party = as.party(kyphosis.tr.info)\n",
    "plot(kyphosis.tr.info)"
   ]
  },
  {
   "cell_type": "code",
   "execution_count": null,
   "metadata": {},
   "outputs": [],
   "source": []
  }
 ],
 "metadata": {
  "kernelspec": {
   "display_name": "R",
   "language": "R",
   "name": "ir"
  },
  "language_info": {
   "codemirror_mode": "r",
   "file_extension": ".r",
   "mimetype": "text/x-r-source",
   "name": "R",
   "pygments_lexer": "r",
   "version": "3.6.1"
  }
 },
 "nbformat": 4,
 "nbformat_minor": 4
}
