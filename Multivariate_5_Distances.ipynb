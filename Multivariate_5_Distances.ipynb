{
 "cells": [
  {
   "cell_type": "code",
   "execution_count": 2,
   "metadata": {},
   "outputs": [],
   "source": [
    "data = c(165,63,85,170,70,90,180,75,105,173,70,85)\n",
    "data = matrix(data, ncol = 3, byrow = T)"
   ]
  },
  {
   "cell_type": "code",
   "execution_count": 9,
   "metadata": {},
   "outputs": [],
   "source": [
    "euclidean.distance = dist(data, 'euclidean', diag = TRUE, upper = TRUE,  p = 2)\n",
    "#diag: 자기 자신의 거리 출력, upper: 행렬 윗부분 출력, p: euclidean"
   ]
  },
  {
   "cell_type": "code",
   "execution_count": 11,
   "metadata": {},
   "outputs": [
    {
     "name": "stdout",
     "output_type": "stream",
     "text": [
      "          1         2         3         4\n",
      "1  0.000000  9.949874 27.730849 10.630146\n",
      "2  9.949874  0.000000 18.708287  5.830952\n",
      "3 27.730849 18.708287  0.000000 21.771541\n",
      "4 10.630146  5.830952 21.771541  0.000000\n"
     ]
    }
   ],
   "source": [
    "print(euclidean.distance)\n",
    "#x[ij]: i 행벡터와 j 행벡터간의 유클리디안 거리"
   ]
  },
  {
   "cell_type": "code",
   "execution_count": null,
   "metadata": {},
   "outputs": [],
   "source": []
  }
 ],
 "metadata": {
  "kernelspec": {
   "display_name": "R",
   "language": "R",
   "name": "ir"
  },
  "language_info": {
   "codemirror_mode": "r",
   "file_extension": ".r",
   "mimetype": "text/x-r-source",
   "name": "R",
   "pygments_lexer": "r",
   "version": "3.6.1"
  }
 },
 "nbformat": 4,
 "nbformat_minor": 4
}
